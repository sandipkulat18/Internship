{
 "cells": [
  {
   "cell_type": "code",
   "execution_count": 15,
   "id": "c9c8d4ab",
   "metadata": {},
   "outputs": [],
   "source": [
    "import selenium\n",
    "import pandas as pd\n",
    "from selenium import webdriver\n",
    "from selenium.common.exceptions import StaleElementReferenceException,NoSuchElementException\n",
    "from selenium.webdriver.common.by import By\n",
    "import time\n",
    "import warnings\n",
    "warnings.filterwarnings('ignore')"
   ]
  },
  {
   "cell_type": "code",
   "execution_count": 16,
   "id": "69ff2a04",
   "metadata": {},
   "outputs": [],
   "source": [
    "driver=webdriver.Chrome(r'C:\\Users\\admin\\Downloads\\chromedriver_win32\\chromedriver.exe')"
   ]
  },
  {
   "cell_type": "code",
   "execution_count": 17,
   "id": "bb44d06d",
   "metadata": {},
   "outputs": [],
   "source": [
    "driver.get('https://www.jagranjosh.com/')"
   ]
  },
  {
   "cell_type": "code",
   "execution_count": 19,
   "id": "6258b074",
   "metadata": {},
   "outputs": [],
   "source": [
    "next_button=driver.find_element(By.XPATH,'//a[@href=\"https://www.jagranjosh.com/general-knowledge/list-of-all-prime-ministers-of-india-1473165149-1\"]')\n",
    "next_button.click()"
   ]
  },
  {
   "cell_type": "code",
   "execution_count": 20,
   "id": "6f46d506",
   "metadata": {},
   "outputs": [],
   "source": [
    "header=driver.find_elements(By.XPATH,'//div[@class=\"table-box\"]')"
   ]
  },
  {
   "cell_type": "code",
   "execution_count": 30,
   "id": "ab2ebf1b",
   "metadata": {},
   "outputs": [],
   "source": [
    "Name=[]\n",
    "names=driver.find_elements(By.XPATH,'//div[@class=\"table-box\"]/table/tbody/tr/td[2]/p')\n",
    "\n",
    "for name in names:\n",
    "\n",
    "    Name.append(name.text)"
   ]
  },
  {
   "cell_type": "code",
   "execution_count": 38,
   "id": "d45658ef",
   "metadata": {},
   "outputs": [
    {
     "data": {
      "text/plain": [
       "['Jawahar Lal Nehru',\n",
       " 'Gulzarilal Nanda (Acting)',\n",
       " 'Lal Bahadur Shastri',\n",
       " 'Gulzari Lal Nanda  (Acting)',\n",
       " 'Indira Gandhi',\n",
       " 'Morarji Desai',\n",
       " 'Charan Singh',\n",
       " 'Indira Gandhi',\n",
       " 'Rajiv Gandhi',\n",
       " 'V. P. Singh',\n",
       " 'Chandra Shekhar',\n",
       " 'P. V. Narasimha Rao',\n",
       " 'Atal Bihari Vajpayee',\n",
       " 'H. D. Deve Gowda',\n",
       " 'Inder Kumar Gujral',\n",
       " 'Atal Bihari Vajpayee',\n",
       " 'Manmohan Singh',\n",
       " 'Narendra Modi']"
      ]
     },
     "execution_count": 38,
     "metadata": {},
     "output_type": "execute_result"
    }
   ],
   "source": [
    "Name[0:20]"
   ]
  },
  {
   "cell_type": "code",
   "execution_count": 24,
   "id": "401c0a72",
   "metadata": {},
   "outputs": [],
   "source": [
    "Born_died=[]\n",
    "name=driver.find_elements(By.XPATH,'//div[@class=\"table-box\"]/table/tbody/tr/td[3]/p')\n",
    "for i in name:\n",
    "    Born_died.append(i.text)"
   ]
  },
  {
   "cell_type": "code",
   "execution_count": 39,
   "id": "5003d724",
   "metadata": {},
   "outputs": [
    {
     "data": {
      "text/plain": [
       "['(1889–1964)',\n",
       " '(1898-1998)',\n",
       " '(1904–1966)',\n",
       " '(1898-1998)',\n",
       " '(1917–1984)',\n",
       " '(1896–1995)',\n",
       " '(1902–1987)',\n",
       " '(1917–1984)',\n",
       " '(1944–1991)',\n",
       " '(1931–2008)',\n",
       " '(1927–2007)',\n",
       " '(1921–2004)',\n",
       " '(1924- 2018)',\n",
       " '(born 1933)',\n",
       " '(1919–2012)',\n",
       " '(1924-2018)',\n",
       " '(born 1932)',\n",
       " '(born 1950)']"
      ]
     },
     "execution_count": 39,
     "metadata": {},
     "output_type": "execute_result"
    }
   ],
   "source": [
    "Born_died[0:20]"
   ]
  },
  {
   "cell_type": "code",
   "execution_count": 32,
   "id": "7ac4f169",
   "metadata": {},
   "outputs": [],
   "source": [
    "Term_office=[]\n",
    "term=driver.find_elements(By.XPATH,'//div[@class=\"table-box\"]/table/tbody/tr/td[4]/p[1]')\n",
    "for i in term:\n",
    "    Term_office.append(i.text)"
   ]
  },
  {
   "cell_type": "code",
   "execution_count": 40,
   "id": "26cb6db1",
   "metadata": {},
   "outputs": [
    {
     "data": {
      "text/plain": [
       "['15 August 1947 to 27 May 1964',\n",
       " '27 May 1964 to 9 June 1964,',\n",
       " '9 June 1964 to 11 January 1966',\n",
       " '11 January 1966 to 24 January 1966',\n",
       " '24 January 1966 to 24 March 1977',\n",
       " '24 March 1977 to  28 July 1979 ',\n",
       " '28 July 1979 to 14 January 1980',\n",
       " '14 January 1980 to 31 October 1984',\n",
       " '31 October 1984 to 2 December 1989',\n",
       " '2 December 1989 to 10 November 1990',\n",
       " '10 November 1990 to 21 June 1991',\n",
       " '21 June 1991 to 16 May 1996',\n",
       " '16 May 1996 to 1 June 1996',\n",
       " '1 June 1996 to 21 April 1997',\n",
       " '21 April 1997 to 19 March 1998 ',\n",
       " '19 March 1998 to 22 May 2004 ',\n",
       " '22 May 2004 to 26 May 2014   ',\n",
       " '26 May 2014 - Present']"
      ]
     },
     "execution_count": 40,
     "metadata": {},
     "output_type": "execute_result"
    }
   ],
   "source": [
    "Term_office[0:20]"
   ]
  },
  {
   "cell_type": "code",
   "execution_count": 34,
   "id": "a18b2a54",
   "metadata": {},
   "outputs": [],
   "source": [
    "Remarks=[]\n",
    "remark=driver.find_elements(By.XPATH,'//div[@class=\"table-box\"]/table/tbody/tr/td[5]/p')\n",
    "for i in remark:\n",
    "    Remarks.append(i.text)"
   ]
  },
  {
   "cell_type": "code",
   "execution_count": 41,
   "id": "d67fac95",
   "metadata": {},
   "outputs": [
    {
     "data": {
      "text/plain": [
       "['The first prime minister of India and the longest-serving PM of India, the first to die in office.',\n",
       " 'First acting PM of India',\n",
       " \"He has given the slogan of 'Jai Jawan Jai Kisan' during the Indo-Pak war of 1965\",\n",
       " '-',\n",
       " 'First female Prime Minister of India',\n",
       " 'Oldest to become PM (81 years old) and first to resign from office',\n",
       " 'Only PM who did not face the Parliament',\n",
       " 'The first lady who served as PM for the second term',\n",
       " 'Youngest to become PM (40 years old)',\n",
       " 'First PM to step down after a vote of no confidence',\n",
       " 'He belongs to  Samajwadi Janata Party',\n",
       " 'First PM from south India',\n",
       " 'PM for shortest tenure',\n",
       " 'He belongs to  Janata Dal',\n",
       " '------',\n",
       " ' The first non-congress PM who completed a full term as PM',\n",
       " ' First Sikh PM',\n",
       " '4th Prime Minister of India who served two consecutive tenures']"
      ]
     },
     "execution_count": 41,
     "metadata": {},
     "output_type": "execute_result"
    }
   ],
   "source": [
    "Remarks[0:20]"
   ]
  },
  {
   "cell_type": "code",
   "execution_count": 36,
   "id": "3ff4563a",
   "metadata": {},
   "outputs": [],
   "source": [
    "peroid=[]\n",
    "terms=driver.find_elements(By.XPATH,'//div[@class=\"table-box\"]/table/tbody/tr/td[4]/p[2]')\n",
    "for i in terms:\n",
    "    peroid.append(i.text)"
   ]
  },
  {
   "cell_type": "code",
   "execution_count": 42,
   "id": "6f400d24",
   "metadata": {},
   "outputs": [
    {
     "data": {
      "text/plain": [
       "['16 years, 286 days',\n",
       " '13 days',\n",
       " '1 year, 216 days',\n",
       " '13 days',\n",
       " '11 years, 59 days',\n",
       " '2 year, 126 days',\n",
       " '170 days',\n",
       " '4 years, 291 days',\n",
       " '5 years, 32 days',\n",
       " '343 days',\n",
       " '223 days',\n",
       " '4 years, 330 days',\n",
       " '16 days',\n",
       " '324 days',\n",
       " '332 days',\n",
       " '6 years, 64 days',\n",
       " '10 years, 4 days']"
      ]
     },
     "execution_count": 42,
     "metadata": {},
     "output_type": "execute_result"
    }
   ],
   "source": [
    "peroid[0:20]"
   ]
  },
  {
   "cell_type": "code",
   "execution_count": 44,
   "id": "ad906397",
   "metadata": {},
   "outputs": [
    {
     "name": "stdout",
     "output_type": "stream",
     "text": [
      "18 18 17 18 18\n"
     ]
    }
   ],
   "source": [
    "print(len(Name),len(Term_office),len(peroid),len(Born_died),len(Remarks))"
   ]
  },
  {
   "cell_type": "code",
   "execution_count": 45,
   "id": "264cac23",
   "metadata": {},
   "outputs": [],
   "source": [
    "df=pd.DataFrame({})\n",
    "df['Name']=Name\n",
    "df[\"Term Of Office\"]=Term_office\n",
    "df[\"Born- Died\"]=Born_died\n",
    "df[\"Remark\"]=Remarks"
   ]
  },
  {
   "cell_type": "code",
   "execution_count": 46,
   "id": "d6175eb2",
   "metadata": {},
   "outputs": [
    {
     "data": {
      "text/html": [
       "<div>\n",
       "<style scoped>\n",
       "    .dataframe tbody tr th:only-of-type {\n",
       "        vertical-align: middle;\n",
       "    }\n",
       "\n",
       "    .dataframe tbody tr th {\n",
       "        vertical-align: top;\n",
       "    }\n",
       "\n",
       "    .dataframe thead th {\n",
       "        text-align: right;\n",
       "    }\n",
       "</style>\n",
       "<table border=\"1\" class=\"dataframe\">\n",
       "  <thead>\n",
       "    <tr style=\"text-align: right;\">\n",
       "      <th></th>\n",
       "      <th>Name</th>\n",
       "      <th>Term Of Office</th>\n",
       "      <th>Born- Died</th>\n",
       "      <th>Remark</th>\n",
       "    </tr>\n",
       "  </thead>\n",
       "  <tbody>\n",
       "    <tr>\n",
       "      <th>0</th>\n",
       "      <td>Jawahar Lal Nehru</td>\n",
       "      <td>15 August 1947 to 27 May 1964</td>\n",
       "      <td>(1889–1964)</td>\n",
       "      <td>The first prime minister of India and the long...</td>\n",
       "    </tr>\n",
       "    <tr>\n",
       "      <th>1</th>\n",
       "      <td>Gulzarilal Nanda (Acting)</td>\n",
       "      <td>27 May 1964 to 9 June 1964,</td>\n",
       "      <td>(1898-1998)</td>\n",
       "      <td>First acting PM of India</td>\n",
       "    </tr>\n",
       "    <tr>\n",
       "      <th>2</th>\n",
       "      <td>Lal Bahadur Shastri</td>\n",
       "      <td>9 June 1964 to 11 January 1966</td>\n",
       "      <td>(1904–1966)</td>\n",
       "      <td>He has given the slogan of 'Jai Jawan Jai Kisa...</td>\n",
       "    </tr>\n",
       "    <tr>\n",
       "      <th>3</th>\n",
       "      <td>Gulzari Lal Nanda  (Acting)</td>\n",
       "      <td>11 January 1966 to 24 January 1966</td>\n",
       "      <td>(1898-1998)</td>\n",
       "      <td>-</td>\n",
       "    </tr>\n",
       "    <tr>\n",
       "      <th>4</th>\n",
       "      <td>Indira Gandhi</td>\n",
       "      <td>24 January 1966 to 24 March 1977</td>\n",
       "      <td>(1917–1984)</td>\n",
       "      <td>First female Prime Minister of India</td>\n",
       "    </tr>\n",
       "    <tr>\n",
       "      <th>5</th>\n",
       "      <td>Morarji Desai</td>\n",
       "      <td>24 March 1977 to  28 July 1979</td>\n",
       "      <td>(1896–1995)</td>\n",
       "      <td>Oldest to become PM (81 years old) and first t...</td>\n",
       "    </tr>\n",
       "    <tr>\n",
       "      <th>6</th>\n",
       "      <td>Charan Singh</td>\n",
       "      <td>28 July 1979 to 14 January 1980</td>\n",
       "      <td>(1902–1987)</td>\n",
       "      <td>Only PM who did not face the Parliament</td>\n",
       "    </tr>\n",
       "    <tr>\n",
       "      <th>7</th>\n",
       "      <td>Indira Gandhi</td>\n",
       "      <td>14 January 1980 to 31 October 1984</td>\n",
       "      <td>(1917–1984)</td>\n",
       "      <td>The first lady who served as PM for the second...</td>\n",
       "    </tr>\n",
       "    <tr>\n",
       "      <th>8</th>\n",
       "      <td>Rajiv Gandhi</td>\n",
       "      <td>31 October 1984 to 2 December 1989</td>\n",
       "      <td>(1944–1991)</td>\n",
       "      <td>Youngest to become PM (40 years old)</td>\n",
       "    </tr>\n",
       "    <tr>\n",
       "      <th>9</th>\n",
       "      <td>V. P. Singh</td>\n",
       "      <td>2 December 1989 to 10 November 1990</td>\n",
       "      <td>(1931–2008)</td>\n",
       "      <td>First PM to step down after a vote of no confi...</td>\n",
       "    </tr>\n",
       "    <tr>\n",
       "      <th>10</th>\n",
       "      <td>Chandra Shekhar</td>\n",
       "      <td>10 November 1990 to 21 June 1991</td>\n",
       "      <td>(1927–2007)</td>\n",
       "      <td>He belongs to  Samajwadi Janata Party</td>\n",
       "    </tr>\n",
       "    <tr>\n",
       "      <th>11</th>\n",
       "      <td>P. V. Narasimha Rao</td>\n",
       "      <td>21 June 1991 to 16 May 1996</td>\n",
       "      <td>(1921–2004)</td>\n",
       "      <td>First PM from south India</td>\n",
       "    </tr>\n",
       "    <tr>\n",
       "      <th>12</th>\n",
       "      <td>Atal Bihari Vajpayee</td>\n",
       "      <td>16 May 1996 to 1 June 1996</td>\n",
       "      <td>(1924- 2018)</td>\n",
       "      <td>PM for shortest tenure</td>\n",
       "    </tr>\n",
       "    <tr>\n",
       "      <th>13</th>\n",
       "      <td>H. D. Deve Gowda</td>\n",
       "      <td>1 June 1996 to 21 April 1997</td>\n",
       "      <td>(born 1933)</td>\n",
       "      <td>He belongs to  Janata Dal</td>\n",
       "    </tr>\n",
       "    <tr>\n",
       "      <th>14</th>\n",
       "      <td>Inder Kumar Gujral</td>\n",
       "      <td>21 April 1997 to 19 March 1998</td>\n",
       "      <td>(1919–2012)</td>\n",
       "      <td>------</td>\n",
       "    </tr>\n",
       "    <tr>\n",
       "      <th>15</th>\n",
       "      <td>Atal Bihari Vajpayee</td>\n",
       "      <td>19 March 1998 to 22 May 2004</td>\n",
       "      <td>(1924-2018)</td>\n",
       "      <td>The first non-congress PM who completed a ful...</td>\n",
       "    </tr>\n",
       "    <tr>\n",
       "      <th>16</th>\n",
       "      <td>Manmohan Singh</td>\n",
       "      <td>22 May 2004 to 26 May 2014</td>\n",
       "      <td>(born 1932)</td>\n",
       "      <td>First Sikh PM</td>\n",
       "    </tr>\n",
       "    <tr>\n",
       "      <th>17</th>\n",
       "      <td>Narendra Modi</td>\n",
       "      <td>26 May 2014 - Present</td>\n",
       "      <td>(born 1950)</td>\n",
       "      <td>4th Prime Minister of India who served two con...</td>\n",
       "    </tr>\n",
       "  </tbody>\n",
       "</table>\n",
       "</div>"
      ],
      "text/plain": [
       "                           Name                       Term Of Office  \\\n",
       "0             Jawahar Lal Nehru        15 August 1947 to 27 May 1964   \n",
       "1     Gulzarilal Nanda (Acting)          27 May 1964 to 9 June 1964,   \n",
       "2           Lal Bahadur Shastri       9 June 1964 to 11 January 1966   \n",
       "3   Gulzari Lal Nanda  (Acting)   11 January 1966 to 24 January 1966   \n",
       "4                 Indira Gandhi     24 January 1966 to 24 March 1977   \n",
       "5                 Morarji Desai      24 March 1977 to  28 July 1979    \n",
       "6                  Charan Singh      28 July 1979 to 14 January 1980   \n",
       "7                 Indira Gandhi   14 January 1980 to 31 October 1984   \n",
       "8                  Rajiv Gandhi   31 October 1984 to 2 December 1989   \n",
       "9                   V. P. Singh  2 December 1989 to 10 November 1990   \n",
       "10              Chandra Shekhar     10 November 1990 to 21 June 1991   \n",
       "11          P. V. Narasimha Rao          21 June 1991 to 16 May 1996   \n",
       "12         Atal Bihari Vajpayee           16 May 1996 to 1 June 1996   \n",
       "13             H. D. Deve Gowda         1 June 1996 to 21 April 1997   \n",
       "14           Inder Kumar Gujral      21 April 1997 to 19 March 1998    \n",
       "15         Atal Bihari Vajpayee        19 March 1998 to 22 May 2004    \n",
       "16               Manmohan Singh        22 May 2004 to 26 May 2014      \n",
       "17                Narendra Modi                26 May 2014 - Present   \n",
       "\n",
       "      Born- Died                                             Remark  \n",
       "0    (1889–1964)  The first prime minister of India and the long...  \n",
       "1    (1898-1998)                           First acting PM of India  \n",
       "2    (1904–1966)  He has given the slogan of 'Jai Jawan Jai Kisa...  \n",
       "3    (1898-1998)                                                  -  \n",
       "4    (1917–1984)               First female Prime Minister of India  \n",
       "5    (1896–1995)  Oldest to become PM (81 years old) and first t...  \n",
       "6    (1902–1987)            Only PM who did not face the Parliament  \n",
       "7    (1917–1984)  The first lady who served as PM for the second...  \n",
       "8    (1944–1991)               Youngest to become PM (40 years old)  \n",
       "9    (1931–2008)  First PM to step down after a vote of no confi...  \n",
       "10   (1927–2007)              He belongs to  Samajwadi Janata Party  \n",
       "11   (1921–2004)                          First PM from south India  \n",
       "12  (1924- 2018)                             PM for shortest tenure  \n",
       "13   (born 1933)                          He belongs to  Janata Dal  \n",
       "14   (1919–2012)                                             ------  \n",
       "15   (1924-2018)   The first non-congress PM who completed a ful...  \n",
       "16   (born 1932)                                      First Sikh PM  \n",
       "17   (born 1950)  4th Prime Minister of India who served two con...  "
      ]
     },
     "execution_count": 46,
     "metadata": {},
     "output_type": "execute_result"
    }
   ],
   "source": [
    "df"
   ]
  },
  {
   "cell_type": "code",
   "execution_count": null,
   "id": "9aeb3a80",
   "metadata": {},
   "outputs": [],
   "source": []
  }
 ],
 "metadata": {
  "kernelspec": {
   "display_name": "Python 3 (ipykernel)",
   "language": "python",
   "name": "python3"
  },
  "language_info": {
   "codemirror_mode": {
    "name": "ipython",
    "version": 3
   },
   "file_extension": ".py",
   "mimetype": "text/x-python",
   "name": "python",
   "nbconvert_exporter": "python",
   "pygments_lexer": "ipython3",
   "version": "3.9.13"
  }
 },
 "nbformat": 4,
 "nbformat_minor": 5
}
