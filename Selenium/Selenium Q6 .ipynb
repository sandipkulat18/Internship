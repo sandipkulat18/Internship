{
 "cells": [
  {
   "cell_type": "code",
   "execution_count": 78,
   "id": "eafa435a",
   "metadata": {},
   "outputs": [],
   "source": [
    "import selenium\n",
    "import pandas as pd\n",
    "from selenium import webdriver\n",
    "from selenium.common.exceptions import StaleElementReferenceException,NoSuchElementException\n",
    "from selenium.webdriver.common.by import By\n",
    "import time\n",
    "import warnings\n",
    "warnings.filterwarnings('ignore')"
   ]
  },
  {
   "cell_type": "code",
   "execution_count": 79,
   "id": "d4d32ca5",
   "metadata": {},
   "outputs": [],
   "source": [
    "driver=webdriver.Chrome(r'C:\\Users\\admin\\Downloads\\chromedriver_win32\\chromedriver.exe')"
   ]
  },
  {
   "cell_type": "code",
   "execution_count": 80,
   "id": "f068ed7c",
   "metadata": {},
   "outputs": [],
   "source": [
    "driver.get('https://www.flipkart.com/search?q=sneakers&as=on&as-show=on&otracker=AS_Query_OrganicAutoSuggest_3_2_na_na_na&otracker1=AS_Query_OrganicAutoSuggest_3_2_na_na_na&as-pos=3&as-type=RECENT&suggestionId=sneakers&requestId=c384562a-6534-43a9-8f2c-b9a1211012aa&as-backfill=on')"
   ]
  },
  {
   "cell_type": "code",
   "execution_count": 82,
   "id": "2be2598e",
   "metadata": {},
   "outputs": [],
   "source": [
    "search = driver.find_element(By.XPATH,\"//input[@class='_3704LK']\")\n",
    "search.send_keys(\"sneakers\")\n",
    "search_btn = driver.find_element(By.XPATH,\"//button[@class='L0Z3Pu']\")\n",
    "search_btn.click()"
   ]
  },
  {
   "cell_type": "code",
   "execution_count": 83,
   "id": "a2c42d2e",
   "metadata": {},
   "outputs": [],
   "source": [
    "a=1\n",
    "url=[]\n",
    "for i  in range(1,10):\n",
    "    no='https://www.flipkart.com/search?q=sneakers&as=on&as-show=on&otracker=AS_Query_OrganicAutoSuggest_3_2_na_na_na&otracker1=AS_Query_OrganicAutoSuggest_3_2_na_na_na&as-pos=3&as-type=RECENT&suggestionId=sneakers&requestId=c384562a-6534-43a9-8f2c-b9a1211012aa&as-backfill=on9'+str(a)\n",
    "    a=a+1\n",
    "    url.append(no)\n",
    "    \n"
   ]
  },
  {
   "cell_type": "code",
   "execution_count": 84,
   "id": "bdf3c633",
   "metadata": {},
   "outputs": [],
   "source": [
    "Brand=[]\n",
    "Product_Description=[]\n",
    "Price=[]"
   ]
  },
  {
   "cell_type": "code",
   "execution_count": 85,
   "id": "3ad060af",
   "metadata": {},
   "outputs": [
    {
     "data": {
      "text/plain": [
       "['GVR', 'SFR', 'World Wear Footwear', 'HRX by Hrithik Roshan', 'aadi']"
      ]
     },
     "execution_count": 85,
     "metadata": {},
     "output_type": "execute_result"
    }
   ],
   "source": [
    "for i in url:\n",
    "    driver.get(i)\n",
    "    \n",
    "    brand=driver.find_elements(By.XPATH,'//div[@class=\"_2WkVRV\"]')\n",
    "    \n",
    "    for j in brand:\n",
    "        a=j.text\n",
    "        Brand.append(a)\n",
    "Brand[0:5]"
   ]
  },
  {
   "cell_type": "code",
   "execution_count": 86,
   "id": "392ae2f8",
   "metadata": {},
   "outputs": [
    {
     "data": {
      "text/plain": [
       "['CLASSIC CT SNEAKER Sneakers For Men',\n",
       " '2006 Trenddy Fashion Sporty Casuals Sneakers Running Sh...',\n",
       " '5011-Latest Collection Stylish & Trendy Casual Sneakers...',\n",
       " 'ACTIVE RUN Sneakers For Men',\n",
       " 'Synthetic Leather |Lightweight|Comfort|Summer|Trendy|Wa...']"
      ]
     },
     "execution_count": 86,
     "metadata": {},
     "output_type": "execute_result"
    }
   ],
   "source": [
    "for i in url:\n",
    "    driver.get(i)\n",
    "    \n",
    "    product=driver.find_elements(By.XPATH,'//a[@class=\"IRpwTa\"]')\n",
    "    \n",
    "    for j in product:\n",
    "        Product_Description.append(j.text)\n",
    "Product_Description[0:5]"
   ]
  },
  {
   "cell_type": "code",
   "execution_count": 87,
   "id": "1f403b01",
   "metadata": {},
   "outputs": [
    {
     "data": {
      "text/plain": [
       "['₹749', '₹399', '₹199', '₹1,047', '₹434']"
      ]
     },
     "execution_count": 87,
     "metadata": {},
     "output_type": "execute_result"
    }
   ],
   "source": [
    "for i in url:\n",
    "    driver.get(i)\n",
    "    \n",
    "    rats=driver.find_elements(By.XPATH,'//div[@class=\"_30jeq3\"]')\n",
    "    \n",
    "    for i in rats:\n",
    "        Price.append(i.text)\n",
    "Price[0:5]"
   ]
  },
  {
   "cell_type": "code",
   "execution_count": 88,
   "id": "6adeb012",
   "metadata": {},
   "outputs": [
    {
     "data": {
      "text/html": [
       "<div>\n",
       "<style scoped>\n",
       "    .dataframe tbody tr th:only-of-type {\n",
       "        vertical-align: middle;\n",
       "    }\n",
       "\n",
       "    .dataframe tbody tr th {\n",
       "        vertical-align: top;\n",
       "    }\n",
       "\n",
       "    .dataframe thead th {\n",
       "        text-align: right;\n",
       "    }\n",
       "</style>\n",
       "<table border=\"1\" class=\"dataframe\">\n",
       "  <thead>\n",
       "    <tr style=\"text-align: right;\">\n",
       "      <th></th>\n",
       "      <th>Brand</th>\n",
       "      <th>Product_Description</th>\n",
       "      <th>Price</th>\n",
       "    </tr>\n",
       "  </thead>\n",
       "  <tbody>\n",
       "    <tr>\n",
       "      <th>0</th>\n",
       "      <td>GVR</td>\n",
       "      <td>CLASSIC CT SNEAKER Sneakers For Men</td>\n",
       "      <td>₹749</td>\n",
       "    </tr>\n",
       "    <tr>\n",
       "      <th>1</th>\n",
       "      <td>SFR</td>\n",
       "      <td>2006 Trenddy Fashion Sporty Casuals Sneakers R...</td>\n",
       "      <td>₹399</td>\n",
       "    </tr>\n",
       "    <tr>\n",
       "      <th>2</th>\n",
       "      <td>World Wear Footwear</td>\n",
       "      <td>5011-Latest Collection Stylish &amp; Trendy Casual...</td>\n",
       "      <td>₹199</td>\n",
       "    </tr>\n",
       "    <tr>\n",
       "      <th>3</th>\n",
       "      <td>HRX by Hrithik Roshan</td>\n",
       "      <td>ACTIVE RUN Sneakers For Men</td>\n",
       "      <td>₹1,047</td>\n",
       "    </tr>\n",
       "    <tr>\n",
       "      <th>4</th>\n",
       "      <td>aadi</td>\n",
       "      <td>Synthetic Leather |Lightweight|Comfort|Summer|...</td>\n",
       "      <td>₹434</td>\n",
       "    </tr>\n",
       "    <tr>\n",
       "      <th>...</th>\n",
       "      <td>...</td>\n",
       "      <td>...</td>\n",
       "      <td>...</td>\n",
       "    </tr>\n",
       "    <tr>\n",
       "      <th>95</th>\n",
       "      <td>BRUTON</td>\n",
       "      <td>2 Combo Sneaker Shoes Sneakers For Men</td>\n",
       "      <td>₹591</td>\n",
       "    </tr>\n",
       "    <tr>\n",
       "      <th>96</th>\n",
       "      <td>RED TAPE</td>\n",
       "      <td>Sneakers For Men</td>\n",
       "      <td>₹1,319</td>\n",
       "    </tr>\n",
       "    <tr>\n",
       "      <th>97</th>\n",
       "      <td>Asian Shoes</td>\n",
       "      <td>Future-04 casual shoes for men | Latest Stylis...</td>\n",
       "      <td>₹449</td>\n",
       "    </tr>\n",
       "    <tr>\n",
       "      <th>98</th>\n",
       "      <td>SFR</td>\n",
       "      <td>Sneakers For Men</td>\n",
       "      <td>₹399</td>\n",
       "    </tr>\n",
       "    <tr>\n",
       "      <th>99</th>\n",
       "      <td>BRUTON</td>\n",
       "      <td>2 Combo Sneaker Shoes Sneakers For Men</td>\n",
       "      <td>₹606</td>\n",
       "    </tr>\n",
       "  </tbody>\n",
       "</table>\n",
       "<p>100 rows × 3 columns</p>\n",
       "</div>"
      ],
      "text/plain": [
       "                    Brand                                Product_Description  \\\n",
       "0                     GVR                CLASSIC CT SNEAKER Sneakers For Men   \n",
       "1                     SFR  2006 Trenddy Fashion Sporty Casuals Sneakers R...   \n",
       "2     World Wear Footwear  5011-Latest Collection Stylish & Trendy Casual...   \n",
       "3   HRX by Hrithik Roshan                        ACTIVE RUN Sneakers For Men   \n",
       "4                    aadi  Synthetic Leather |Lightweight|Comfort|Summer|...   \n",
       "..                    ...                                                ...   \n",
       "95                 BRUTON             2 Combo Sneaker Shoes Sneakers For Men   \n",
       "96               RED TAPE                                   Sneakers For Men   \n",
       "97            Asian Shoes  Future-04 casual shoes for men | Latest Stylis...   \n",
       "98                    SFR                                   Sneakers For Men   \n",
       "99                 BRUTON             2 Combo Sneaker Shoes Sneakers For Men   \n",
       "\n",
       "     Price  \n",
       "0     ₹749  \n",
       "1     ₹399  \n",
       "2     ₹199  \n",
       "3   ₹1,047  \n",
       "4     ₹434  \n",
       "..     ...  \n",
       "95    ₹591  \n",
       "96  ₹1,319  \n",
       "97    ₹449  \n",
       "98    ₹399  \n",
       "99    ₹606  \n",
       "\n",
       "[100 rows x 3 columns]"
      ]
     },
     "execution_count": 88,
     "metadata": {},
     "output_type": "execute_result"
    }
   ],
   "source": [
    "df=pd.DataFrame({})\n",
    "df['Brand']=Brand[0:100]\n",
    "df['Product_Description']=Product_Description[0:100]\n",
    "df['Price']=Price[0:100]\n",
    "df\n"
   ]
  }
 ],
 "metadata": {
  "kernelspec": {
   "display_name": "Python 3 (ipykernel)",
   "language": "python",
   "name": "python3"
  },
  "language_info": {
   "codemirror_mode": {
    "name": "ipython",
    "version": 3
   },
   "file_extension": ".py",
   "mimetype": "text/x-python",
   "name": "python",
   "nbconvert_exporter": "python",
   "pygments_lexer": "ipython3",
   "version": "3.9.13"
  }
 },
 "nbformat": 4,
 "nbformat_minor": 5
}
