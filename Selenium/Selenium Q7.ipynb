{
 "cells": [
  {
   "cell_type": "code",
   "execution_count": 1,
   "id": "ddca4d3b",
   "metadata": {},
   "outputs": [],
   "source": [
    "import selenium\n",
    "import pandas as pd\n",
    "from selenium import webdriver\n",
    "from selenium.common.exceptions import StaleElementReferenceException,NoSuchElementException\n",
    "from selenium.webdriver.common.by import By\n",
    "import time\n",
    "import warnings\n",
    "warnings.filterwarnings('ignore')"
   ]
  },
  {
   "cell_type": "code",
   "execution_count": 2,
   "id": "5fb27ecc",
   "metadata": {},
   "outputs": [],
   "source": [
    "driver=webdriver.Chrome(r\"‪C:\\Users\\admin\\Downloads\\chromedriver_win32\\chromedriver.exe\")"
   ]
  },
  {
   "cell_type": "code",
   "execution_count": 3,
   "id": "e683204f",
   "metadata": {},
   "outputs": [],
   "source": [
    "driver.get('https://www.amazon.in/')"
   ]
  },
  {
   "cell_type": "code",
   "execution_count": 4,
   "id": "8051b81b",
   "metadata": {},
   "outputs": [],
   "source": [
    "designation=driver.find_element(By.XPATH,'//input[@type=\"text\"]')\n",
    "designation.send_keys('Laptop')"
   ]
  },
  {
   "cell_type": "code",
   "execution_count": 11,
   "id": "8bcfdcd8",
   "metadata": {},
   "outputs": [],
   "source": [
    "search=driver.find_element(By.XPATH,'//input[@id=\"nav-search-submit-button\"]')\n",
    "search.click()"
   ]
  },
  {
   "cell_type": "code",
   "execution_count": null,
   "id": "1e8cdbe4",
   "metadata": {},
   "outputs": [],
   "source": []
  },
  {
   "cell_type": "code",
   "execution_count": 12,
   "id": "7a686e8c",
   "metadata": {},
   "outputs": [],
   "source": [
    "Title=[]\n",
    "Ratings=[]\n",
    "Price=[]"
   ]
  },
  {
   "cell_type": "code",
   "execution_count": 13,
   "id": "b1d7d82b",
   "metadata": {},
   "outputs": [],
   "source": [
    "title=driver.find_elements(By.XPATH,'//span[@class=\"a-size-medium a-color-base a-text-normal\"]')\n",
    "for i in title[0:10]:\n",
    "    Title.append(i.text)"
   ]
  },
  {
   "cell_type": "code",
   "execution_count": 14,
   "id": "cc50873d",
   "metadata": {},
   "outputs": [
    {
     "data": {
      "text/plain": [
       "['ASUS Vivobook 14, Intel Core i7-1165G7 11th Gen, 14\" (35.56 cm) FHD, Thin and Laptop (16GB/512GB SSD/Intel Iris Xe Graphics/Windows 11/Office 2021/FP Sensor/Silver/1.55 kg), X415EA-EK701WS',\n",
       " 'Lenovo ThinkBook 15 Intel 11th Gen Core i7 15.6\"(39.62 cm) FHD Thin and Light Laptop (16GB/512GB SSD/Windows 11 Home/MS Office H&S 2021/Iris® Xe Graphics/Backlit/Mineral Grey/1.7 Kg) 20VE00W4IH',\n",
       " 'Acer Nitro 5 Gaming Laptop Intel core i7 11th Gen (16 GB/ 512 GB SSD/ NVIDIA® GeForce RTX 3050 Ti/ Windows 11 Home/144hz) AN515-57 with 39.6 cm (15.6 inches) IPS Display / 2.2 Kgs',\n",
       " 'HP Pavilion Plus, 12th Gen Intel Core i7 16GB RAM/1TB SSD 14 inch(35.6 cm)Creator Laptop with OLED,UWVA,Eye Safe Laptop/Intel Iris Xe Graphics/Backlit KB/B&O/FPR/Win 11/Alexa Built-in/MSO,14-eh0024TU',\n",
       " 'HP Victus Gaming Latest 12th Gen Intel Core i7 15.6 inch(39.6 cm) FHD Gaming Laptop (8GB RAM/512GB SSD/RTX 3050 4GB Graphics/144Hz/9ms Response Time/Win 11/MSO/BL KB/B&O/Alexa/Xbox Pass),15-fa0073TX',\n",
       " 'Dell Alienware x14 Gaming Laptop, Intel i7-12700H, 14 “(35.5cm) FHD 144Hz 400nits GSYNC+Advanced Optimus,16GB DDR5, 512GB SSD, Nvidia RTX 3050 Ti 4GB, Dolby Atmos, Lunar Light (1.84 kgs) D569938WIN9',\n",
       " 'Lenovo IdeaPad Slim 5 12th Gen Intel Core i7 15.6\"(39.62cm) FHD IPS Laptop (16GB/512GB SSD/Win 11/Office 2021/Backlit KB/Fingerprint/FHD Camera/Alexa/3 Month Game Pass/Storm Grey/1.85Kg), 82SF004XIN',\n",
       " 'Samsung Galaxy Book2 360 Intel 12th Gen i7 EvoTM 33.78cm (13.3\") AMOLED 2 in 1 Touch Screen Laptop (16 GB/512 GB SSD/Windows 11/MS Office/Backlit KB/Fingerprint Sensor/Graphite/1.16Kg), NP730QED-KA1IN',\n",
       " 'ASUS TUF Gaming F15 (2022), 15.6\"(39.62 cms) FHD 144Hz, Intel Core i7-12700H 12th Gen, RTX 3050 Ti 4GB Graphics, Gaming Laptop (16GB/512GB SSD/90WHrs Battery/Windows 11/Gray/2.2 Kg), FX507ZE-HN038W',\n",
       " 'Lenovo ThinkPad E14 Intel Core i7 12th Gen 14\" FHD IPS Thin and Light Laptop (16GB RAM/1TB SSD/Windows 11 Home/MS Office H&S 2021/Backlit Keybaord/FPR/Black/1.59 kg), 21E3S05800']"
      ]
     },
     "execution_count": 14,
     "metadata": {},
     "output_type": "execute_result"
    }
   ],
   "source": [
    "Title"
   ]
  },
  {
   "cell_type": "code",
   "execution_count": 15,
   "id": "c92deea2",
   "metadata": {},
   "outputs": [],
   "source": [
    "urls=driver.find_elements(By.XPATH,\"//a[@class='a-link-normal a-text-normal']\")\n",
    "url=[]\n",
    "for i in urls:\n",
    "    a=i.get_attribute('href')\n",
    "    url.append(a)\n"
   ]
  },
  {
   "cell_type": "code",
   "execution_count": 16,
   "id": "3afeb7bf",
   "metadata": {},
   "outputs": [],
   "source": [
    "titles_rat=driver.find_elements(By.XPATH,\"//div[@class='a-row a-size-small']/span[1]\")\n",
    "\n",
    "for i in titles_rat:\n",
    "\n",
    "    Ratings.append(i.get_attribute(\"aria-label\"))\n",
    "    \n"
   ]
  },
  {
   "cell_type": "code",
   "execution_count": 26,
   "id": "6ce9e613",
   "metadata": {},
   "outputs": [],
   "source": [
    "Total_review=[]\n",
    "new=driver.find_elements(By.XPATH,\"//div[@class='a-row a-size-small']/span[2]\")\n",
    "\n",
    "for i in new:\n",
    "    Total_review.append(i.text)"
   ]
  },
  {
   "cell_type": "code",
   "execution_count": 27,
   "id": "43cebb85",
   "metadata": {},
   "outputs": [
    {
     "data": {
      "text/plain": [
       "['7', '29', '9', '103', '106', '15', '66', '46', '60', '11']"
      ]
     },
     "execution_count": 27,
     "metadata": {},
     "output_type": "execute_result"
    }
   ],
   "source": [
    "Total_review[0:10]"
   ]
  },
  {
   "cell_type": "code",
   "execution_count": 17,
   "id": "dc3ed32d",
   "metadata": {},
   "outputs": [
    {
     "data": {
      "text/plain": [
       "['2.5 out of 5 stars',\n",
       " '3.7 out of 5 stars',\n",
       " '4.5 out of 5 stars',\n",
       " '4.0 out of 5 stars',\n",
       " '4.3 out of 5 stars',\n",
       " '3.9 out of 5 stars',\n",
       " '4.2 out of 5 stars',\n",
       " '4.2 out of 5 stars',\n",
       " '4.4 out of 5 stars',\n",
       " '3.5 out of 5 stars']"
      ]
     },
     "execution_count": 17,
     "metadata": {},
     "output_type": "execute_result"
    }
   ],
   "source": [
    "Ratings[0:10]"
   ]
  },
  {
   "cell_type": "code",
   "execution_count": 18,
   "id": "747b541c",
   "metadata": {},
   "outputs": [
    {
     "data": {
      "text/plain": [
       "['56,990',\n",
       " '79,990',\n",
       " '78,990',\n",
       " '94,630',\n",
       " '84,990',\n",
       " '1,69,990',\n",
       " '79,990',\n",
       " '1,03,990',\n",
       " '94,990',\n",
       " '1,02,490']"
      ]
     },
     "execution_count": 18,
     "metadata": {},
     "output_type": "execute_result"
    }
   ],
   "source": [
    "price=driver.find_elements(By.XPATH,'//span[@class=\"a-price-whole\"]')\n",
    "for i in price[0:10]:\n",
    "    Price.append(i.text)\n",
    "Price"
   ]
  },
  {
   "cell_type": "code",
   "execution_count": 28,
   "id": "ece6b3c1",
   "metadata": {},
   "outputs": [],
   "source": [
    "df=pd.DataFrame({})\n",
    "df['Title']=Title[0:10]\n",
    "df[\"Price\"]=Price[0:10]\n",
    "df['Rating']=Ratings[0:10]\n",
    "df['Total Review']=Total_review[0:10]"
   ]
  },
  {
   "cell_type": "code",
   "execution_count": 29,
   "id": "504192a4",
   "metadata": {},
   "outputs": [
    {
     "name": "stdout",
     "output_type": "stream",
     "text": [
      "10 31 10 31\n"
     ]
    }
   ],
   "source": [
    "print(len(Title),len(Ratings),len(Price),len(Total_review))"
   ]
  },
  {
   "cell_type": "code",
   "execution_count": 30,
   "id": "8f5c408a",
   "metadata": {},
   "outputs": [
    {
     "data": {
      "text/html": [
       "<div>\n",
       "<style scoped>\n",
       "    .dataframe tbody tr th:only-of-type {\n",
       "        vertical-align: middle;\n",
       "    }\n",
       "\n",
       "    .dataframe tbody tr th {\n",
       "        vertical-align: top;\n",
       "    }\n",
       "\n",
       "    .dataframe thead th {\n",
       "        text-align: right;\n",
       "    }\n",
       "</style>\n",
       "<table border=\"1\" class=\"dataframe\">\n",
       "  <thead>\n",
       "    <tr style=\"text-align: right;\">\n",
       "      <th></th>\n",
       "      <th>Title</th>\n",
       "      <th>Price</th>\n",
       "      <th>Rating</th>\n",
       "      <th>Total Review</th>\n",
       "    </tr>\n",
       "  </thead>\n",
       "  <tbody>\n",
       "    <tr>\n",
       "      <th>0</th>\n",
       "      <td>ASUS Vivobook 14, Intel Core i7-1165G7 11th Ge...</td>\n",
       "      <td>56,990</td>\n",
       "      <td>2.5 out of 5 stars</td>\n",
       "      <td>7</td>\n",
       "    </tr>\n",
       "    <tr>\n",
       "      <th>1</th>\n",
       "      <td>Lenovo ThinkBook 15 Intel 11th Gen Core i7 15....</td>\n",
       "      <td>79,990</td>\n",
       "      <td>3.7 out of 5 stars</td>\n",
       "      <td>29</td>\n",
       "    </tr>\n",
       "    <tr>\n",
       "      <th>2</th>\n",
       "      <td>Acer Nitro 5 Gaming Laptop Intel core i7 11th ...</td>\n",
       "      <td>78,990</td>\n",
       "      <td>4.5 out of 5 stars</td>\n",
       "      <td>9</td>\n",
       "    </tr>\n",
       "    <tr>\n",
       "      <th>3</th>\n",
       "      <td>HP Pavilion Plus, 12th Gen Intel Core i7 16GB ...</td>\n",
       "      <td>94,630</td>\n",
       "      <td>4.0 out of 5 stars</td>\n",
       "      <td>103</td>\n",
       "    </tr>\n",
       "    <tr>\n",
       "      <th>4</th>\n",
       "      <td>HP Victus Gaming Latest 12th Gen Intel Core i7...</td>\n",
       "      <td>84,990</td>\n",
       "      <td>4.3 out of 5 stars</td>\n",
       "      <td>106</td>\n",
       "    </tr>\n",
       "    <tr>\n",
       "      <th>5</th>\n",
       "      <td>Dell Alienware x14 Gaming Laptop, Intel i7-127...</td>\n",
       "      <td>1,69,990</td>\n",
       "      <td>3.9 out of 5 stars</td>\n",
       "      <td>15</td>\n",
       "    </tr>\n",
       "    <tr>\n",
       "      <th>6</th>\n",
       "      <td>Lenovo IdeaPad Slim 5 12th Gen Intel Core i7 1...</td>\n",
       "      <td>79,990</td>\n",
       "      <td>4.2 out of 5 stars</td>\n",
       "      <td>66</td>\n",
       "    </tr>\n",
       "    <tr>\n",
       "      <th>7</th>\n",
       "      <td>Samsung Galaxy Book2 360 Intel 12th Gen i7 Evo...</td>\n",
       "      <td>1,03,990</td>\n",
       "      <td>4.2 out of 5 stars</td>\n",
       "      <td>46</td>\n",
       "    </tr>\n",
       "    <tr>\n",
       "      <th>8</th>\n",
       "      <td>ASUS TUF Gaming F15 (2022), 15.6\"(39.62 cms) F...</td>\n",
       "      <td>94,990</td>\n",
       "      <td>4.4 out of 5 stars</td>\n",
       "      <td>60</td>\n",
       "    </tr>\n",
       "    <tr>\n",
       "      <th>9</th>\n",
       "      <td>Lenovo ThinkPad E14 Intel Core i7 12th Gen 14\"...</td>\n",
       "      <td>1,02,490</td>\n",
       "      <td>3.5 out of 5 stars</td>\n",
       "      <td>11</td>\n",
       "    </tr>\n",
       "  </tbody>\n",
       "</table>\n",
       "</div>"
      ],
      "text/plain": [
       "                                               Title     Price  \\\n",
       "0  ASUS Vivobook 14, Intel Core i7-1165G7 11th Ge...    56,990   \n",
       "1  Lenovo ThinkBook 15 Intel 11th Gen Core i7 15....    79,990   \n",
       "2  Acer Nitro 5 Gaming Laptop Intel core i7 11th ...    78,990   \n",
       "3  HP Pavilion Plus, 12th Gen Intel Core i7 16GB ...    94,630   \n",
       "4  HP Victus Gaming Latest 12th Gen Intel Core i7...    84,990   \n",
       "5  Dell Alienware x14 Gaming Laptop, Intel i7-127...  1,69,990   \n",
       "6  Lenovo IdeaPad Slim 5 12th Gen Intel Core i7 1...    79,990   \n",
       "7  Samsung Galaxy Book2 360 Intel 12th Gen i7 Evo...  1,03,990   \n",
       "8  ASUS TUF Gaming F15 (2022), 15.6\"(39.62 cms) F...    94,990   \n",
       "9  Lenovo ThinkPad E14 Intel Core i7 12th Gen 14\"...  1,02,490   \n",
       "\n",
       "               Rating Total Review  \n",
       "0  2.5 out of 5 stars            7  \n",
       "1  3.7 out of 5 stars           29  \n",
       "2  4.5 out of 5 stars            9  \n",
       "3  4.0 out of 5 stars          103  \n",
       "4  4.3 out of 5 stars          106  \n",
       "5  3.9 out of 5 stars           15  \n",
       "6  4.2 out of 5 stars           66  \n",
       "7  4.2 out of 5 stars           46  \n",
       "8  4.4 out of 5 stars           60  \n",
       "9  3.5 out of 5 stars           11  "
      ]
     },
     "execution_count": 30,
     "metadata": {},
     "output_type": "execute_result"
    }
   ],
   "source": [
    "df"
   ]
  },
  {
   "cell_type": "code",
   "execution_count": null,
   "id": "de22cdc6",
   "metadata": {},
   "outputs": [],
   "source": []
  },
  {
   "cell_type": "code",
   "execution_count": 92,
   "id": "16566d57",
   "metadata": {},
   "outputs": [
    {
     "data": {
      "text/plain": [
       "[]"
      ]
     },
     "execution_count": 92,
     "metadata": {},
     "output_type": "execute_result"
    }
   ],
   "source": []
  },
  {
   "cell_type": "code",
   "execution_count": null,
   "id": "8c05cd2e",
   "metadata": {},
   "outputs": [],
   "source": []
  }
 ],
 "metadata": {
  "kernelspec": {
   "display_name": "Python 3 (ipykernel)",
   "language": "python",
   "name": "python3"
  },
  "language_info": {
   "codemirror_mode": {
    "name": "ipython",
    "version": 3
   },
   "file_extension": ".py",
   "mimetype": "text/x-python",
   "name": "python",
   "nbconvert_exporter": "python",
   "pygments_lexer": "ipython3",
   "version": "3.9.13"
  }
 },
 "nbformat": 4,
 "nbformat_minor": 5
}
