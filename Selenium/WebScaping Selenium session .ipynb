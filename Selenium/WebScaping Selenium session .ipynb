{
 "cells": [
  {
   "cell_type": "code",
   "execution_count": 55,
   "id": "1eada91e",
   "metadata": {},
   "outputs": [
    {
     "name": "stdout",
     "output_type": "stream",
     "text": [
      "Requirement already satisfied: Selenium in c:\\users\\admin\\anaconda3\\lib\\site-packages (4.7.2)\n",
      "Requirement already satisfied: certifi>=2021.10.8 in c:\\users\\admin\\anaconda3\\lib\\site-packages (from Selenium) (2022.9.14)\n",
      "Requirement already satisfied: trio~=0.17 in c:\\users\\admin\\anaconda3\\lib\\site-packages (from Selenium) (0.22.0)\n",
      "Requirement already satisfied: urllib3[socks]~=1.26 in c:\\users\\admin\\anaconda3\\lib\\site-packages (from Selenium) (1.26.11)\n",
      "Requirement already satisfied: trio-websocket~=0.9 in c:\\users\\admin\\anaconda3\\lib\\site-packages (from Selenium) (0.9.2)\n",
      "Requirement already satisfied: async-generator>=1.9 in c:\\users\\admin\\anaconda3\\lib\\site-packages (from trio~=0.17->Selenium) (1.10)\n",
      "Requirement already satisfied: sniffio in c:\\users\\admin\\anaconda3\\lib\\site-packages (from trio~=0.17->Selenium) (1.2.0)\n",
      "Requirement already satisfied: exceptiongroup>=1.0.0rc9 in c:\\users\\admin\\anaconda3\\lib\\site-packages (from trio~=0.17->Selenium) (1.1.0)\n",
      "Requirement already satisfied: cffi>=1.14 in c:\\users\\admin\\anaconda3\\lib\\site-packages (from trio~=0.17->Selenium) (1.15.1)\n",
      "Requirement already satisfied: outcome in c:\\users\\admin\\anaconda3\\lib\\site-packages (from trio~=0.17->Selenium) (1.2.0)\n",
      "Requirement already satisfied: attrs>=19.2.0 in c:\\users\\admin\\anaconda3\\lib\\site-packages (from trio~=0.17->Selenium) (21.4.0)\n",
      "Requirement already satisfied: idna in c:\\users\\admin\\anaconda3\\lib\\site-packages (from trio~=0.17->Selenium) (3.3)\n",
      "Requirement already satisfied: sortedcontainers in c:\\users\\admin\\anaconda3\\lib\\site-packages (from trio~=0.17->Selenium) (2.4.0)\n",
      "Requirement already satisfied: wsproto>=0.14 in c:\\users\\admin\\anaconda3\\lib\\site-packages (from trio-websocket~=0.9->Selenium) (1.2.0)\n",
      "Requirement already satisfied: PySocks!=1.5.7,<2.0,>=1.5.6 in c:\\users\\admin\\anaconda3\\lib\\site-packages (from urllib3[socks]~=1.26->Selenium) (1.7.1)\n",
      "Requirement already satisfied: pycparser in c:\\users\\admin\\anaconda3\\lib\\site-packages (from cffi>=1.14->trio~=0.17->Selenium) (2.21)\n",
      "Requirement already satisfied: h11<1,>=0.9.0 in c:\\users\\admin\\anaconda3\\lib\\site-packages (from wsproto>=0.14->trio-websocket~=0.9->Selenium) (0.14.0)\n"
     ]
    }
   ],
   "source": [
    "!pip install Selenium"
   ]
  },
  {
   "cell_type": "code",
   "execution_count": 56,
   "id": "c22a5b8b",
   "metadata": {},
   "outputs": [],
   "source": [
    "import selenium\n",
    "import pandas as pd\n",
    "from selenium import webdriver\n",
    "import warnings\n",
    "warnings.filterwarnings('ignore')\n",
    "from selenium.common.exceptions import StaleElementReferenceException,NoSuchElementException\n",
    "from selenium.webdriver.common.by import By\n",
    "import time"
   ]
  },
  {
   "cell_type": "markdown",
   "id": "4cda7a93",
   "metadata": {},
   "source": [
    "# now we will download to webdriver"
   ]
  },
  {
   "cell_type": "code",
   "execution_count": 57,
   "id": "3124ffd9",
   "metadata": {},
   "outputs": [],
   "source": [
    "#first connect driver \n",
    "driver=webdriver.Chrome(r\"‪C:\\Users\\admin\\Downloads\\chromedriver_win32\\chromedriver.exe\")"
   ]
  },
  {
   "cell_type": "code",
   "execution_count": 58,
   "id": "8153b3ff",
   "metadata": {},
   "outputs": [],
   "source": [
    "# opening the naukari page on automated chrome browser\n",
    "driver.get('https://www.naukri.com/')"
   ]
  },
  {
   "cell_type": "code",
   "execution_count": 59,
   "id": "441330e4",
   "metadata": {},
   "outputs": [],
   "source": [
    "# enter designation and location  as required in the Question:\n",
    "designation=driver.find_element(By.CLASS_NAME,\"suggestor-input\")\n",
    "designation.send_keys('Data Analyst')"
   ]
  },
  {
   "cell_type": "code",
   "execution_count": 60,
   "id": "f2891a04",
   "metadata": {},
   "outputs": [],
   "source": [
    "location=driver.find_element(By.XPATH,\"/html/body/div[1]/div[6]/div/div/div[5]/div/div/div/input\")\n",
    "location.send_keys('Bangalore')"
   ]
  },
  {
   "cell_type": "code",
   "execution_count": 61,
   "id": "64f9f905",
   "metadata": {},
   "outputs": [],
   "source": [
    "search=driver.find_element(By.CLASS_NAME,\"qsbSubmit\")\n",
    "search.click()"
   ]
  },
  {
   "cell_type": "code",
   "execution_count": 62,
   "id": "0db10675",
   "metadata": {},
   "outputs": [],
   "source": [
    "job_title=[]\n",
    "job_location=[]\n",
    "company_name=[]\n",
    "experience_required=[]"
   ]
  },
  {
   "cell_type": "code",
   "execution_count": 63,
   "id": "ecd8065a",
   "metadata": {},
   "outputs": [],
   "source": [
    "title_tags=driver.find_elements(By.XPATH,'//a[@class=\"title ellipsis\"]')\n",
    "for i in title_tags[0:10]:\n",
    "    title=i.text\n",
    "    job_title.append(title)\n",
    "    \n",
    "#scarping the Location\n",
    "location_tags=driver.find_elements(By.XPATH,'//span[@class=\"ellipsis fleft locWdth\"]')\n",
    "for i in location_tags[0:10]:\n",
    "    job_location.append(i.text)\n",
    "    \n",
    "company=driver.find_elements(By.XPATH,'//a[@class=\"subTitle ellipsis fleft\"]')\n",
    "for i in company[0:10]:\n",
    "    company_name.append(i.text)\n",
    "    \n",
    "exp=driver.find_elements(By.XPATH,'//span[@class=\"ellipsis fleft expwdth\"]')\n",
    "for i in exp[0:10]:\n",
    "    experience_required.append(i.text)"
   ]
  },
  {
   "cell_type": "code",
   "execution_count": 64,
   "id": "c0fbce3b",
   "metadata": {},
   "outputs": [
    {
     "name": "stdout",
     "output_type": "stream",
     "text": [
      "10 10 10 10\n"
     ]
    }
   ],
   "source": [
    "print(len(job_title),len(job_location),len(company_name),len(experience_required))"
   ]
  },
  {
   "cell_type": "code",
   "execution_count": 65,
   "id": "27af6631",
   "metadata": {},
   "outputs": [],
   "source": [
    "import pandas as pd"
   ]
  },
  {
   "cell_type": "code",
   "execution_count": 66,
   "id": "5b5fd837",
   "metadata": {},
   "outputs": [],
   "source": [
    "df=pd.DataFrame({})\n",
    "df['Job_Title']=job_title\n",
    "df['Job_Location']=job_location\n",
    "df['Company_Name']=company_name\n",
    "df['Experience_Required']=experience_required"
   ]
  },
  {
   "cell_type": "code",
   "execution_count": 67,
   "id": "cee16a5e",
   "metadata": {},
   "outputs": [
    {
     "data": {
      "text/html": [
       "<div>\n",
       "<style scoped>\n",
       "    .dataframe tbody tr th:only-of-type {\n",
       "        vertical-align: middle;\n",
       "    }\n",
       "\n",
       "    .dataframe tbody tr th {\n",
       "        vertical-align: top;\n",
       "    }\n",
       "\n",
       "    .dataframe thead th {\n",
       "        text-align: right;\n",
       "    }\n",
       "</style>\n",
       "<table border=\"1\" class=\"dataframe\">\n",
       "  <thead>\n",
       "    <tr style=\"text-align: right;\">\n",
       "      <th></th>\n",
       "      <th>Job_Title</th>\n",
       "      <th>Job_Location</th>\n",
       "      <th>Company_Name</th>\n",
       "      <th>Experience_Required</th>\n",
       "    </tr>\n",
       "  </thead>\n",
       "  <tbody>\n",
       "    <tr>\n",
       "      <th>0</th>\n",
       "      <td>Customer Data Analyst</td>\n",
       "      <td>Bangalore/Bengaluru</td>\n",
       "      <td>Oracle</td>\n",
       "      <td>1-4 Yrs</td>\n",
       "    </tr>\n",
       "    <tr>\n",
       "      <th>1</th>\n",
       "      <td>Business Data Analysts (People &amp; Culture)</td>\n",
       "      <td>Bangalore/Bengaluru</td>\n",
       "      <td>Zscaler Softech</td>\n",
       "      <td>5-6 Yrs</td>\n",
       "    </tr>\n",
       "    <tr>\n",
       "      <th>2</th>\n",
       "      <td>Senior Data Analyst - DC</td>\n",
       "      <td>Bangalore/Bengaluru</td>\n",
       "      <td>Boston Consulting Group</td>\n",
       "      <td>4-6 Yrs</td>\n",
       "    </tr>\n",
       "    <tr>\n",
       "      <th>3</th>\n",
       "      <td>Manager/Senior Manager - Data Analyst</td>\n",
       "      <td>Bangalore/Bengaluru, Mumbai, Hyderabad/Secunde...</td>\n",
       "      <td>Huquo Consulting Pvt. Ltd</td>\n",
       "      <td>2-7 Yrs</td>\n",
       "    </tr>\n",
       "    <tr>\n",
       "      <th>4</th>\n",
       "      <td>Croma - Data Analyst - Mumbai / Bangalore</td>\n",
       "      <td>Hybrid - Bangalore/Bengaluru, Mumbai</td>\n",
       "      <td>Croma</td>\n",
       "      <td>4-9 Yrs</td>\n",
       "    </tr>\n",
       "    <tr>\n",
       "      <th>5</th>\n",
       "      <td>Data Analyst- PYTHON+SCALA</td>\n",
       "      <td>Bangalore/Bengaluru</td>\n",
       "      <td>Capco</td>\n",
       "      <td>3-7 Yrs</td>\n",
       "    </tr>\n",
       "    <tr>\n",
       "      <th>6</th>\n",
       "      <td>Data Analyst-Pyspark</td>\n",
       "      <td>Hybrid - Bangalore/Bengaluru, Hyderabad/Secund...</td>\n",
       "      <td>Capco</td>\n",
       "      <td>7-12 Yrs</td>\n",
       "    </tr>\n",
       "    <tr>\n",
       "      <th>7</th>\n",
       "      <td>Data Analyst</td>\n",
       "      <td>Bangalore/Bengaluru, Hyderabad/Secunderabad</td>\n",
       "      <td>Capco</td>\n",
       "      <td>6-11 Yrs</td>\n",
       "    </tr>\n",
       "    <tr>\n",
       "      <th>8</th>\n",
       "      <td>Translation - Data Analyst</td>\n",
       "      <td>Bangalore/Bengaluru</td>\n",
       "      <td>Avery Dennison</td>\n",
       "      <td>3-6 Yrs</td>\n",
       "    </tr>\n",
       "    <tr>\n",
       "      <th>9</th>\n",
       "      <td>Sr. Data Analyst</td>\n",
       "      <td>Bangalore/Bengaluru, Chennai</td>\n",
       "      <td>Bizanalytica Solution Llp</td>\n",
       "      <td>4-9 Yrs</td>\n",
       "    </tr>\n",
       "  </tbody>\n",
       "</table>\n",
       "</div>"
      ],
      "text/plain": [
       "                                   Job_Title  \\\n",
       "0                      Customer Data Analyst   \n",
       "1  Business Data Analysts (People & Culture)   \n",
       "2                   Senior Data Analyst - DC   \n",
       "3      Manager/Senior Manager - Data Analyst   \n",
       "4  Croma - Data Analyst - Mumbai / Bangalore   \n",
       "5                 Data Analyst- PYTHON+SCALA   \n",
       "6                       Data Analyst-Pyspark   \n",
       "7                               Data Analyst   \n",
       "8                 Translation - Data Analyst   \n",
       "9                           Sr. Data Analyst   \n",
       "\n",
       "                                        Job_Location  \\\n",
       "0                                Bangalore/Bengaluru   \n",
       "1                                Bangalore/Bengaluru   \n",
       "2                                Bangalore/Bengaluru   \n",
       "3  Bangalore/Bengaluru, Mumbai, Hyderabad/Secunde...   \n",
       "4               Hybrid - Bangalore/Bengaluru, Mumbai   \n",
       "5                                Bangalore/Bengaluru   \n",
       "6  Hybrid - Bangalore/Bengaluru, Hyderabad/Secund...   \n",
       "7        Bangalore/Bengaluru, Hyderabad/Secunderabad   \n",
       "8                                Bangalore/Bengaluru   \n",
       "9                       Bangalore/Bengaluru, Chennai   \n",
       "\n",
       "                Company_Name Experience_Required  \n",
       "0                     Oracle             1-4 Yrs  \n",
       "1            Zscaler Softech             5-6 Yrs  \n",
       "2    Boston Consulting Group             4-6 Yrs  \n",
       "3  Huquo Consulting Pvt. Ltd             2-7 Yrs  \n",
       "4                      Croma             4-9 Yrs  \n",
       "5                      Capco             3-7 Yrs  \n",
       "6                      Capco            7-12 Yrs  \n",
       "7                      Capco            6-11 Yrs  \n",
       "8             Avery Dennison             3-6 Yrs  \n",
       "9  Bizanalytica Solution Llp             4-9 Yrs  "
      ]
     },
     "execution_count": 67,
     "metadata": {},
     "output_type": "execute_result"
    }
   ],
   "source": [
    "df"
   ]
  },
  {
   "cell_type": "code",
   "execution_count": 68,
   "id": "dbe2ea34",
   "metadata": {},
   "outputs": [],
   "source": [
    "df.to_csv('D:\\sandip\\DataAnalytical.csv')"
   ]
  },
  {
   "cell_type": "code",
   "execution_count": 69,
   "id": "3780dd2f",
   "metadata": {},
   "outputs": [],
   "source": [
    "url=driver.find_elements(By.XPATH,'//a[@class=\"title ellipsis\"]')"
   ]
  },
  {
   "cell_type": "code",
   "execution_count": 71,
   "id": "fee6eb19",
   "metadata": {},
   "outputs": [
    {
     "name": "stdout",
     "output_type": "stream",
     "text": [
      "https://www.naukri.com/job-listings-customer-data-analyst-oracle-bangalore-bengaluru-1-to-4-years-060922009927\n",
      "https://www.naukri.com/job-listings-business-data-analysts-people-culture-zscaler-inc-bangalore-bengaluru-5-to-6-years-130123501409\n",
      "https://www.naukri.com/job-listings-senior-data-analyst-dc-boston-consulting-group-bangalore-bengaluru-4-to-6-years-030123500731\n",
      "https://www.naukri.com/job-listings-manager-senior-manager-data-analyst-huquo-consulting-pvt-ltd-mumbai-hyderabad-secunderabad-pune-gurgaon-gurugram-ahmedabad-jaipur-delhi-ncr-bangalore-bengaluru-2-to-7-years-120123913028\n"
     ]
    }
   ],
   "source": [
    "for i in url[0:4]:\n",
    "    print(i.get_attribute('href'))"
   ]
  },
  {
   "cell_type": "code",
   "execution_count": 81,
   "id": "67dc1d65",
   "metadata": {},
   "outputs": [],
   "source": [
    "job_titles=[]\n",
    "start=0\n",
    "end=2\n",
    "for i in range(start,end):\n",
    "    titles=driver.find_elements(By.XPATH,'//a[@class=\"title ellipsis\"]')\n",
    "    for i in titles:\n",
    "        job_titles.append(i.text)\n",
    "    next_button=driver.find_element(By.XPATH,'//a[@class=\"fright fs14 btn-secondary br2\"]')\n",
    "    next_button.click()\n",
    "    time.sleep(3)\n",
    "        \n",
    "    \n",
    "    \n",
    "  "
   ]
  },
  {
   "cell_type": "code",
   "execution_count": 82,
   "id": "a01dd725",
   "metadata": {},
   "outputs": [
    {
     "data": {
      "text/plain": [
       "40"
      ]
     },
     "execution_count": 82,
     "metadata": {},
     "output_type": "execute_result"
    }
   ],
   "source": [
    "len(job_titles)"
   ]
  },
  {
   "cell_type": "code",
   "execution_count": 83,
   "id": "2fae0798",
   "metadata": {},
   "outputs": [
    {
     "data": {
      "text/plain": [
       "['Job Opportunity with Leading MNC - Senior Data Analyst',\n",
       " 'Healthcare Research and Data Analyst',\n",
       " 'Data Analyst',\n",
       " 'Senior Data Analyst',\n",
       " 'Sr / Lead Data Management Analyst, Data Engineer ( Bangalore) - LWS',\n",
       " 'Data Analyst',\n",
       " 'Data Analyst II',\n",
       " 'Data Analyst',\n",
       " 'GIS Data Analyst',\n",
       " 'Lead - Data Analyst (Big Data, PySpark)',\n",
       " 'Associate CSR/ESG Data Analyst',\n",
       " 'Lead Data Analyst',\n",
       " 'Financial Data Analyst / Financial Analyst',\n",
       " 'Data Analyst (2-4 years)',\n",
       " 'Data Analyst',\n",
       " 'Data Analyst',\n",
       " 'Data Analyst (T-SQL & SSIS)',\n",
       " 'Hiring For Senior Business Analyst (Big data & SQL) || Coforge - NIIT',\n",
       " 'Senior Data Analyst - KPO',\n",
       " 'Senior Data Analyst',\n",
       " 'Senior Data Analyst',\n",
       " 'Senior Data Analyst',\n",
       " 'Data Analyst/Sr Data Analyst',\n",
       " 'Sr Data Analyst-3',\n",
       " 'Senior Data Analyst',\n",
       " 'Senior Data Analyst (SQL & Python)',\n",
       " 'Senior Data Analyst',\n",
       " 'Senior Data Analyst | Lululemon',\n",
       " 'Data Management Analyst',\n",
       " 'Data and Research Analyst',\n",
       " 'Senior Data Management Analyst',\n",
       " 'Senior Data Management Analyst',\n",
       " 'Manager - Data Analyst',\n",
       " 'Assistant Manager/Lead Assistant Manager/Manager - Data Analyst',\n",
       " 'Assistant Manager / Lead / Manager - Data Analyst - KPO',\n",
       " 'Data Analyst',\n",
       " 'Data Analyst - Python/Power BI',\n",
       " 'Data Analyst',\n",
       " 'Item Data Analyst',\n",
       " 'Data Analyst']"
      ]
     },
     "execution_count": 83,
     "metadata": {},
     "output_type": "execute_result"
    }
   ],
   "source": [
    "job_titles"
   ]
  },
  {
   "cell_type": "code",
   "execution_count": null,
   "id": "35d7ef98",
   "metadata": {},
   "outputs": [],
   "source": []
  }
 ],
 "metadata": {
  "kernelspec": {
   "display_name": "Python 3 (ipykernel)",
   "language": "python",
   "name": "python3"
  },
  "language_info": {
   "codemirror_mode": {
    "name": "ipython",
    "version": 3
   },
   "file_extension": ".py",
   "mimetype": "text/x-python",
   "name": "python",
   "nbconvert_exporter": "python",
   "pygments_lexer": "ipython3",
   "version": "3.9.13"
  }
 },
 "nbformat": 4,
 "nbformat_minor": 5
}
