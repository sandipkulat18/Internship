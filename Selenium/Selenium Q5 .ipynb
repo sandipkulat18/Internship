{
 "cells": [
  {
   "cell_type": "code",
   "execution_count": 1,
   "id": "6b56a6a4",
   "metadata": {},
   "outputs": [],
   "source": [
    "import selenium\n",
    "import pandas as pd\n",
    "from selenium import webdriver\n",
    "from selenium.common.exceptions import StaleElementReferenceException,NoSuchElementException\n",
    "from selenium.webdriver.common.by import By\n",
    "import warnings\n",
    "warnings.filterwarnings('ignore')"
   ]
  },
  {
   "cell_type": "code",
   "execution_count": 4,
   "id": "e5685be9",
   "metadata": {},
   "outputs": [],
   "source": [
    "driver=webdriver.Chrome(r'C:\\Users\\admin\\Downloads\\chromedriver_win32\\chromedriver.exe')"
   ]
  },
  {
   "cell_type": "code",
   "execution_count": 5,
   "id": "0ae52a49",
   "metadata": {},
   "outputs": [],
   "source": [
    "driver.get('https://www.flipkart.com/apple-iphone-11-black-64-gb-includes-earpods-power-adapter/product-reviews/itm0f37c2240b217?pid=MOBFKCTSVZAXUHGR&lid=LSTMOBFKCTSVZAXUHGREPBFGI&marketplace=FLIPKART')"
   ]
  },
  {
   "cell_type": "code",
   "execution_count": 33,
   "id": "c281d0da",
   "metadata": {},
   "outputs": [],
   "source": [
    "a=1\n",
    "url=[]\n",
    "for i in range(1,12):\n",
    "    no=\"https://www.flipkart.com/apple-iphone-11-black-64-gb-includes-earpods-power-adapter/product-reviews/itm0f37c2240b217?pid=MOBFKCTSVZAXUHGR&lid=LSTMOBFKCTSVZAXUHGREPBFGI&marketplace=FLIPKART\"+str(a)\n",
    "    a=a+1\n",
    "    url.append(no)"
   ]
  },
  {
   "cell_type": "code",
   "execution_count": 34,
   "id": "225fdffa",
   "metadata": {},
   "outputs": [],
   "source": [
    "Rating=[]\n",
    "Review_summary=[]\n",
    "Full_review=[]\n"
   ]
  },
  {
   "cell_type": "code",
   "execution_count": null,
   "id": "40e7a4fb",
   "metadata": {},
   "outputs": [],
   "source": [
    "for i in url:\n",
    "    driver.get(i)\n",
    "    \n",
    "    ratings=driver.find_elements(By.XPATH,'//div[@class=\"_3LWZlK _1BLPMq\"]')\n",
    "    \n",
    "    for j in ratings:\n",
    "        a=j.text\n",
    "        Rating.append(a)\n",
    "Rating[0:5]\n",
    "    "
   ]
  },
  {
   "cell_type": "code",
   "execution_count": null,
   "id": "6b3ec502",
   "metadata": {},
   "outputs": [],
   "source": [
    "for i in url:\n",
    "    driver.get(i)\n",
    "    \n",
    "    summ=driver.find_elements(By.XPATH,'//p[@class=\"_2-N8zT\"]')\n",
    "    \n",
    "    for t in summ:\n",
    "        Review_summary.append(t.text)"
   ]
  },
  {
   "cell_type": "code",
   "execution_count": null,
   "id": "df825b17",
   "metadata": {},
   "outputs": [],
   "source": [
    "Review_summary[0:5]"
   ]
  },
  {
   "cell_type": "code",
   "execution_count": null,
   "id": "d74b0de8",
   "metadata": {},
   "outputs": [],
   "source": [
    "for i in url:\n",
    "    driver.get(i)\n",
    "    \n",
    "    full=driver.find_elements(By.XPATH,'//div[@class=\"t-ZTKy\"]')\n",
    "    \n",
    "    for t in full:\n",
    "        Full_review.append(t.text)\n",
    "Full_review[0:5]"
   ]
  },
  {
   "cell_type": "code",
   "execution_count": null,
   "id": "43840222",
   "metadata": {},
   "outputs": [],
   "source": [
    "df=pd.DataFrame({})\n",
    "df['Rating']=Rating[0:100]\n",
    "df['Review_summary']=Review_summary[0:100]\n",
    "df['Full_review']=Full_review[0:100]"
   ]
  },
  {
   "cell_type": "code",
   "execution_count": null,
   "id": "ba3ca8ec",
   "metadata": {},
   "outputs": [],
   "source": [
    "df"
   ]
  },
  {
   "cell_type": "code",
   "execution_count": null,
   "id": "569f4c30",
   "metadata": {},
   "outputs": [],
   "source": []
  }
 ],
 "metadata": {
  "kernelspec": {
   "display_name": "Python 3 (ipykernel)",
   "language": "python",
   "name": "python3"
  },
  "language_info": {
   "codemirror_mode": {
    "name": "ipython",
    "version": 3
   },
   "file_extension": ".py",
   "mimetype": "text/x-python",
   "name": "python",
   "nbconvert_exporter": "python",
   "pygments_lexer": "ipython3",
   "version": "3.9.13"
  }
 },
 "nbformat": 4,
 "nbformat_minor": 5
}
