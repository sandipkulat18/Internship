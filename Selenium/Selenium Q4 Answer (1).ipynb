{
 "cells": [
  {
   "cell_type": "code",
   "execution_count": 77,
   "id": "c8c53311",
   "metadata": {},
   "outputs": [],
   "source": [
    "import selenium\n",
    "import pandas as pd\n",
    "from selenium import webdriver\n",
    "from selenium.common.exceptions import SeleniumManagerException,NoSuchElementException\n",
    "from selenium.webdriver.common.by import By\n",
    "import time\n",
    "import warnings\n",
    "warnings.filterwarnings('ignore')"
   ]
  },
  {
   "cell_type": "code",
   "execution_count": 78,
   "id": "b698c5ec",
   "metadata": {},
   "outputs": [],
   "source": [
    "driver=webdriver.Chrome(r'C:\\Users\\admin\\Downloads\\chromedriver_win32\\chromedriver.exe')"
   ]
  },
  {
   "cell_type": "code",
   "execution_count": 79,
   "id": "c7ac737c",
   "metadata": {},
   "outputs": [],
   "source": [
    "driver.get('https://www.flipkart.com/')"
   ]
  },
  {
   "cell_type": "code",
   "execution_count": 80,
   "id": "51c2f975",
   "metadata": {},
   "outputs": [],
   "source": [
    "sunglass=driver.find_element(By.XPATH,\"//input[@class='_3704LK']\")\n",
    "sunglass.send_keys(\"sunglasses\")\n",
    "\n"
   ]
  },
  {
   "cell_type": "code",
   "execution_count": 88,
   "id": "c0327d5c",
   "metadata": {},
   "outputs": [],
   "source": [
    "search= driver.find_element(By.XPATH,'//button[@class=\"L0Z3Pu\"]')\n",
    "search.click()"
   ]
  },
  {
   "cell_type": "code",
   "execution_count": 89,
   "id": "98ee43c5",
   "metadata": {},
   "outputs": [],
   "source": [
    "a=1\n",
    "url=[]\n",
    "for i in range(1,4):\n",
    "    no=\"https://www.flipkart.com/search?q=sunglasses&otracker=search&otracker1=search&marketplace=FLIPKART&as-show=on&as=off&page=\"+str(a)\n",
    "    a=a+1\n",
    "    url.append(no)"
   ]
  },
  {
   "cell_type": "code",
   "execution_count": 90,
   "id": "568499c9",
   "metadata": {},
   "outputs": [],
   "source": [
    "brand=[]\n",
    "descrip=[]\n",
    "price=[]\n",
    "discount=[]"
   ]
  },
  {
   "cell_type": "code",
   "execution_count": 91,
   "id": "dc7e10a6",
   "metadata": {},
   "outputs": [
    {
     "data": {
      "text/plain": [
       "['Singco India', 'ROZZETTA CRAFT', 'Fastrack', 'Elligator', 'Fastrack']"
      ]
     },
     "execution_count": 91,
     "metadata": {},
     "output_type": "execute_result"
    }
   ],
   "source": [
    "for i in url:\n",
    "    driver.get(i)\n",
    "    \n",
    "    brand_1=driver.find_elements(By.XPATH,\"//div[@class='_2WkVRV']\")\n",
    "    \n",
    "    for j in brand_1:\n",
    "        a=j.text\n",
    "        brand.append(a)\n",
    "brand[0:5]"
   ]
  },
  {
   "cell_type": "code",
   "execution_count": null,
   "id": "77912aff",
   "metadata": {},
   "outputs": [],
   "source": [
    "for i in url:\n",
    "    driver.get(i)\n",
    "    \n",
    "    descrip_1=driver.find_elements(By.XPATH,\"//a[@class='IRpwTa']\")\n",
    "    \n",
    "    for j in descrip_1:\n",
    "        a=j.text\n",
    "        descrip.append(a)\n",
    "descrip[0:5]"
   ]
  },
  {
   "cell_type": "code",
   "execution_count": 64,
   "id": "226df3b2",
   "metadata": {},
   "outputs": [
    {
     "data": {
      "text/plain": [
       "['₹1,399', '₹299', '₹599', '₹149', '₹499']"
      ]
     },
     "execution_count": 64,
     "metadata": {},
     "output_type": "execute_result"
    }
   ],
   "source": [
    "for i in url:\n",
    "    driver.get(i)\n",
    "    \n",
    "    price_1=driver.find_elements(By.XPATH,\"//div[@class='_30jeq3']\")\n",
    "    \n",
    "    for j in price_1:\n",
    "        a=j.text\n",
    "        price.append(a)\n",
    "price[0:5]"
   ]
  },
  {
   "cell_type": "code",
   "execution_count": 65,
   "id": "714bf32d",
   "metadata": {},
   "outputs": [
    {
     "data": {
      "text/html": [
       "<div>\n",
       "<style scoped>\n",
       "    .dataframe tbody tr th:only-of-type {\n",
       "        vertical-align: middle;\n",
       "    }\n",
       "\n",
       "    .dataframe tbody tr th {\n",
       "        vertical-align: top;\n",
       "    }\n",
       "\n",
       "    .dataframe thead th {\n",
       "        text-align: right;\n",
       "    }\n",
       "</style>\n",
       "<table border=\"1\" class=\"dataframe\">\n",
       "  <thead>\n",
       "    <tr style=\"text-align: right;\">\n",
       "      <th></th>\n",
       "      <th>Brand</th>\n",
       "      <th>Description</th>\n",
       "      <th>Price</th>\n",
       "    </tr>\n",
       "  </thead>\n",
       "  <tbody>\n",
       "    <tr>\n",
       "      <th>0</th>\n",
       "      <td>hayden haiza</td>\n",
       "      <td>UV Protection Retro Square Sunglasses (46)</td>\n",
       "      <td>₹1,399</td>\n",
       "    </tr>\n",
       "    <tr>\n",
       "      <th>1</th>\n",
       "      <td>ROZZETTA CRAFT</td>\n",
       "      <td>UV Protection Aviator Sunglasses (55)</td>\n",
       "      <td>₹299</td>\n",
       "    </tr>\n",
       "    <tr>\n",
       "      <th>2</th>\n",
       "      <td>Fastrack</td>\n",
       "      <td>UV Protection Wayfarer Sunglasses (Free Size)</td>\n",
       "      <td>₹599</td>\n",
       "    </tr>\n",
       "    <tr>\n",
       "      <th>3</th>\n",
       "      <td>Elligator</td>\n",
       "      <td>UV Protection Cat-eye, Retro Square, Oval, Rou...</td>\n",
       "      <td>₹149</td>\n",
       "    </tr>\n",
       "    <tr>\n",
       "      <th>4</th>\n",
       "      <td>Fastrack</td>\n",
       "      <td>UV Protection Rectangular Sunglasses (Free Size)</td>\n",
       "      <td>₹499</td>\n",
       "    </tr>\n",
       "    <tr>\n",
       "      <th>...</th>\n",
       "      <td>...</td>\n",
       "      <td>...</td>\n",
       "      <td>...</td>\n",
       "    </tr>\n",
       "    <tr>\n",
       "      <th>95</th>\n",
       "      <td>ROZZETTA CRAFT</td>\n",
       "      <td>Gradient, Toughened Glass Lens, UV Protection ...</td>\n",
       "      <td>₹399</td>\n",
       "    </tr>\n",
       "    <tr>\n",
       "      <th>96</th>\n",
       "      <td>MGKNYAH</td>\n",
       "      <td>UV Protection Aviator Sunglasses (Free Size)</td>\n",
       "      <td>₹179</td>\n",
       "    </tr>\n",
       "    <tr>\n",
       "      <th>97</th>\n",
       "      <td>NuVew</td>\n",
       "      <td>UV Protection, Mirrored Aviator Sunglasses (57)</td>\n",
       "      <td>₹125</td>\n",
       "    </tr>\n",
       "    <tr>\n",
       "      <th>98</th>\n",
       "      <td>EYELLUSION</td>\n",
       "      <td>Riding Glasses, Riding Glasses, UV Protection ...</td>\n",
       "      <td>₹199</td>\n",
       "    </tr>\n",
       "    <tr>\n",
       "      <th>99</th>\n",
       "      <td>Singco India</td>\n",
       "      <td>UV Protection Wayfarer Sunglasses (Free Size)</td>\n",
       "      <td>₹664</td>\n",
       "    </tr>\n",
       "  </tbody>\n",
       "</table>\n",
       "<p>100 rows × 3 columns</p>\n",
       "</div>"
      ],
      "text/plain": [
       "             Brand                                        Description   Price\n",
       "0     hayden haiza         UV Protection Retro Square Sunglasses (46)  ₹1,399\n",
       "1   ROZZETTA CRAFT              UV Protection Aviator Sunglasses (55)    ₹299\n",
       "2         Fastrack      UV Protection Wayfarer Sunglasses (Free Size)    ₹599\n",
       "3        Elligator  UV Protection Cat-eye, Retro Square, Oval, Rou...    ₹149\n",
       "4         Fastrack   UV Protection Rectangular Sunglasses (Free Size)    ₹499\n",
       "..             ...                                                ...     ...\n",
       "95  ROZZETTA CRAFT  Gradient, Toughened Glass Lens, UV Protection ...    ₹399\n",
       "96         MGKNYAH       UV Protection Aviator Sunglasses (Free Size)    ₹179\n",
       "97           NuVew    UV Protection, Mirrored Aviator Sunglasses (57)    ₹125\n",
       "98      EYELLUSION  Riding Glasses, Riding Glasses, UV Protection ...    ₹199\n",
       "99    Singco India      UV Protection Wayfarer Sunglasses (Free Size)    ₹664\n",
       "\n",
       "[100 rows x 3 columns]"
      ]
     },
     "execution_count": 65,
     "metadata": {},
     "output_type": "execute_result"
    }
   ],
   "source": [
    "table=pd.DataFrame({})\n",
    "table['Brand']=brand[0:100]\n",
    "table['Description']=descrip[0:100]\n",
    "table['Price']=price[0:100]\n",
    "table"
   ]
  }
 ],
 "metadata": {
  "kernelspec": {
   "display_name": "Python 3 (ipykernel)",
   "language": "python",
   "name": "python3"
  },
  "language_info": {
   "codemirror_mode": {
    "name": "ipython",
    "version": 3
   },
   "file_extension": ".py",
   "mimetype": "text/x-python",
   "name": "python",
   "nbconvert_exporter": "python",
   "pygments_lexer": "ipython3",
   "version": "3.9.13"
  }
 },
 "nbformat": 4,
 "nbformat_minor": 5
}
