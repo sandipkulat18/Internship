{
 "cells": [
  {
   "cell_type": "markdown",
   "id": "3303bf96",
   "metadata": {},
   "source": [
    "# i)Top 10 ODI teams in women’s cricket along with the records for matches, points and rating."
   ]
  },
  {
   "cell_type": "code",
   "execution_count": 505,
   "id": "df2ab9b1",
   "metadata": {},
   "outputs": [],
   "source": [
    "import  requests\n",
    "from  bs4 import BeautifulSoup"
   ]
  },
  {
   "cell_type": "code",
   "execution_count": 506,
   "id": "6d37cd46",
   "metadata": {},
   "outputs": [],
   "source": [
    "page = requests.get('https://www.icc-cricket.com/rankings/womens/team-rankings/odi')\n",
    "soup = BeautifulSoup(page.text, 'html.parser')"
   ]
  },
  {
   "cell_type": "code",
   "execution_count": 507,
   "id": "93cac5e7",
   "metadata": {},
   "outputs": [],
   "source": [
    "Country=[]\n",
    "Matches=[]\n",
    "Points=[]\n",
    "Rating=[]"
   ]
  },
  {
   "cell_type": "code",
   "execution_count": 508,
   "id": "a7049281",
   "metadata": {},
   "outputs": [],
   "source": [
    "country=soup.find_all('span',class_=\"u-hide-phablet\")"
   ]
  },
  {
   "cell_type": "code",
   "execution_count": null,
   "id": "66e799df",
   "metadata": {},
   "outputs": [],
   "source": []
  },
  {
   "cell_type": "code",
   "execution_count": 509,
   "id": "5219080a",
   "metadata": {},
   "outputs": [
    {
     "data": {
      "text/plain": [
       "['Australia',\n",
       " 'England',\n",
       " 'South Africa',\n",
       " 'India',\n",
       " 'New Zealand',\n",
       " 'West Indies',\n",
       " 'Bangladesh',\n",
       " 'Thailand',\n",
       " 'Pakistan',\n",
       " 'Sri Lanka']"
      ]
     },
     "execution_count": 509,
     "metadata": {},
     "output_type": "execute_result"
    }
   ],
   "source": [
    "for i in country:\n",
    "    #name=i.get_text()\n",
    "    Country.append(i.get_text())\n",
    "Country[0:10]"
   ]
  },
  {
   "cell_type": "code",
   "execution_count": 510,
   "id": "4feb8d99",
   "metadata": {},
   "outputs": [],
   "source": [
    "url=soup.find_all('span',class_=\"u-hide-phablet\")"
   ]
  },
  {
   "cell_type": "code",
   "execution_count": 511,
   "id": "1b3a6ab9",
   "metadata": {},
   "outputs": [
    {
     "data": {
      "text/plain": [
       "['Australia',\n",
       " 'England',\n",
       " 'South Africa',\n",
       " 'India',\n",
       " 'New Zealand',\n",
       " 'West Indies',\n",
       " 'Bangladesh',\n",
       " 'Thailand',\n",
       " 'Pakistan',\n",
       " 'Sri Lanka']"
      ]
     },
     "execution_count": 511,
     "metadata": {},
     "output_type": "execute_result"
    }
   ],
   "source": [
    "for i in url:\n",
    "    #name=i.get_text()\n",
    "    coun.append(i.get_text())\n",
    "coun[0:10]"
   ]
  },
  {
   "cell_type": "code",
   "execution_count": 512,
   "id": "7666a100",
   "metadata": {},
   "outputs": [],
   "source": [
    "matches=soup.find_all('td',class_=\"rankings-block__banner--matches\")\n"
   ]
  },
  {
   "cell_type": "code",
   "execution_count": 513,
   "id": "9a00c323",
   "metadata": {},
   "outputs": [
    {
     "data": {
      "text/plain": [
       "['18']"
      ]
     },
     "execution_count": 513,
     "metadata": {},
     "output_type": "execute_result"
    }
   ],
   "source": [
    "for i in matches:\n",
    "    #name_1=i.get_text()\n",
    "    Matches.append(i.get_text())\n",
    "Matches[:]\n"
   ]
  },
  {
   "cell_type": "code",
   "execution_count": 514,
   "id": "dd2c0877",
   "metadata": {},
   "outputs": [],
   "source": [
    "matches_1=soup.find_all('td',class_=\"rankings-block__banner--points\")"
   ]
  },
  {
   "cell_type": "code",
   "execution_count": 515,
   "id": "9e01b595",
   "metadata": {},
   "outputs": [
    {
     "data": {
      "text/plain": [
       "['3,061']"
      ]
     },
     "execution_count": 515,
     "metadata": {},
     "output_type": "execute_result"
    }
   ],
   "source": [
    "for i in matches_1:\n",
    "    #name_1=i.get_text()\n",
    "    Points.append(i.get_text())\n",
    "Points[:]"
   ]
  },
  {
   "cell_type": "code",
   "execution_count": 516,
   "id": "c810a2cf",
   "metadata": {},
   "outputs": [],
   "source": [
    "rating=soup.find_all('td',class_=\"rankings-block__banner--rating u-text-right\")"
   ]
  },
  {
   "cell_type": "code",
   "execution_count": 517,
   "id": "56fd8c1c",
   "metadata": {},
   "outputs": [
    {
     "data": {
      "text/plain": [
       "['170']"
      ]
     },
     "execution_count": 517,
     "metadata": {},
     "output_type": "execute_result"
    }
   ],
   "source": [
    "for i in rating:\n",
    "    \n",
    "    no=i.get_text().replace('\\n','')\n",
    "    Rating.append(no.strip())\n",
    "    \n",
    "Rating[:]"
   ]
  },
  {
   "cell_type": "code",
   "execution_count": 518,
   "id": "a631b19e",
   "metadata": {},
   "outputs": [],
   "source": [
    "matches_2=soup.find_all('td',class_=\"table-body__cell u-center-text\")"
   ]
  },
  {
   "cell_type": "code",
   "execution_count": 519,
   "id": "fab962a9",
   "metadata": {},
   "outputs": [
    {
     "data": {
      "text/plain": [
       "['18', '28', '26', '27', '25', '27', '13', '8', '24', '8']"
      ]
     },
     "execution_count": 519,
     "metadata": {},
     "output_type": "execute_result"
    }
   ],
   "source": [
    "n=0\n",
    "for i in matches_2:\n",
    "    name2=i.get_text()\n",
    "    if n%2==0:\n",
    "        Matches.append(name2)\n",
    "    else:\n",
    "        Points.append(name2)\n",
    "    n=n+1\n",
    "Matches[0:10]\n",
    "    "
   ]
  },
  {
   "cell_type": "code",
   "execution_count": 520,
   "id": "e5f0ef05",
   "metadata": {},
   "outputs": [
    {
     "data": {
      "text/plain": [
       "['3,061',\n",
       " '3,342',\n",
       " '3,098',\n",
       " '2,820',\n",
       " '2,553',\n",
       " '2,535',\n",
       " '983',\n",
       " '572',\n",
       " '1,519',\n",
       " '353']"
      ]
     },
     "execution_count": 520,
     "metadata": {},
     "output_type": "execute_result"
    }
   ],
   "source": [
    "Points[0:10]"
   ]
  },
  {
   "cell_type": "code",
   "execution_count": 521,
   "id": "92f2b9e9",
   "metadata": {},
   "outputs": [],
   "source": [
    "rating_2=soup.find_all('td',class_=\"table-body__cell u-text-right rating\")"
   ]
  },
  {
   "cell_type": "code",
   "execution_count": 522,
   "id": "3896cf36",
   "metadata": {},
   "outputs": [],
   "source": [
    "for i in rating_2:\n",
    "    #no_2=i.get_text()\n",
    "    Rating.append(i.get_text())#Rating.append(no_2)"
   ]
  },
  {
   "cell_type": "code",
   "execution_count": 523,
   "id": "079f1bee",
   "metadata": {},
   "outputs": [
    {
     "data": {
      "text/plain": [
       "['170', '119', '119', '104', '102', '94', '76', '72', '63', '44']"
      ]
     },
     "execution_count": 523,
     "metadata": {},
     "output_type": "execute_result"
    }
   ],
   "source": [
    "Rating[0:10]"
   ]
  },
  {
   "cell_type": "code",
   "execution_count": 524,
   "id": "868321cb",
   "metadata": {},
   "outputs": [],
   "source": [
    "import pandas as pd"
   ]
  },
  {
   "cell_type": "code",
   "execution_count": 525,
   "id": "67920901",
   "metadata": {},
   "outputs": [],
   "source": [
    "ODI_Ranking=pd.DataFrame({})\n",
    "ODI_Ranking['Country']=Country[0:10]\n",
    "ODI_Ranking['Matches']=Matches[0:10]\n",
    "ODI_Ranking['Points']=Points[0:10]\n",
    "ODI_Ranking['Rating']=Rating[0:10]\n"
   ]
  },
  {
   "cell_type": "code",
   "execution_count": 526,
   "id": "5fb9ba9e",
   "metadata": {},
   "outputs": [
    {
     "data": {
      "text/html": [
       "<div>\n",
       "<style scoped>\n",
       "    .dataframe tbody tr th:only-of-type {\n",
       "        vertical-align: middle;\n",
       "    }\n",
       "\n",
       "    .dataframe tbody tr th {\n",
       "        vertical-align: top;\n",
       "    }\n",
       "\n",
       "    .dataframe thead th {\n",
       "        text-align: right;\n",
       "    }\n",
       "</style>\n",
       "<table border=\"1\" class=\"dataframe\">\n",
       "  <thead>\n",
       "    <tr style=\"text-align: right;\">\n",
       "      <th></th>\n",
       "      <th>Country</th>\n",
       "      <th>Matches</th>\n",
       "      <th>Points</th>\n",
       "      <th>Rating</th>\n",
       "    </tr>\n",
       "  </thead>\n",
       "  <tbody>\n",
       "    <tr>\n",
       "      <th>0</th>\n",
       "      <td>Australia</td>\n",
       "      <td>18</td>\n",
       "      <td>3,061</td>\n",
       "      <td>170</td>\n",
       "    </tr>\n",
       "    <tr>\n",
       "      <th>1</th>\n",
       "      <td>England</td>\n",
       "      <td>28</td>\n",
       "      <td>3,342</td>\n",
       "      <td>119</td>\n",
       "    </tr>\n",
       "    <tr>\n",
       "      <th>2</th>\n",
       "      <td>South Africa</td>\n",
       "      <td>26</td>\n",
       "      <td>3,098</td>\n",
       "      <td>119</td>\n",
       "    </tr>\n",
       "    <tr>\n",
       "      <th>3</th>\n",
       "      <td>India</td>\n",
       "      <td>27</td>\n",
       "      <td>2,820</td>\n",
       "      <td>104</td>\n",
       "    </tr>\n",
       "    <tr>\n",
       "      <th>4</th>\n",
       "      <td>New Zealand</td>\n",
       "      <td>25</td>\n",
       "      <td>2,553</td>\n",
       "      <td>102</td>\n",
       "    </tr>\n",
       "    <tr>\n",
       "      <th>5</th>\n",
       "      <td>West Indies</td>\n",
       "      <td>27</td>\n",
       "      <td>2,535</td>\n",
       "      <td>94</td>\n",
       "    </tr>\n",
       "    <tr>\n",
       "      <th>6</th>\n",
       "      <td>Bangladesh</td>\n",
       "      <td>13</td>\n",
       "      <td>983</td>\n",
       "      <td>76</td>\n",
       "    </tr>\n",
       "    <tr>\n",
       "      <th>7</th>\n",
       "      <td>Thailand</td>\n",
       "      <td>8</td>\n",
       "      <td>572</td>\n",
       "      <td>72</td>\n",
       "    </tr>\n",
       "    <tr>\n",
       "      <th>8</th>\n",
       "      <td>Pakistan</td>\n",
       "      <td>24</td>\n",
       "      <td>1,519</td>\n",
       "      <td>63</td>\n",
       "    </tr>\n",
       "    <tr>\n",
       "      <th>9</th>\n",
       "      <td>Sri Lanka</td>\n",
       "      <td>8</td>\n",
       "      <td>353</td>\n",
       "      <td>44</td>\n",
       "    </tr>\n",
       "  </tbody>\n",
       "</table>\n",
       "</div>"
      ],
      "text/plain": [
       "        Country Matches Points Rating\n",
       "0     Australia      18  3,061    170\n",
       "1       England      28  3,342    119\n",
       "2  South Africa      26  3,098    119\n",
       "3         India      27  2,820    104\n",
       "4   New Zealand      25  2,553    102\n",
       "5   West Indies      27  2,535     94\n",
       "6    Bangladesh      13    983     76\n",
       "7      Thailand       8    572     72\n",
       "8      Pakistan      24  1,519     63\n",
       "9     Sri Lanka       8    353     44"
      ]
     },
     "execution_count": 526,
     "metadata": {},
     "output_type": "execute_result"
    }
   ],
   "source": [
    "ODI_Ranking"
   ]
  },
  {
   "cell_type": "markdown",
   "id": "f736547f",
   "metadata": {},
   "source": [
    "Top 10 women’s ODI Batting players along with the records of their team and rating.# "
   ]
  },
  {
   "cell_type": "code",
   "execution_count": 527,
   "id": "26adeb7a",
   "metadata": {},
   "outputs": [],
   "source": [
    "page = requests.get('https://www.icc-cricket.com/rankings/womens/player-rankings/odi')\n",
    "soup = BeautifulSoup(page.text, 'html.parser')"
   ]
  },
  {
   "cell_type": "code",
   "execution_count": 528,
   "id": "67247165",
   "metadata": {},
   "outputs": [],
   "source": [
    "Name=[]\n",
    "Country=[]\n",
    "Rating=[]"
   ]
  },
  {
   "cell_type": "code",
   "execution_count": 529,
   "id": "1d50d029",
   "metadata": {},
   "outputs": [],
   "source": [
    "name=soup.find_all('div',class_=\"rankings-block__banner--name\")"
   ]
  },
  {
   "cell_type": "code",
   "execution_count": 530,
   "id": "87bf2a68",
   "metadata": {},
   "outputs": [],
   "source": [
    "c=0\n",
    "for i in name:\n",
    "    if c==0:#no=(i.get_text().replace('\\n',''))\n",
    "        Name.append(i.get_text().replace('\\n',''))#Name.append(no)\n",
    "        c=c+1"
   ]
  },
  {
   "cell_type": "code",
   "execution_count": 531,
   "id": "bf77b873",
   "metadata": {},
   "outputs": [
    {
     "data": {
      "text/plain": [
       "['Alyssa Healy']"
      ]
     },
     "execution_count": 531,
     "metadata": {},
     "output_type": "execute_result"
    }
   ],
   "source": [
    "Name[:]"
   ]
  },
  {
   "cell_type": "code",
   "execution_count": 532,
   "id": "89266766",
   "metadata": {},
   "outputs": [],
   "source": [
    "name_3=soup.find_all('td',class_=\"table-body__cell name\")"
   ]
  },
  {
   "cell_type": "code",
   "execution_count": 533,
   "id": "2c79f60e",
   "metadata": {},
   "outputs": [
    {
     "data": {
      "text/plain": [
       "['Alyssa Healy',\n",
       " 'Beth Mooney',\n",
       " 'Laura Wolvaardt',\n",
       " 'Natalie Sciver',\n",
       " 'Harmanpreet Kaur',\n",
       " 'Smriti Mandhana',\n",
       " 'Meg Lanning',\n",
       " 'Rachael Haynes',\n",
       " 'Chamari Athapaththu',\n",
       " 'Ellyse Perry']"
      ]
     },
     "execution_count": 533,
     "metadata": {},
     "output_type": "execute_result"
    }
   ],
   "source": [
    "for i in name_3:\n",
    "    Name.append((i.get_text().replace('\\n','')))\n",
    "Name[0:10]\n",
    "    "
   ]
  },
  {
   "cell_type": "code",
   "execution_count": 534,
   "id": "1f046783",
   "metadata": {},
   "outputs": [],
   "source": [
    "count=soup.find_all('span',class_=\"table-body__logo-text\")"
   ]
  },
  {
   "cell_type": "code",
   "execution_count": 535,
   "id": "8a8abec7",
   "metadata": {},
   "outputs": [
    {
     "data": {
      "text/plain": [
       "['AUS', 'AUS', 'SA', 'ENG', 'IND', 'IND', 'AUS', 'AUS', 'SL', 'AUS']"
      ]
     },
     "execution_count": 535,
     "metadata": {},
     "output_type": "execute_result"
    }
   ],
   "source": [
    "Country.append('AUS')\n",
    "for i in count:\n",
    "    Country.append(i.get_text().replace('\\n',''))\n",
    "Country[0:10]"
   ]
  },
  {
   "cell_type": "code",
   "execution_count": 536,
   "id": "08c8c6d7",
   "metadata": {},
   "outputs": [],
   "source": [
    "rate=soup.find_all('div',class_=\"rankings-block__banner--rating\")"
   ]
  },
  {
   "cell_type": "code",
   "execution_count": 537,
   "id": "2edd642b",
   "metadata": {},
   "outputs": [
    {
     "data": {
      "text/plain": [
       "['785']"
      ]
     },
     "execution_count": 537,
     "metadata": {},
     "output_type": "execute_result"
    }
   ],
   "source": [
    "c=0\n",
    "\n",
    "for i in rate:\n",
    "    if c==0:\n",
    "        no=i.get_text().replace('\\n','')\n",
    "        Rating.append(no)\n",
    "        c=+1\n",
    "Rating[:]"
   ]
  },
  {
   "cell_type": "code",
   "execution_count": 538,
   "id": "5b8465f2",
   "metadata": {},
   "outputs": [],
   "source": [
    "rate_2=soup.find_all('td',class_=\"table-body__cell u-text-right rating\")"
   ]
  },
  {
   "cell_type": "code",
   "execution_count": 539,
   "id": "b3e615b8",
   "metadata": {},
   "outputs": [
    {
     "data": {
      "text/plain": [
       "['785', '749', '732', '731', '716', '714', '710', '701', '655', '642']"
      ]
     },
     "execution_count": 539,
     "metadata": {},
     "output_type": "execute_result"
    }
   ],
   "source": [
    "for i in rate_2:\n",
    "    n=i.get_text().replace('\\n','')\n",
    "    Rating.append(n)\n",
    "Rating[0:10]"
   ]
  },
  {
   "cell_type": "code",
   "execution_count": 540,
   "id": "fda82091",
   "metadata": {},
   "outputs": [],
   "source": [
    "PLayer_Ranking=pd.DataFrame({})\n",
    "PLayer_Ranking['Name']=Name[0:10]\n",
    "PLayer_Ranking['Country']=Country[0:10]\n",
    "PLayer_Ranking['Rating']=Rating[0:10]"
   ]
  },
  {
   "cell_type": "code",
   "execution_count": 541,
   "id": "3fbfc759",
   "metadata": {},
   "outputs": [
    {
     "data": {
      "text/html": [
       "<div>\n",
       "<style scoped>\n",
       "    .dataframe tbody tr th:only-of-type {\n",
       "        vertical-align: middle;\n",
       "    }\n",
       "\n",
       "    .dataframe tbody tr th {\n",
       "        vertical-align: top;\n",
       "    }\n",
       "\n",
       "    .dataframe thead th {\n",
       "        text-align: right;\n",
       "    }\n",
       "</style>\n",
       "<table border=\"1\" class=\"dataframe\">\n",
       "  <thead>\n",
       "    <tr style=\"text-align: right;\">\n",
       "      <th></th>\n",
       "      <th>Name</th>\n",
       "      <th>Country</th>\n",
       "      <th>Rating</th>\n",
       "    </tr>\n",
       "  </thead>\n",
       "  <tbody>\n",
       "    <tr>\n",
       "      <th>0</th>\n",
       "      <td>Alyssa Healy</td>\n",
       "      <td>AUS</td>\n",
       "      <td>785</td>\n",
       "    </tr>\n",
       "    <tr>\n",
       "      <th>1</th>\n",
       "      <td>Beth Mooney</td>\n",
       "      <td>AUS</td>\n",
       "      <td>749</td>\n",
       "    </tr>\n",
       "    <tr>\n",
       "      <th>2</th>\n",
       "      <td>Laura Wolvaardt</td>\n",
       "      <td>SA</td>\n",
       "      <td>732</td>\n",
       "    </tr>\n",
       "    <tr>\n",
       "      <th>3</th>\n",
       "      <td>Natalie Sciver</td>\n",
       "      <td>ENG</td>\n",
       "      <td>731</td>\n",
       "    </tr>\n",
       "    <tr>\n",
       "      <th>4</th>\n",
       "      <td>Harmanpreet Kaur</td>\n",
       "      <td>IND</td>\n",
       "      <td>716</td>\n",
       "    </tr>\n",
       "    <tr>\n",
       "      <th>5</th>\n",
       "      <td>Smriti Mandhana</td>\n",
       "      <td>IND</td>\n",
       "      <td>714</td>\n",
       "    </tr>\n",
       "    <tr>\n",
       "      <th>6</th>\n",
       "      <td>Meg Lanning</td>\n",
       "      <td>AUS</td>\n",
       "      <td>710</td>\n",
       "    </tr>\n",
       "    <tr>\n",
       "      <th>7</th>\n",
       "      <td>Rachael Haynes</td>\n",
       "      <td>AUS</td>\n",
       "      <td>701</td>\n",
       "    </tr>\n",
       "    <tr>\n",
       "      <th>8</th>\n",
       "      <td>Chamari Athapaththu</td>\n",
       "      <td>SL</td>\n",
       "      <td>655</td>\n",
       "    </tr>\n",
       "    <tr>\n",
       "      <th>9</th>\n",
       "      <td>Ellyse Perry</td>\n",
       "      <td>AUS</td>\n",
       "      <td>642</td>\n",
       "    </tr>\n",
       "  </tbody>\n",
       "</table>\n",
       "</div>"
      ],
      "text/plain": [
       "                  Name Country Rating\n",
       "0         Alyssa Healy     AUS    785\n",
       "1          Beth Mooney     AUS    749\n",
       "2      Laura Wolvaardt      SA    732\n",
       "3       Natalie Sciver     ENG    731\n",
       "4     Harmanpreet Kaur     IND    716\n",
       "5      Smriti Mandhana     IND    714\n",
       "6          Meg Lanning     AUS    710\n",
       "7       Rachael Haynes     AUS    701\n",
       "8  Chamari Athapaththu      SL    655\n",
       "9         Ellyse Perry     AUS    642"
      ]
     },
     "execution_count": 541,
     "metadata": {},
     "output_type": "execute_result"
    }
   ],
   "source": [
    "PLayer_Ranking"
   ]
  },
  {
   "cell_type": "markdown",
   "id": "accb8617",
   "metadata": {},
   "source": [
    "# iii)Top 10 women’s ODI all-rounder along with the records of their team and rating."
   ]
  },
  {
   "cell_type": "code",
   "execution_count": 542,
   "id": "483b9b07",
   "metadata": {},
   "outputs": [],
   "source": [
    "page = requests.get('https://www.icc-cricket.com/rankings/womens/player-rankings/odi/all-rounder')\n",
    "soup = BeautifulSoup(page.text, 'html.parser')"
   ]
  },
  {
   "cell_type": "code",
   "execution_count": 543,
   "id": "d922ce8d",
   "metadata": {},
   "outputs": [],
   "source": [
    "Name=[]\n",
    "Country=[]\n",
    "Rating=[]"
   ]
  },
  {
   "cell_type": "code",
   "execution_count": 544,
   "id": "749c0583",
   "metadata": {},
   "outputs": [],
   "source": [
    "name=soup.find_all('div',class_=\"rankings-block__banner--name-large\")"
   ]
  },
  {
   "cell_type": "code",
   "execution_count": 545,
   "id": "e27bd02b",
   "metadata": {},
   "outputs": [
    {
     "data": {
      "text/plain": [
       "['Ellyse Perry']"
      ]
     },
     "execution_count": 545,
     "metadata": {},
     "output_type": "execute_result"
    }
   ],
   "source": [
    "c=0\n",
    "Name=[]\n",
    "for i in name:\n",
    "    if c==0:\n",
    "        no=i.get_text().replace('\\n','')\n",
    "        Name.append(no)\n",
    "        c=c+1\n",
    "Name[:]"
   ]
  },
  {
   "cell_type": "code",
   "execution_count": 546,
   "id": "46625a85",
   "metadata": {},
   "outputs": [],
   "source": [
    "name_2=soup.find_all('td',class_=\"table-body__cell rankings-table__name name\")"
   ]
  },
  {
   "cell_type": "code",
   "execution_count": 547,
   "id": "82ae09b0",
   "metadata": {},
   "outputs": [
    {
     "data": {
      "text/plain": [
       "['Ellyse Perry',\n",
       " 'Hayley Matthews',\n",
       " 'Natalie Sciver',\n",
       " 'Marizanne Kapp',\n",
       " 'Amelia Kerr',\n",
       " 'Deepti Sharma',\n",
       " 'Ashleigh Gardner',\n",
       " 'Jess Jonassen',\n",
       " 'Jhulan Goswami',\n",
       " 'Sophie Ecclestone']"
      ]
     },
     "execution_count": 547,
     "metadata": {},
     "output_type": "execute_result"
    }
   ],
   "source": [
    "for i in name_2:\n",
    "    #  no_2=i.get_text().replace('\\n','')\n",
    "    Name.append(i.get_text().replace('\\n',''))\n",
    "Name[0:10]"
   ]
  },
  {
   "cell_type": "code",
   "execution_count": 548,
   "id": "d82888ba",
   "metadata": {},
   "outputs": [],
   "source": [
    "count=soup.find_all('td',class_=\"table-body__cell nationality-logo rankings-table__team\")"
   ]
  },
  {
   "cell_type": "code",
   "execution_count": 549,
   "id": "384674eb",
   "metadata": {},
   "outputs": [
    {
     "data": {
      "text/plain": [
       "['AUS', 'WI', 'ENG', 'SA', 'NZ', 'IND', 'AUS', 'AUS', 'IND', 'ENG']"
      ]
     },
     "execution_count": 549,
     "metadata": {},
     "output_type": "execute_result"
    }
   ],
   "source": [
    "Country.append('AUS')\n",
    "for i in count:\n",
    "    no_3=i.get_text().replace('\\n','')\n",
    "    Country.append(no_3)\n",
    "Country[0:10]"
   ]
  },
  {
   "cell_type": "code",
   "execution_count": 550,
   "id": "2c233a3e",
   "metadata": {},
   "outputs": [],
   "source": [
    "rate=soup.find_all('div',class_=\"rankings-block__banner--rating\")"
   ]
  },
  {
   "cell_type": "code",
   "execution_count": 551,
   "id": "984e7161",
   "metadata": {},
   "outputs": [
    {
     "data": {
      "text/plain": [
       "['374']"
      ]
     },
     "execution_count": 551,
     "metadata": {},
     "output_type": "execute_result"
    }
   ],
   "source": [
    "for i in rate:\n",
    "    no=i.get_text().replace('\\n','')\n",
    "    Rating.append(no)\n",
    "Rating[:]"
   ]
  },
  {
   "cell_type": "code",
   "execution_count": 552,
   "id": "4438fd5b",
   "metadata": {},
   "outputs": [],
   "source": [
    "rate_2=soup.find_all('td',class_=\"table-body__cell rating\")"
   ]
  },
  {
   "cell_type": "code",
   "execution_count": 553,
   "id": "312ba7eb",
   "metadata": {},
   "outputs": [
    {
     "data": {
      "text/plain": [
       "['374', '373', '371', '349', '336', '322', '270', '246', '214', '205']"
      ]
     },
     "execution_count": 553,
     "metadata": {},
     "output_type": "execute_result"
    }
   ],
   "source": [
    "for i in rate_2:\n",
    "    no=i.get_text().replace('\\n','')\n",
    "    Rating.append(no)\n",
    "Rating[0:10]"
   ]
  },
  {
   "cell_type": "code",
   "execution_count": 554,
   "id": "5cd613b5",
   "metadata": {},
   "outputs": [
    {
     "data": {
      "text/html": [
       "<div>\n",
       "<style scoped>\n",
       "    .dataframe tbody tr th:only-of-type {\n",
       "        vertical-align: middle;\n",
       "    }\n",
       "\n",
       "    .dataframe tbody tr th {\n",
       "        vertical-align: top;\n",
       "    }\n",
       "\n",
       "    .dataframe thead th {\n",
       "        text-align: right;\n",
       "    }\n",
       "</style>\n",
       "<table border=\"1\" class=\"dataframe\">\n",
       "  <thead>\n",
       "    <tr style=\"text-align: right;\">\n",
       "      <th></th>\n",
       "      <th>Name</th>\n",
       "      <th>Country</th>\n",
       "      <th>Rating</th>\n",
       "    </tr>\n",
       "  </thead>\n",
       "  <tbody>\n",
       "    <tr>\n",
       "      <th>0</th>\n",
       "      <td>Ellyse Perry</td>\n",
       "      <td>AUS</td>\n",
       "      <td>374</td>\n",
       "    </tr>\n",
       "    <tr>\n",
       "      <th>1</th>\n",
       "      <td>Hayley Matthews</td>\n",
       "      <td>WI</td>\n",
       "      <td>373</td>\n",
       "    </tr>\n",
       "    <tr>\n",
       "      <th>2</th>\n",
       "      <td>Natalie Sciver</td>\n",
       "      <td>ENG</td>\n",
       "      <td>371</td>\n",
       "    </tr>\n",
       "    <tr>\n",
       "      <th>3</th>\n",
       "      <td>Marizanne Kapp</td>\n",
       "      <td>SA</td>\n",
       "      <td>349</td>\n",
       "    </tr>\n",
       "    <tr>\n",
       "      <th>4</th>\n",
       "      <td>Amelia Kerr</td>\n",
       "      <td>NZ</td>\n",
       "      <td>336</td>\n",
       "    </tr>\n",
       "    <tr>\n",
       "      <th>5</th>\n",
       "      <td>Deepti Sharma</td>\n",
       "      <td>IND</td>\n",
       "      <td>322</td>\n",
       "    </tr>\n",
       "    <tr>\n",
       "      <th>6</th>\n",
       "      <td>Ashleigh Gardner</td>\n",
       "      <td>AUS</td>\n",
       "      <td>270</td>\n",
       "    </tr>\n",
       "    <tr>\n",
       "      <th>7</th>\n",
       "      <td>Jess Jonassen</td>\n",
       "      <td>AUS</td>\n",
       "      <td>246</td>\n",
       "    </tr>\n",
       "    <tr>\n",
       "      <th>8</th>\n",
       "      <td>Jhulan Goswami</td>\n",
       "      <td>IND</td>\n",
       "      <td>214</td>\n",
       "    </tr>\n",
       "    <tr>\n",
       "      <th>9</th>\n",
       "      <td>Sophie Ecclestone</td>\n",
       "      <td>ENG</td>\n",
       "      <td>205</td>\n",
       "    </tr>\n",
       "  </tbody>\n",
       "</table>\n",
       "</div>"
      ],
      "text/plain": [
       "                Name Country Rating\n",
       "0       Ellyse Perry     AUS    374\n",
       "1    Hayley Matthews      WI    373\n",
       "2     Natalie Sciver     ENG    371\n",
       "3     Marizanne Kapp      SA    349\n",
       "4        Amelia Kerr      NZ    336\n",
       "5      Deepti Sharma     IND    322\n",
       "6   Ashleigh Gardner     AUS    270\n",
       "7      Jess Jonassen     AUS    246\n",
       "8     Jhulan Goswami     IND    214\n",
       "9  Sophie Ecclestone     ENG    205"
      ]
     },
     "execution_count": 554,
     "metadata": {},
     "output_type": "execute_result"
    }
   ],
   "source": [
    "table=pd.DataFrame({})\n",
    "table['Name']=Name[0:10]\n",
    "table['Country']=Country[0:10]\n",
    "table['Rating']=Rating[0:10]\n",
    "table"
   ]
  },
  {
   "cell_type": "code",
   "execution_count": 555,
   "id": "7fc7ff61",
   "metadata": {},
   "outputs": [],
   "source": [
    "table.to_csv('D:\\sandip\\womenAllroder.csv')"
   ]
  },
  {
   "cell_type": "code",
   "execution_count": 564,
   "id": "20dc09f6",
   "metadata": {},
   "outputs": [
    {
     "name": "stdout",
     "output_type": "stream",
     "text": [
      "                Name Country Rating\n",
      "0       Ellyse Perry     AUS    374\n",
      "1    Hayley Matthews      WI    373\n",
      "2     Natalie Sciver     ENG    371\n",
      "3     Marizanne Kapp      SA    349\n",
      "4        Amelia Kerr      NZ    336\n",
      "5      Deepti Sharma     IND    322\n",
      "6   Ashleigh Gardner     AUS    270\n",
      "7      Jess Jonassen     AUS    246\n",
      "8     Jhulan Goswami     IND    214\n",
      "9  Sophie Ecclestone     ENG    205\n"
     ]
    }
   ],
   "source": [
    "print(table)\n",
    "\n"
   ]
  },
  {
   "cell_type": "code",
   "execution_count": 565,
   "id": "5bd48f43",
   "metadata": {},
   "outputs": [
    {
     "name": "stdout",
     "output_type": "stream",
     "text": [
      "        Country Matches Points Rating\n",
      "0     Australia      18  3,061    170\n",
      "1       England      28  3,342    119\n",
      "2  South Africa      26  3,098    119\n",
      "3         India      27  2,820    104\n",
      "4   New Zealand      25  2,553    102\n",
      "5   West Indies      27  2,535     94\n",
      "6    Bangladesh      13    983     76\n",
      "7      Thailand       8    572     72\n",
      "8      Pakistan      24  1,519     63\n",
      "9     Sri Lanka       8    353     44\n"
     ]
    }
   ],
   "source": [
    "print(ODI_Ranking)"
   ]
  },
  {
   "cell_type": "code",
   "execution_count": 566,
   "id": "1c489621",
   "metadata": {},
   "outputs": [
    {
     "name": "stdout",
     "output_type": "stream",
     "text": [
      "                  Name Country Rating\n",
      "0         Alyssa Healy     AUS    785\n",
      "1          Beth Mooney     AUS    749\n",
      "2      Laura Wolvaardt      SA    732\n",
      "3       Natalie Sciver     ENG    731\n",
      "4     Harmanpreet Kaur     IND    716\n",
      "5      Smriti Mandhana     IND    714\n",
      "6          Meg Lanning     AUS    710\n",
      "7       Rachael Haynes     AUS    701\n",
      "8  Chamari Athapaththu      SL    655\n",
      "9         Ellyse Perry     AUS    642\n"
     ]
    }
   ],
   "source": [
    "print(PLayer_Ranking)"
   ]
  },
  {
   "cell_type": "code",
   "execution_count": null,
   "id": "605ae6b2",
   "metadata": {},
   "outputs": [],
   "source": []
  }
 ],
 "metadata": {
  "kernelspec": {
   "display_name": "Python 3 (ipykernel)",
   "language": "python",
   "name": "python3"
  },
  "language_info": {
   "codemirror_mode": {
    "name": "ipython",
    "version": 3
   },
   "file_extension": ".py",
   "mimetype": "text/x-python",
   "name": "python",
   "nbconvert_exporter": "python",
   "pygments_lexer": "ipython3",
   "version": "3.9.13"
  }
 },
 "nbformat": 4,
 "nbformat_minor": 5
}
