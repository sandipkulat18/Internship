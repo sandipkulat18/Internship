{
 "cells": [
  {
   "cell_type": "markdown",
   "id": "b82c1dff",
   "metadata": {},
   "source": [
    "5.Write a python program to scrape cricket rankings from icc-cricket.com. You have to scrape:"
   ]
  },
  {
   "cell_type": "code",
   "execution_count": 72,
   "id": "1d62c69b",
   "metadata": {},
   "outputs": [],
   "source": [
    "import  requests\n",
    "from  bs4 import BeautifulSoup"
   ]
  },
  {
   "cell_type": "markdown",
   "id": "1675d6ce",
   "metadata": {},
   "source": [
    "# i)Top 10 ODI teams in men’s cricket along with the records for matches, points and rating."
   ]
  },
  {
   "cell_type": "code",
   "execution_count": 73,
   "id": "5e9c8f04",
   "metadata": {},
   "outputs": [],
   "source": [
    "page = requests.get('https://www.icc-cricket.com/rankings/mens/team-rankings/odi')\n"
   ]
  },
  {
   "cell_type": "code",
   "execution_count": 74,
   "id": "e984cca5",
   "metadata": {},
   "outputs": [
    {
     "data": {
      "text/plain": [
       "<Response [200]>"
      ]
     },
     "execution_count": 74,
     "metadata": {},
     "output_type": "execute_result"
    }
   ],
   "source": [
    "page"
   ]
  },
  {
   "cell_type": "code",
   "execution_count": 75,
   "id": "a138ac7b",
   "metadata": {},
   "outputs": [],
   "source": [
    "soup = BeautifulSoup(page.text, 'html.parser')"
   ]
  },
  {
   "cell_type": "code",
   "execution_count": 76,
   "id": "ee9cf59a",
   "metadata": {},
   "outputs": [],
   "source": [
    "Country=[]\n",
    "Matches=[]\n",
    "Points=[]\n",
    "Rating=[]"
   ]
  },
  {
   "cell_type": "code",
   "execution_count": 77,
   "id": "209df2c3",
   "metadata": {},
   "outputs": [],
   "source": [
    "country=soup.find_all('span',class_=\"u-hide-phablet\")"
   ]
  },
  {
   "cell_type": "code",
   "execution_count": 78,
   "id": "4b4f33b1",
   "metadata": {},
   "outputs": [
    {
     "data": {
      "text/plain": [
       "['New Zealand',\n",
       " 'England',\n",
       " 'Australia',\n",
       " 'India',\n",
       " 'Pakistan',\n",
       " 'South Africa',\n",
       " 'Bangladesh',\n",
       " 'Sri Lanka',\n",
       " 'Afghanistan',\n",
       " 'West Indies']"
      ]
     },
     "execution_count": 78,
     "metadata": {},
     "output_type": "execute_result"
    }
   ],
   "source": [
    "for i in country:\n",
    "    name=i.get_text()\n",
    "    Country.append(name)\n",
    "Country[0:10]"
   ]
  },
  {
   "cell_type": "code",
   "execution_count": 79,
   "id": "51271117",
   "metadata": {},
   "outputs": [],
   "source": [
    "matches=soup.find_all('td',class_=\"rankings-block__banner--matches\")"
   ]
  },
  {
   "cell_type": "code",
   "execution_count": 80,
   "id": "a69b434a",
   "metadata": {},
   "outputs": [
    {
     "data": {
      "text/plain": [
       "['25']"
      ]
     },
     "execution_count": 80,
     "metadata": {},
     "output_type": "execute_result"
    }
   ],
   "source": [
    "for i in matches:\n",
    "    name_1=i.get_text()\n",
    "    Matches.append(name_1)\n",
    "Matches[:]"
   ]
  },
  {
   "cell_type": "code",
   "execution_count": 81,
   "id": "4ec10281",
   "metadata": {},
   "outputs": [],
   "source": [
    "matches_2=soup.find_all('td',class_=\"table-body__cell u-center-text\")"
   ]
  },
  {
   "cell_type": "code",
   "execution_count": 82,
   "id": "976dc723",
   "metadata": {},
   "outputs": [
    {
     "data": {
      "text/plain": [
       "['25', '30', '32', '40', '24', '24', '33', '33', '20', '41']"
      ]
     },
     "execution_count": 82,
     "metadata": {},
     "output_type": "execute_result"
    }
   ],
   "source": [
    "n=0\n",
    "for i in matches_2:\n",
    "    name_2=i.get_text()\n",
    "    if n%2==0:\n",
    "        Matches.append(name_2)\n",
    "    else:\n",
    "        Points.append(name_2)\n",
    "    n=n+1\n",
    "Matches[0:10]"
   ]
  },
  {
   "cell_type": "code",
   "execution_count": 83,
   "id": "be7b9e30",
   "metadata": {},
   "outputs": [
    {
     "data": {
      "text/plain": [
       "['3,400',\n",
       " '3,572',\n",
       " '4,377',\n",
       " '2,584',\n",
       " '2,392',\n",
       " '3,129',\n",
       " '2,917',\n",
       " '1,419',\n",
       " '2,902',\n",
       " '1,214']"
      ]
     },
     "execution_count": 83,
     "metadata": {},
     "output_type": "execute_result"
    }
   ],
   "source": [
    "Points[0:10]"
   ]
  },
  {
   "cell_type": "code",
   "execution_count": 84,
   "id": "e5f90641",
   "metadata": {},
   "outputs": [],
   "source": [
    "rating=soup.find_all('td',class_=\"rankings-block__banner--rating u-text-right\")"
   ]
  },
  {
   "cell_type": "code",
   "execution_count": 85,
   "id": "e35021a8",
   "metadata": {},
   "outputs": [
    {
     "data": {
      "text/plain": [
       "['115']"
      ]
     },
     "execution_count": 85,
     "metadata": {},
     "output_type": "execute_result"
    }
   ],
   "source": [
    "for i in rating:\n",
    "    Rating=[]\n",
    "    no=i.get_text().replace('\\n','')\n",
    "    Rating.append(no.strip())\n",
    "Rating[:]"
   ]
  },
  {
   "cell_type": "code",
   "execution_count": 86,
   "id": "1ed005db",
   "metadata": {},
   "outputs": [],
   "source": [
    "rating_2=soup.find_all('td',class_=\"table-body__cell u-text-right rating\")"
   ]
  },
  {
   "cell_type": "code",
   "execution_count": 87,
   "id": "333f118f",
   "metadata": {},
   "outputs": [
    {
     "data": {
      "text/plain": [
       "['115', '113', '112', '109', '108', '100', '95', '88', '71', '71']"
      ]
     },
     "execution_count": 87,
     "metadata": {},
     "output_type": "execute_result"
    }
   ],
   "source": [
    "for i in rating_2:\n",
    "    no_2=i.get_text()\n",
    "    Rating.append(no_2)\n",
    "Rating[0:10]"
   ]
  },
  {
   "cell_type": "code",
   "execution_count": 88,
   "id": "27589563",
   "metadata": {},
   "outputs": [],
   "source": [
    "import pandas as pd\n",
    "table=pd.DataFrame({})\n",
    "table['Country']=Country[0:10]\n",
    "table['Matches']=Matches[0:10]\n",
    "table['Points']=Points[0:10]\n",
    "table['Rating']=Rating[0:10]"
   ]
  },
  {
   "cell_type": "code",
   "execution_count": 89,
   "id": "75ce5f26",
   "metadata": {},
   "outputs": [
    {
     "data": {
      "text/html": [
       "<div>\n",
       "<style scoped>\n",
       "    .dataframe tbody tr th:only-of-type {\n",
       "        vertical-align: middle;\n",
       "    }\n",
       "\n",
       "    .dataframe tbody tr th {\n",
       "        vertical-align: top;\n",
       "    }\n",
       "\n",
       "    .dataframe thead th {\n",
       "        text-align: right;\n",
       "    }\n",
       "</style>\n",
       "<table border=\"1\" class=\"dataframe\">\n",
       "  <thead>\n",
       "    <tr style=\"text-align: right;\">\n",
       "      <th></th>\n",
       "      <th>Country</th>\n",
       "      <th>Matches</th>\n",
       "      <th>Points</th>\n",
       "      <th>Rating</th>\n",
       "    </tr>\n",
       "  </thead>\n",
       "  <tbody>\n",
       "    <tr>\n",
       "      <th>0</th>\n",
       "      <td>New Zealand</td>\n",
       "      <td>25</td>\n",
       "      <td>3,400</td>\n",
       "      <td>115</td>\n",
       "    </tr>\n",
       "    <tr>\n",
       "      <th>1</th>\n",
       "      <td>England</td>\n",
       "      <td>30</td>\n",
       "      <td>3,572</td>\n",
       "      <td>113</td>\n",
       "    </tr>\n",
       "    <tr>\n",
       "      <th>2</th>\n",
       "      <td>Australia</td>\n",
       "      <td>32</td>\n",
       "      <td>4,377</td>\n",
       "      <td>112</td>\n",
       "    </tr>\n",
       "    <tr>\n",
       "      <th>3</th>\n",
       "      <td>India</td>\n",
       "      <td>40</td>\n",
       "      <td>2,584</td>\n",
       "      <td>109</td>\n",
       "    </tr>\n",
       "    <tr>\n",
       "      <th>4</th>\n",
       "      <td>Pakistan</td>\n",
       "      <td>24</td>\n",
       "      <td>2,392</td>\n",
       "      <td>108</td>\n",
       "    </tr>\n",
       "    <tr>\n",
       "      <th>5</th>\n",
       "      <td>South Africa</td>\n",
       "      <td>24</td>\n",
       "      <td>3,129</td>\n",
       "      <td>100</td>\n",
       "    </tr>\n",
       "    <tr>\n",
       "      <th>6</th>\n",
       "      <td>Bangladesh</td>\n",
       "      <td>33</td>\n",
       "      <td>2,917</td>\n",
       "      <td>95</td>\n",
       "    </tr>\n",
       "    <tr>\n",
       "      <th>7</th>\n",
       "      <td>Sri Lanka</td>\n",
       "      <td>33</td>\n",
       "      <td>1,419</td>\n",
       "      <td>88</td>\n",
       "    </tr>\n",
       "    <tr>\n",
       "      <th>8</th>\n",
       "      <td>Afghanistan</td>\n",
       "      <td>20</td>\n",
       "      <td>2,902</td>\n",
       "      <td>71</td>\n",
       "    </tr>\n",
       "    <tr>\n",
       "      <th>9</th>\n",
       "      <td>West Indies</td>\n",
       "      <td>41</td>\n",
       "      <td>1,214</td>\n",
       "      <td>71</td>\n",
       "    </tr>\n",
       "  </tbody>\n",
       "</table>\n",
       "</div>"
      ],
      "text/plain": [
       "        Country Matches Points Rating\n",
       "0   New Zealand      25  3,400    115\n",
       "1       England      30  3,572    113\n",
       "2     Australia      32  4,377    112\n",
       "3         India      40  2,584    109\n",
       "4      Pakistan      24  2,392    108\n",
       "5  South Africa      24  3,129    100\n",
       "6    Bangladesh      33  2,917     95\n",
       "7     Sri Lanka      33  1,419     88\n",
       "8   Afghanistan      20  2,902     71\n",
       "9   West Indies      41  1,214     71"
      ]
     },
     "execution_count": 89,
     "metadata": {},
     "output_type": "execute_result"
    }
   ],
   "source": [
    "table"
   ]
  },
  {
   "cell_type": "code",
   "execution_count": 90,
   "id": "8941afaa",
   "metadata": {},
   "outputs": [],
   "source": [
    "table.to_csv('D:\\Sandip\\ODI_ranking.csv')"
   ]
  },
  {
   "cell_type": "code",
   "execution_count": 91,
   "id": "b09f3b29",
   "metadata": {},
   "outputs": [
    {
     "data": {
      "text/html": [
       "<div>\n",
       "<style scoped>\n",
       "    .dataframe tbody tr th:only-of-type {\n",
       "        vertical-align: middle;\n",
       "    }\n",
       "\n",
       "    .dataframe tbody tr th {\n",
       "        vertical-align: top;\n",
       "    }\n",
       "\n",
       "    .dataframe thead th {\n",
       "        text-align: right;\n",
       "    }\n",
       "</style>\n",
       "<table border=\"1\" class=\"dataframe\">\n",
       "  <thead>\n",
       "    <tr style=\"text-align: right;\">\n",
       "      <th></th>\n",
       "      <th>Country</th>\n",
       "      <th>Matches</th>\n",
       "      <th>Points</th>\n",
       "      <th>Rating</th>\n",
       "    </tr>\n",
       "  </thead>\n",
       "  <tbody>\n",
       "    <tr>\n",
       "      <th>0</th>\n",
       "      <td>New Zealand</td>\n",
       "      <td>25</td>\n",
       "      <td>3,400</td>\n",
       "      <td>115</td>\n",
       "    </tr>\n",
       "    <tr>\n",
       "      <th>1</th>\n",
       "      <td>England</td>\n",
       "      <td>30</td>\n",
       "      <td>3,572</td>\n",
       "      <td>113</td>\n",
       "    </tr>\n",
       "    <tr>\n",
       "      <th>2</th>\n",
       "      <td>Australia</td>\n",
       "      <td>32</td>\n",
       "      <td>4,377</td>\n",
       "      <td>112</td>\n",
       "    </tr>\n",
       "    <tr>\n",
       "      <th>3</th>\n",
       "      <td>India</td>\n",
       "      <td>40</td>\n",
       "      <td>2,584</td>\n",
       "      <td>109</td>\n",
       "    </tr>\n",
       "    <tr>\n",
       "      <th>4</th>\n",
       "      <td>Pakistan</td>\n",
       "      <td>24</td>\n",
       "      <td>2,392</td>\n",
       "      <td>108</td>\n",
       "    </tr>\n",
       "    <tr>\n",
       "      <th>5</th>\n",
       "      <td>South Africa</td>\n",
       "      <td>24</td>\n",
       "      <td>3,129</td>\n",
       "      <td>100</td>\n",
       "    </tr>\n",
       "    <tr>\n",
       "      <th>6</th>\n",
       "      <td>Bangladesh</td>\n",
       "      <td>33</td>\n",
       "      <td>2,917</td>\n",
       "      <td>95</td>\n",
       "    </tr>\n",
       "    <tr>\n",
       "      <th>7</th>\n",
       "      <td>Sri Lanka</td>\n",
       "      <td>33</td>\n",
       "      <td>1,419</td>\n",
       "      <td>88</td>\n",
       "    </tr>\n",
       "    <tr>\n",
       "      <th>8</th>\n",
       "      <td>Afghanistan</td>\n",
       "      <td>20</td>\n",
       "      <td>2,902</td>\n",
       "      <td>71</td>\n",
       "    </tr>\n",
       "    <tr>\n",
       "      <th>9</th>\n",
       "      <td>West Indies</td>\n",
       "      <td>41</td>\n",
       "      <td>1,214</td>\n",
       "      <td>71</td>\n",
       "    </tr>\n",
       "  </tbody>\n",
       "</table>\n",
       "</div>"
      ],
      "text/plain": [
       "        Country Matches Points Rating\n",
       "0   New Zealand      25  3,400    115\n",
       "1       England      30  3,572    113\n",
       "2     Australia      32  4,377    112\n",
       "3         India      40  2,584    109\n",
       "4      Pakistan      24  2,392    108\n",
       "5  South Africa      24  3,129    100\n",
       "6    Bangladesh      33  2,917     95\n",
       "7     Sri Lanka      33  1,419     88\n",
       "8   Afghanistan      20  2,902     71\n",
       "9   West Indies      41  1,214     71"
      ]
     },
     "execution_count": 91,
     "metadata": {},
     "output_type": "execute_result"
    }
   ],
   "source": [
    "table"
   ]
  },
  {
   "cell_type": "markdown",
   "id": "48016b99",
   "metadata": {},
   "source": [
    "ii)Top 10 ODI Batsmen in men along with the records of their team and rating."
   ]
  },
  {
   "cell_type": "code",
   "execution_count": 92,
   "id": "af1b5ea4",
   "metadata": {},
   "outputs": [],
   "source": [
    "page = requests.get('https://www.icc-cricket.com/rankings/mens/player-rankings/odi')\n",
    "soup = BeautifulSoup(page.text, 'html.parser')"
   ]
  },
  {
   "cell_type": "code",
   "execution_count": 93,
   "id": "d5b8e9d8",
   "metadata": {},
   "outputs": [],
   "source": [
    "Name=[]\n",
    "Country=[]\n",
    "Rating=[]"
   ]
  },
  {
   "cell_type": "code",
   "execution_count": 94,
   "id": "656db4ff",
   "metadata": {},
   "outputs": [],
   "source": [
    "name=soup.find_all('div',class_=\"rankings-block__banner--name\")"
   ]
  },
  {
   "cell_type": "code",
   "execution_count": 95,
   "id": "82240445",
   "metadata": {},
   "outputs": [
    {
     "data": {
      "text/plain": [
       "['Babar Azam']"
      ]
     },
     "execution_count": 95,
     "metadata": {},
     "output_type": "execute_result"
    }
   ],
   "source": [
    "c=0\n",
    "Name=[]\n",
    "for i in name:\n",
    "    if c==0:\n",
    "        no=i.get_text().replace('\\n','')\n",
    "        Name.append(no)\n",
    "        c=c+1\n",
    "Name[:]"
   ]
  },
  {
   "cell_type": "code",
   "execution_count": 96,
   "id": "917f1fba",
   "metadata": {},
   "outputs": [],
   "source": [
    "name_2=soup.find_all('td',class_=\"table-body__cell name\")"
   ]
  },
  {
   "cell_type": "code",
   "execution_count": 97,
   "id": "230ae63d",
   "metadata": {},
   "outputs": [
    {
     "data": {
      "text/plain": [
       "['Babar Azam',\n",
       " 'Rassie van der Dussen',\n",
       " 'Imam-ul-Haq',\n",
       " 'Quinton de Kock',\n",
       " 'David Warner',\n",
       " 'Virat Kohli',\n",
       " 'Steve Smith',\n",
       " 'Rohit Sharma',\n",
       " 'Jonny Bairstow',\n",
       " 'Fakhar Zaman']"
      ]
     },
     "execution_count": 97,
     "metadata": {},
     "output_type": "execute_result"
    }
   ],
   "source": [
    "for i in name_2:\n",
    "    no_2=i.get_text().replace('\\n','')\n",
    "    Name.append(no_2)\n",
    "Name[0:10]    "
   ]
  },
  {
   "cell_type": "code",
   "execution_count": 98,
   "id": "c3b18f0d",
   "metadata": {},
   "outputs": [],
   "source": [
    "count=soup.find_all('span',class_=\"table-body__logo-text\")"
   ]
  },
  {
   "cell_type": "code",
   "execution_count": 99,
   "id": "c63f5fbb",
   "metadata": {},
   "outputs": [
    {
     "data": {
      "text/plain": [
       "['IND', 'SA', 'PAK', 'SA', 'AUS', 'IND', 'AUS', 'IND', 'ENG', 'PAK']"
      ]
     },
     "execution_count": 99,
     "metadata": {},
     "output_type": "execute_result"
    }
   ],
   "source": [
    "Country.append('IND')\n",
    "for i in count:\n",
    "    no_3=i.get_text().replace('\\n','')\n",
    "    Country.append(no_3)\n",
    "Country[0:10]"
   ]
  },
  {
   "cell_type": "code",
   "execution_count": 100,
   "id": "a93372de",
   "metadata": {},
   "outputs": [],
   "source": [
    "rate=soup.find_all('div',class_=\"rankings-block__banner--rating\")"
   ]
  },
  {
   "cell_type": "code",
   "execution_count": 101,
   "id": "da72bff0",
   "metadata": {},
   "outputs": [
    {
     "data": {
      "text/plain": [
       "['891']"
      ]
     },
     "execution_count": 101,
     "metadata": {},
     "output_type": "execute_result"
    }
   ],
   "source": [
    "c=0\n",
    "Rating=[]\n",
    "for i in rate:\n",
    "    if c==0:\n",
    "        no=i.get_text().replace('\\n','')\n",
    "        Rating.append(no)\n",
    "        c=c+1\n",
    "Rating[:]"
   ]
  },
  {
   "cell_type": "code",
   "execution_count": 102,
   "id": "7f5b44b9",
   "metadata": {},
   "outputs": [],
   "source": [
    "rate_2=soup.find_all('td',class_=\"table-body__cell u-text-right rating\")"
   ]
  },
  {
   "cell_type": "code",
   "execution_count": 103,
   "id": "66c8a24c",
   "metadata": {},
   "outputs": [
    {
     "data": {
      "text/plain": [
       "['891', '766', '764', '759', '747', '726', '719', '715', '710', '695']"
      ]
     },
     "execution_count": 103,
     "metadata": {},
     "output_type": "execute_result"
    }
   ],
   "source": [
    "for i in rate_2:\n",
    "    no=i.get_text().replace('\\n','')\n",
    "    Rating.append(no)\n",
    "Rating[0:10]"
   ]
  },
  {
   "cell_type": "code",
   "execution_count": 104,
   "id": "32d53fb1",
   "metadata": {},
   "outputs": [],
   "source": [
    "table=pd.DataFrame({})\n",
    "table['Name']=Name[0:10]\n",
    "table['Country']=Country[0:10]\n",
    "table['Rating']=Rating[0:10]"
   ]
  },
  {
   "cell_type": "code",
   "execution_count": 105,
   "id": "4ba49a6a",
   "metadata": {},
   "outputs": [
    {
     "data": {
      "text/html": [
       "<div>\n",
       "<style scoped>\n",
       "    .dataframe tbody tr th:only-of-type {\n",
       "        vertical-align: middle;\n",
       "    }\n",
       "\n",
       "    .dataframe tbody tr th {\n",
       "        vertical-align: top;\n",
       "    }\n",
       "\n",
       "    .dataframe thead th {\n",
       "        text-align: right;\n",
       "    }\n",
       "</style>\n",
       "<table border=\"1\" class=\"dataframe\">\n",
       "  <thead>\n",
       "    <tr style=\"text-align: right;\">\n",
       "      <th></th>\n",
       "      <th>Name</th>\n",
       "      <th>Country</th>\n",
       "      <th>Rating</th>\n",
       "    </tr>\n",
       "  </thead>\n",
       "  <tbody>\n",
       "    <tr>\n",
       "      <th>0</th>\n",
       "      <td>Babar Azam</td>\n",
       "      <td>IND</td>\n",
       "      <td>891</td>\n",
       "    </tr>\n",
       "    <tr>\n",
       "      <th>1</th>\n",
       "      <td>Rassie van der Dussen</td>\n",
       "      <td>SA</td>\n",
       "      <td>766</td>\n",
       "    </tr>\n",
       "    <tr>\n",
       "      <th>2</th>\n",
       "      <td>Imam-ul-Haq</td>\n",
       "      <td>PAK</td>\n",
       "      <td>764</td>\n",
       "    </tr>\n",
       "    <tr>\n",
       "      <th>3</th>\n",
       "      <td>Quinton de Kock</td>\n",
       "      <td>SA</td>\n",
       "      <td>759</td>\n",
       "    </tr>\n",
       "    <tr>\n",
       "      <th>4</th>\n",
       "      <td>David Warner</td>\n",
       "      <td>AUS</td>\n",
       "      <td>747</td>\n",
       "    </tr>\n",
       "    <tr>\n",
       "      <th>5</th>\n",
       "      <td>Virat Kohli</td>\n",
       "      <td>IND</td>\n",
       "      <td>726</td>\n",
       "    </tr>\n",
       "    <tr>\n",
       "      <th>6</th>\n",
       "      <td>Steve Smith</td>\n",
       "      <td>AUS</td>\n",
       "      <td>719</td>\n",
       "    </tr>\n",
       "    <tr>\n",
       "      <th>7</th>\n",
       "      <td>Rohit Sharma</td>\n",
       "      <td>IND</td>\n",
       "      <td>715</td>\n",
       "    </tr>\n",
       "    <tr>\n",
       "      <th>8</th>\n",
       "      <td>Jonny Bairstow</td>\n",
       "      <td>ENG</td>\n",
       "      <td>710</td>\n",
       "    </tr>\n",
       "    <tr>\n",
       "      <th>9</th>\n",
       "      <td>Fakhar Zaman</td>\n",
       "      <td>PAK</td>\n",
       "      <td>695</td>\n",
       "    </tr>\n",
       "  </tbody>\n",
       "</table>\n",
       "</div>"
      ],
      "text/plain": [
       "                    Name Country Rating\n",
       "0             Babar Azam     IND    891\n",
       "1  Rassie van der Dussen      SA    766\n",
       "2            Imam-ul-Haq     PAK    764\n",
       "3        Quinton de Kock      SA    759\n",
       "4           David Warner     AUS    747\n",
       "5            Virat Kohli     IND    726\n",
       "6            Steve Smith     AUS    719\n",
       "7           Rohit Sharma     IND    715\n",
       "8         Jonny Bairstow     ENG    710\n",
       "9           Fakhar Zaman     PAK    695"
      ]
     },
     "execution_count": 105,
     "metadata": {},
     "output_type": "execute_result"
    }
   ],
   "source": [
    "table"
   ]
  },
  {
   "cell_type": "code",
   "execution_count": 106,
   "id": "4377d628",
   "metadata": {},
   "outputs": [],
   "source": [
    "table.to_csv('D:\\Sandip\\ODI_Basten_.csv')"
   ]
  },
  {
   "cell_type": "markdown",
   "id": "8e0fd2a4",
   "metadata": {},
   "source": [
    "# iii)Top 10 ODI bowlers along with the records of their team and rating."
   ]
  },
  {
   "cell_type": "code",
   "execution_count": 107,
   "id": "57c3efa7",
   "metadata": {},
   "outputs": [],
   "source": [
    "page = requests.get('https://www.icc-cricket.com/rankings/mens/player-rankings/odi/bowling')\n",
    "soup = BeautifulSoup(page.text, 'html.parser')"
   ]
  },
  {
   "cell_type": "code",
   "execution_count": 108,
   "id": "e496e098",
   "metadata": {},
   "outputs": [],
   "source": [
    "Name=[]\n",
    "Country=[]\n",
    "Rating=[]"
   ]
  },
  {
   "cell_type": "code",
   "execution_count": 109,
   "id": "6d4076ab",
   "metadata": {},
   "outputs": [],
   "source": [
    "name=soup.find_all('div',class_=\"rankings-block__banner--name-large\")"
   ]
  },
  {
   "cell_type": "code",
   "execution_count": 110,
   "id": "b27f51f0",
   "metadata": {},
   "outputs": [
    {
     "data": {
      "text/plain": [
       "['Trent Boult']"
      ]
     },
     "execution_count": 110,
     "metadata": {},
     "output_type": "execute_result"
    }
   ],
   "source": [
    "c=0\n",
    "Name=[]\n",
    "for i in name:\n",
    "    if c==0:\n",
    "        no=i.get_text().replace('\\n','')\n",
    "        Name.append(no)\n",
    "        c=c+1\n",
    "Name[:]"
   ]
  },
  {
   "cell_type": "code",
   "execution_count": 111,
   "id": "87713549",
   "metadata": {},
   "outputs": [],
   "source": [
    "name_2=soup.find_all('td',class_=\"table-body__cell rankings-table__name name\")"
   ]
  },
  {
   "cell_type": "code",
   "execution_count": 112,
   "id": "f95259a4",
   "metadata": {},
   "outputs": [
    {
     "data": {
      "text/plain": [
       "['Trent Boult',\n",
       " 'Josh Hazlewood',\n",
       " 'Mitchell Starc',\n",
       " 'Rashid Khan',\n",
       " 'Matt Henry',\n",
       " 'Adam Zampa',\n",
       " 'Shaheen Afridi',\n",
       " 'Shakib Al Hasan',\n",
       " 'Mustafizur Rahman',\n",
       " 'Mujeeb Ur Rahman']"
      ]
     },
     "execution_count": 112,
     "metadata": {},
     "output_type": "execute_result"
    }
   ],
   "source": [
    "for i in name_2:\n",
    "    no_2=i.get_text().replace('\\n','')\n",
    "    Name.append(no_2)\n",
    "Name[0:10]"
   ]
  },
  {
   "cell_type": "code",
   "execution_count": 113,
   "id": "5ea11b25",
   "metadata": {},
   "outputs": [],
   "source": [
    "count=soup.find_all('td',class_=\"table-body__cell nationality-logo rankings-table__team\")for i in rate:\n",
    "    no=i.get_text().replace('\\n','')\n",
    "    Rating.append(no)\n",
    "Rating[:]"
   ]
  },
  {
   "cell_type": "code",
   "execution_count": 114,
   "id": "4acbf283",
   "metadata": {},
   "outputs": [
    {
     "data": {
      "text/plain": [
       "['NZ', 'AUS', 'AUS', 'AFG', 'NZ', 'AUS', 'PAK', 'BAN', 'BAN', 'AFG']"
      ]
     },
     "execution_count": 114,
     "metadata": {},
     "output_type": "execute_result"
    }
   ],
   "source": [
    "Country.append('NZ')\n",
    "for i in count:\n",
    "    no_3=i.get_text().replace('\\n','')\n",
    "    Country.append(no_3)\n",
    "Country[0:10]"
   ]
  },
  {
   "cell_type": "code",
   "execution_count": 115,
   "id": "94cc0fb0",
   "metadata": {},
   "outputs": [],
   "source": [
    "rate=soup.find_all('div',class_=\"rankings-block__banner--rating\")"
   ]
  },
  {
   "cell_type": "code",
   "execution_count": 116,
   "id": "892649d6",
   "metadata": {},
   "outputs": [
    {
     "data": {
      "text/plain": [
       "['744']"
      ]
     },
     "execution_count": 116,
     "metadata": {},
     "output_type": "execute_result"
    }
   ],
   "source": [
    "for i in rate:\n",
    "    no=i.get_text().replace('\\n','')\n",
    "    Rating.append(no)\n",
    "Rating[:]"
   ]
  },
  {
   "cell_type": "code",
   "execution_count": 117,
   "id": "b6e75d12",
   "metadata": {},
   "outputs": [],
   "source": [
    "rate_2=soup.find_all('td',class_=\"table-body__cell rating\")"
   ]
  },
  {
   "cell_type": "code",
   "execution_count": 118,
   "id": "bb382e83",
   "metadata": {},
   "outputs": [
    {
     "data": {
      "text/plain": [
       "['744', '727', '665', '659', '656', '655', '654', '652', '638', '637']"
      ]
     },
     "execution_count": 118,
     "metadata": {},
     "output_type": "execute_result"
    }
   ],
   "source": [
    "for i in rate_2:\n",
    "    no=i.get_text().replace('\\n','')\n",
    "    Rating.append(no)\n",
    "Rating[0:10]\n"
   ]
  },
  {
   "cell_type": "code",
   "execution_count": 119,
   "id": "8ef24132",
   "metadata": {},
   "outputs": [],
   "source": [
    "table=pd.DataFrame({})\n",
    "table['Name']=Name[0:10]\n",
    "table['Country']=Country[0:10]\n",
    "table['Rating']=Rating[0:10]"
   ]
  },
  {
   "cell_type": "code",
   "execution_count": 120,
   "id": "6018f2b0",
   "metadata": {},
   "outputs": [
    {
     "data": {
      "text/html": [
       "<div>\n",
       "<style scoped>\n",
       "    .dataframe tbody tr th:only-of-type {\n",
       "        vertical-align: middle;\n",
       "    }\n",
       "\n",
       "    .dataframe tbody tr th {\n",
       "        vertical-align: top;\n",
       "    }\n",
       "\n",
       "    .dataframe thead th {\n",
       "        text-align: right;\n",
       "    }\n",
       "</style>\n",
       "<table border=\"1\" class=\"dataframe\">\n",
       "  <thead>\n",
       "    <tr style=\"text-align: right;\">\n",
       "      <th></th>\n",
       "      <th>Name</th>\n",
       "      <th>Country</th>\n",
       "      <th>Rating</th>\n",
       "    </tr>\n",
       "  </thead>\n",
       "  <tbody>\n",
       "    <tr>\n",
       "      <th>0</th>\n",
       "      <td>Trent Boult</td>\n",
       "      <td>NZ</td>\n",
       "      <td>744</td>\n",
       "    </tr>\n",
       "    <tr>\n",
       "      <th>1</th>\n",
       "      <td>Josh Hazlewood</td>\n",
       "      <td>AUS</td>\n",
       "      <td>727</td>\n",
       "    </tr>\n",
       "    <tr>\n",
       "      <th>2</th>\n",
       "      <td>Mitchell Starc</td>\n",
       "      <td>AUS</td>\n",
       "      <td>665</td>\n",
       "    </tr>\n",
       "    <tr>\n",
       "      <th>3</th>\n",
       "      <td>Rashid Khan</td>\n",
       "      <td>AFG</td>\n",
       "      <td>659</td>\n",
       "    </tr>\n",
       "    <tr>\n",
       "      <th>4</th>\n",
       "      <td>Matt Henry</td>\n",
       "      <td>NZ</td>\n",
       "      <td>656</td>\n",
       "    </tr>\n",
       "    <tr>\n",
       "      <th>5</th>\n",
       "      <td>Adam Zampa</td>\n",
       "      <td>AUS</td>\n",
       "      <td>655</td>\n",
       "    </tr>\n",
       "    <tr>\n",
       "      <th>6</th>\n",
       "      <td>Shaheen Afridi</td>\n",
       "      <td>PAK</td>\n",
       "      <td>654</td>\n",
       "    </tr>\n",
       "    <tr>\n",
       "      <th>7</th>\n",
       "      <td>Shakib Al Hasan</td>\n",
       "      <td>BAN</td>\n",
       "      <td>652</td>\n",
       "    </tr>\n",
       "    <tr>\n",
       "      <th>8</th>\n",
       "      <td>Mustafizur Rahman</td>\n",
       "      <td>BAN</td>\n",
       "      <td>638</td>\n",
       "    </tr>\n",
       "    <tr>\n",
       "      <th>9</th>\n",
       "      <td>Mujeeb Ur Rahman</td>\n",
       "      <td>AFG</td>\n",
       "      <td>637</td>\n",
       "    </tr>\n",
       "  </tbody>\n",
       "</table>\n",
       "</div>"
      ],
      "text/plain": [
       "                Name Country Rating\n",
       "0        Trent Boult      NZ    744\n",
       "1     Josh Hazlewood     AUS    727\n",
       "2     Mitchell Starc     AUS    665\n",
       "3        Rashid Khan     AFG    659\n",
       "4         Matt Henry      NZ    656\n",
       "5         Adam Zampa     AUS    655\n",
       "6     Shaheen Afridi     PAK    654\n",
       "7    Shakib Al Hasan     BAN    652\n",
       "8  Mustafizur Rahman     BAN    638\n",
       "9   Mujeeb Ur Rahman     AFG    637"
      ]
     },
     "execution_count": 120,
     "metadata": {},
     "output_type": "execute_result"
    }
   ],
   "source": [
    "table"
   ]
  },
  {
   "cell_type": "code",
   "execution_count": 121,
   "id": "e969821a",
   "metadata": {},
   "outputs": [],
   "source": [
    "table.to_csv('D:\\Sandip\\ODI10_Blowers.csv')"
   ]
  },
  {
   "cell_type": "code",
   "execution_count": 122,
   "id": "13d1fc0e",
   "metadata": {},
   "outputs": [
    {
     "data": {
      "text/html": [
       "<div>\n",
       "<style scoped>\n",
       "    .dataframe tbody tr th:only-of-type {\n",
       "        vertical-align: middle;\n",
       "    }\n",
       "\n",
       "    .dataframe tbody tr th {\n",
       "        vertical-align: top;\n",
       "    }\n",
       "\n",
       "    .dataframe thead th {\n",
       "        text-align: right;\n",
       "    }\n",
       "</style>\n",
       "<table border=\"1\" class=\"dataframe\">\n",
       "  <thead>\n",
       "    <tr style=\"text-align: right;\">\n",
       "      <th></th>\n",
       "      <th>Name</th>\n",
       "      <th>Country</th>\n",
       "      <th>Rating</th>\n",
       "    </tr>\n",
       "  </thead>\n",
       "  <tbody>\n",
       "    <tr>\n",
       "      <th>0</th>\n",
       "      <td>Trent Boult</td>\n",
       "      <td>NZ</td>\n",
       "      <td>744</td>\n",
       "    </tr>\n",
       "    <tr>\n",
       "      <th>1</th>\n",
       "      <td>Josh Hazlewood</td>\n",
       "      <td>AUS</td>\n",
       "      <td>727</td>\n",
       "    </tr>\n",
       "    <tr>\n",
       "      <th>2</th>\n",
       "      <td>Mitchell Starc</td>\n",
       "      <td>AUS</td>\n",
       "      <td>665</td>\n",
       "    </tr>\n",
       "    <tr>\n",
       "      <th>3</th>\n",
       "      <td>Rashid Khan</td>\n",
       "      <td>AFG</td>\n",
       "      <td>659</td>\n",
       "    </tr>\n",
       "    <tr>\n",
       "      <th>4</th>\n",
       "      <td>Matt Henry</td>\n",
       "      <td>NZ</td>\n",
       "      <td>656</td>\n",
       "    </tr>\n",
       "    <tr>\n",
       "      <th>5</th>\n",
       "      <td>Adam Zampa</td>\n",
       "      <td>AUS</td>\n",
       "      <td>655</td>\n",
       "    </tr>\n",
       "    <tr>\n",
       "      <th>6</th>\n",
       "      <td>Shaheen Afridi</td>\n",
       "      <td>PAK</td>\n",
       "      <td>654</td>\n",
       "    </tr>\n",
       "    <tr>\n",
       "      <th>7</th>\n",
       "      <td>Shakib Al Hasan</td>\n",
       "      <td>BAN</td>\n",
       "      <td>652</td>\n",
       "    </tr>\n",
       "    <tr>\n",
       "      <th>8</th>\n",
       "      <td>Mustafizur Rahman</td>\n",
       "      <td>BAN</td>\n",
       "      <td>638</td>\n",
       "    </tr>\n",
       "    <tr>\n",
       "      <th>9</th>\n",
       "      <td>Mujeeb Ur Rahman</td>\n",
       "      <td>AFG</td>\n",
       "      <td>637</td>\n",
       "    </tr>\n",
       "  </tbody>\n",
       "</table>\n",
       "</div>"
      ],
      "text/plain": [
       "                Name Country Rating\n",
       "0        Trent Boult      NZ    744\n",
       "1     Josh Hazlewood     AUS    727\n",
       "2     Mitchell Starc     AUS    665\n",
       "3        Rashid Khan     AFG    659\n",
       "4         Matt Henry      NZ    656\n",
       "5         Adam Zampa     AUS    655\n",
       "6     Shaheen Afridi     PAK    654\n",
       "7    Shakib Al Hasan     BAN    652\n",
       "8  Mustafizur Rahman     BAN    638\n",
       "9   Mujeeb Ur Rahman     AFG    637"
      ]
     },
     "execution_count": 122,
     "metadata": {},
     "output_type": "execute_result"
    }
   ],
   "source": [
    "table"
   ]
  },
  {
   "cell_type": "code",
   "execution_count": null,
   "id": "b6fca521",
   "metadata": {},
   "outputs": [],
   "source": []
  }
 ],
 "metadata": {
  "kernelspec": {
   "display_name": "Python 3 (ipykernel)",
   "language": "python",
   "name": "python3"
  },
  "language_info": {
   "codemirror_mode": {
    "name": "ipython",
    "version": 3
   },
   "file_extension": ".py",
   "mimetype": "text/x-python",
   "name": "python",
   "nbconvert_exporter": "python",
   "pygments_lexer": "ipython3",
   "version": "3.9.13"
  }
 },
 "nbformat": 4,
 "nbformat_minor": 5
}
