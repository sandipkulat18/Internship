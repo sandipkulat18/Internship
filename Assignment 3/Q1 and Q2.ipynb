{
 "cells": [
  {
   "cell_type": "code",
   "execution_count": 2,
   "id": "070c2e49",
   "metadata": {},
   "outputs": [],
   "source": [
    "import selenium \n",
    "import pandas as pd\n",
    "from selenium import webdriver\n",
    "from selenium.common.exceptions import StaleElementReferenceException,NoSuchElementException\n",
    "from selenium.webdriver.common.by import By\n",
    "import time\n",
    "import warnings\n",
    "warnings.filterwarnings('ignore')"
   ]
  },
  {
   "cell_type": "code",
   "execution_count": 2,
   "id": "6275d5e2",
   "metadata": {},
   "outputs": [],
   "source": [
    "driver=webdriver.Chrome(r'C:\\Users\\admin\\Downloads\\chromedriver_win32\\chromedriver.exe')"
   ]
  },
  {
   "cell_type": "code",
   "execution_count": 3,
   "id": "970c9f6a",
   "metadata": {},
   "outputs": [],
   "source": [
    "driver.get('https://www.amazon.in')"
   ]
  },
  {
   "cell_type": "code",
   "execution_count": 4,
   "id": "fd71b597",
   "metadata": {},
   "outputs": [
    {
     "name": "stdout",
     "output_type": "stream",
     "text": [
      "Enter product to be searched:guitar\n"
     ]
    }
   ],
   "source": [
    "product = input(\"Enter product to be searched:\")\n"
   ]
  },
  {
   "cell_type": "code",
   "execution_count": 5,
   "id": "699eb14f",
   "metadata": {},
   "outputs": [
    {
     "data": {
      "text/plain": [
       "'guitar'"
      ]
     },
     "execution_count": 5,
     "metadata": {},
     "output_type": "execute_result"
    }
   ],
   "source": [
    "product"
   ]
  },
  {
   "cell_type": "code",
   "execution_count": 6,
   "id": "f43ce2fe",
   "metadata": {},
   "outputs": [],
   "source": [
    "search = driver.find_element(By.XPATH,\"//input[@id='twotabsearchtextbox']\")\n",
    "search.send_keys(product)"
   ]
  },
  {
   "cell_type": "code",
   "execution_count": 7,
   "id": "4df85204",
   "metadata": {},
   "outputs": [],
   "source": [
    "btn = driver.find_element(By.XPATH,\"//input[@id='nav-search-submit-button']\")\n",
    "btn.click()"
   ]
  },
  {
   "cell_type": "code",
   "execution_count": 8,
   "id": "be7595aa",
   "metadata": {},
   "outputs": [],
   "source": [
    "url_1=driver.find_elements(By.XPATH,'//a[@class=\"a-link-normal s-no-outline\"]')"
   ]
  },
  {
   "cell_type": "code",
   "execution_count": 9,
   "id": "ccb05990",
   "metadata": {},
   "outputs": [],
   "source": [
    "url=[]\n",
    "start=0\n",
    "end=4\n",
    "for i in range(start,end):\n",
    "    for i in url_1:\n",
    "        a=i.get_attribute('href')\n",
    "        url.append(a)"
   ]
  },
  {
   "cell_type": "code",
   "execution_count": 10,
   "id": "8a9c9f31",
   "metadata": {},
   "outputs": [
    {
     "data": {
      "text/plain": [
       "276"
      ]
     },
     "execution_count": 10,
     "metadata": {},
     "output_type": "execute_result"
    }
   ],
   "source": [
    "len(url)"
   ]
  },
  {
   "cell_type": "code",
   "execution_count": 11,
   "id": "194dbaef",
   "metadata": {},
   "outputs": [],
   "source": [
    "brand=[]"
   ]
  },
  {
   "cell_type": "code",
   "execution_count": 12,
   "id": "34139d3d",
   "metadata": {},
   "outputs": [],
   "source": [
    "for i in url:\n",
    "    driver.get(i)\n",
    "    brand_1=driver.find_elements(By.XPATH,'//span[@id=\"productTitle\"]')\n",
    "    \n",
    "    if len(brand_1)==0:\n",
    "        brand.append(\"-\")\n",
    "        \n",
    "    else:\n",
    "        for j in brand_1:\n",
    "            b=j.text\n",
    "            c=b.split()\n",
    "            d=c[0]\n",
    "            brand.append(d)"
   ]
  },
  {
   "cell_type": "code",
   "execution_count": 13,
   "id": "0994c7c2",
   "metadata": {},
   "outputs": [
    {
     "data": {
      "text/plain": [
       "['Kadence', 'Kadence']"
      ]
     },
     "execution_count": 13,
     "metadata": {},
     "output_type": "execute_result"
    }
   ],
   "source": [
    "brand[0:2]"
   ]
  },
  {
   "cell_type": "code",
   "execution_count": 14,
   "id": "8d7cbe87",
   "metadata": {},
   "outputs": [],
   "source": [
    "name=[]\n",
    "for i in url:\n",
    "    driver.get(i)\n",
    "    \n",
    "    name_1=driver.find_elements(By.XPATH,'//span[@id=\"productTitle\"]')\n",
    "    \n",
    "    for j in name_1:\n",
    "        b=j.text\n",
    "        name.append(b)"
   ]
  },
  {
   "cell_type": "code",
   "execution_count": 15,
   "id": "8fec924b",
   "metadata": {},
   "outputs": [
    {
     "data": {
      "text/plain": [
       "['Kadence Slowhand Premium Jumbo Semi Acoustic Guitar with Heavy Padded Bag, guitar cable, Pro Capo (Black Spruce Wood)',\n",
       " 'Kadence Frontier guitar with Online Guitar learning course , Wine Red Acoustic Guitar with Die Cast Keys, Set of Strings, Strap, Picks and Bag (Wine Red, Acoustic)']"
      ]
     },
     "execution_count": 15,
     "metadata": {},
     "output_type": "execute_result"
    }
   ],
   "source": [
    "name[0:2]"
   ]
  },
  {
   "cell_type": "code",
   "execution_count": 45,
   "id": "44e0a8b2",
   "metadata": {},
   "outputs": [],
   "source": [
    "Price=[]\n",
    "for i in url:\n",
    "    driver.get(i)\n",
    "\n",
    "for i in range(start,end):\n",
    "    price=driver.find_elements(By.XPATH,'//span[@class=\"a-price aok-align-center\"]')\n",
    "    for j in price:\n",
    "        b=j.text\n",
    "        Price.append(b.split(\"\\n\")[0])\n",
    "        "
   ]
  },
  {
   "cell_type": "code",
   "execution_count": 46,
   "id": "d5704a31",
   "metadata": {},
   "outputs": [
    {
     "data": {
      "text/plain": [
       "['₹895', '₹895', '₹895', '₹895']"
      ]
     },
     "execution_count": 46,
     "metadata": {},
     "output_type": "execute_result"
    }
   ],
   "source": [
    "Price[0:10]"
   ]
  },
  {
   "cell_type": "code",
   "execution_count": 16,
   "id": "961658ea",
   "metadata": {},
   "outputs": [],
   "source": [
    "Expected_Delivery=[]\n",
    "for i in url:\n",
    "    driver.get(i)\n",
    "    \n",
    "    delv=driver.find_elements(By.XPATH,'//span[@class=\"a-text-bold\"]')\n",
    "    for k in delv:\n",
    "        c=k.text\n",
    "        Expected_Delivery.append(c)"
   ]
  },
  {
   "cell_type": "code",
   "execution_count": 17,
   "id": "ceb8ad30",
   "metadata": {},
   "outputs": [
    {
     "data": {
      "text/plain": [
       "['Monday, 6 February', 'Sunday, 5 February']"
      ]
     },
     "execution_count": 17,
     "metadata": {},
     "output_type": "execute_result"
    }
   ],
   "source": [
    "Expected_Delivery[0:2]"
   ]
  },
  {
   "cell_type": "code",
   "execution_count": 18,
   "id": "94335160",
   "metadata": {},
   "outputs": [],
   "source": [
    "Availability=[]\n",
    "for i in url:\n",
    "    driver.get(i)\n",
    "    \n",
    "    avail=driver.find_elements(By.XPATH,'//span[@class=\"a-size-medium a-color-success\"]')\n",
    "    for k in avail:\n",
    "        c=k.text\n",
    "        Availability.append(c)"
   ]
  },
  {
   "cell_type": "code",
   "execution_count": 19,
   "id": "fdf03eff",
   "metadata": {},
   "outputs": [
    {
     "data": {
      "text/plain": [
       "['', 'In stock.']"
      ]
     },
     "execution_count": 19,
     "metadata": {},
     "output_type": "execute_result"
    }
   ],
   "source": [
    "Availability[0:2]"
   ]
  },
  {
   "cell_type": "code",
   "execution_count": 20,
   "id": "152d4839",
   "metadata": {},
   "outputs": [],
   "source": [
    "Return=[]\n",
    "for i in url:\n",
    "    driver.get(i)\n",
    "    retur=driver.find_elements(By.XPATH,'//div[@class=\"a-column a-span3 a-text-center icon-container icon-grid-width celwidget\"]/span/div[2]/a')\n",
    "    for k in retur:\n",
    "        c=k.text\n",
    "        Return.append(c)\n",
    "    "
   ]
  },
  {
   "cell_type": "code",
   "execution_count": 32,
   "id": "cc309676",
   "metadata": {},
   "outputs": [
    {
     "data": {
      "text/plain": [
       "['7 days Replacement', '', '7 days Replacement']"
      ]
     },
     "execution_count": 32,
     "metadata": {},
     "output_type": "execute_result"
    }
   ],
   "source": [
    "Return[0:3]"
   ]
  },
  {
   "cell_type": "code",
   "execution_count": 35,
   "id": "55984303",
   "metadata": {},
   "outputs": [
    {
     "data": {
      "text/plain": [
       "276"
      ]
     },
     "execution_count": 35,
     "metadata": {},
     "output_type": "execute_result"
    }
   ],
   "source": [
    "len(url)"
   ]
  },
  {
   "cell_type": "code",
   "execution_count": 3,
   "id": "cf93642e",
   "metadata": {},
   "outputs": [
    {
     "ename": "NameError",
     "evalue": "name 'brand' is not defined",
     "output_type": "error",
     "traceback": [
      "\u001b[1;31m---------------------------------------------------------------------------\u001b[0m",
      "\u001b[1;31mNameError\u001b[0m                                 Traceback (most recent call last)",
      "\u001b[1;32m~\\AppData\\Local\\Temp\\ipykernel_3192\\2124747146.py\u001b[0m in \u001b[0;36m<module>\u001b[1;34m\u001b[0m\n\u001b[0;32m      1\u001b[0m \u001b[0mtable\u001b[0m\u001b[1;33m=\u001b[0m\u001b[0mpd\u001b[0m\u001b[1;33m.\u001b[0m\u001b[0mDataFrame\u001b[0m\u001b[1;33m(\u001b[0m\u001b[1;33m{\u001b[0m\u001b[1;33m}\u001b[0m\u001b[1;33m)\u001b[0m\u001b[1;33m\u001b[0m\u001b[1;33m\u001b[0m\u001b[0m\n\u001b[1;32m----> 2\u001b[1;33m \u001b[0mtable\u001b[0m\u001b[1;33m[\u001b[0m\u001b[1;34m'Brand Name'\u001b[0m\u001b[1;33m]\u001b[0m\u001b[1;33m=\u001b[0m\u001b[0mbrand\u001b[0m\u001b[1;33m[\u001b[0m\u001b[1;36m0\u001b[0m\u001b[1;33m:\u001b[0m\u001b[1;36m100\u001b[0m\u001b[1;33m]\u001b[0m\u001b[1;33m\u001b[0m\u001b[1;33m\u001b[0m\u001b[0m\n\u001b[0m\u001b[0;32m      3\u001b[0m \u001b[0mtable\u001b[0m\u001b[1;33m[\u001b[0m\u001b[1;34m'Product Name'\u001b[0m\u001b[1;33m]\u001b[0m\u001b[1;33m=\u001b[0m\u001b[0mname\u001b[0m\u001b[1;33m[\u001b[0m\u001b[1;36m0\u001b[0m\u001b[1;33m:\u001b[0m\u001b[1;36m100\u001b[0m\u001b[1;33m]\u001b[0m\u001b[1;33m\u001b[0m\u001b[1;33m\u001b[0m\u001b[0m\n\u001b[0;32m      4\u001b[0m \u001b[0mtable\u001b[0m\u001b[1;33m[\u001b[0m\u001b[1;34m'Availability'\u001b[0m\u001b[1;33m]\u001b[0m\u001b[1;33m=\u001b[0m\u001b[0mAvailability\u001b[0m\u001b[1;33m[\u001b[0m\u001b[1;36m0\u001b[0m\u001b[1;33m:\u001b[0m\u001b[1;36m100\u001b[0m\u001b[1;33m]\u001b[0m\u001b[1;33m\u001b[0m\u001b[1;33m\u001b[0m\u001b[0m\n\u001b[0;32m      5\u001b[0m \u001b[0mtable\u001b[0m\u001b[1;33m[\u001b[0m\u001b[1;34m'Expected Delivery'\u001b[0m\u001b[1;33m]\u001b[0m\u001b[1;33m=\u001b[0m\u001b[0mExpected_Delivery\u001b[0m\u001b[1;33m[\u001b[0m\u001b[1;36m0\u001b[0m\u001b[1;33m:\u001b[0m\u001b[1;36m100\u001b[0m\u001b[1;33m]\u001b[0m\u001b[1;33m\u001b[0m\u001b[1;33m\u001b[0m\u001b[0m\n",
      "\u001b[1;31mNameError\u001b[0m: name 'brand' is not defined"
     ]
    }
   ],
   "source": [
    "table=pd.DataFrame({})\n",
    "table['Brand Name']=brand[0:100]\n",
    "table['Product Name']=name[0:100]\n",
    "table['Availability']=Availability[0:100]\n",
    "table['Expected Delivery']=Expected_Delivery[0:100]\n",
    "table['Return']=Return[0:100]\n",
    "table['Product URL']=url[0:100]\n",
    "\n",
    "table"
   ]
  },
  {
   "cell_type": "code",
   "execution_count": null,
   "id": "290b1f84",
   "metadata": {},
   "outputs": [],
   "source": []
  }
 ],
 "metadata": {
  "kernelspec": {
   "display_name": "Python 3 (ipykernel)",
   "language": "python",
   "name": "python3"
  },
  "language_info": {
   "codemirror_mode": {
    "name": "ipython",
    "version": 3
   },
   "file_extension": ".py",
   "mimetype": "text/x-python",
   "name": "python",
   "nbconvert_exporter": "python",
   "pygments_lexer": "ipython3",
   "version": "3.9.13"
  }
 },
 "nbformat": 4,
 "nbformat_minor": 5
}
