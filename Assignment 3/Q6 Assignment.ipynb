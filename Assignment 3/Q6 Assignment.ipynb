{
 "cells": [
  {
   "cell_type": "code",
   "execution_count": 1,
   "id": "5d8f3815",
   "metadata": {},
   "outputs": [],
   "source": [
    "import selenium\n",
    "import pandas as pd\n",
    "from selenium import webdriver\n",
    "from selenium.common.exceptions import StaleElementReferenceException,NoSuchElementException\n",
    "from selenium.webdriver.common.by import By\n",
    "import time\n",
    "import warnings\n",
    "warnings.filterwarnings('ignore')"
   ]
  },
  {
   "cell_type": "code",
   "execution_count": 2,
   "id": "24101fbb",
   "metadata": {},
   "outputs": [],
   "source": [
    "driver=webdriver.Chrome(r\"‪C:\\Users\\admin\\Downloads\\chromedriver_win32\\chromedriver.exe\")"
   ]
  },
  {
   "cell_type": "code",
   "execution_count": 13,
   "id": "df91807a",
   "metadata": {},
   "outputs": [],
   "source": [
    "driver.get('https://www.digit.in/')\n"
   ]
  },
  {
   "cell_type": "code",
   "execution_count": 14,
   "id": "3c28bddf",
   "metadata": {},
   "outputs": [],
   "source": [
    "search = driver.find_element(By.XPATH,\"//div[@class='listing_container']/ul/li[9]\")\n",
    "search.click()"
   ]
  },
  {
   "cell_type": "code",
   "execution_count": 15,
   "id": "962f5836",
   "metadata": {},
   "outputs": [],
   "source": [
    "lap_1=driver.find_elements(By.XPATH,\"//div[@data-title='MSI GT76 TITAN DT 9SG']/following-sibling::div/div/table/tbody/tr/td[3]\")"
   ]
  },
  {
   "cell_type": "code",
   "execution_count": 26,
   "id": "f5a93ef4",
   "metadata": {},
   "outputs": [],
   "source": [
    "list=[]\n",
    "for i in lap_1:\n",
    "    list.append(i.text)"
   ]
  },
  {
   "cell_type": "code",
   "execution_count": 27,
   "id": "13da5ec4",
   "metadata": {},
   "outputs": [
    {
     "data": {
      "text/plain": [
       "0"
      ]
     },
     "execution_count": 27,
     "metadata": {},
     "output_type": "execute_result"
    }
   ],
   "source": [
    "len(list)"
   ]
  },
  {
   "cell_type": "code",
   "execution_count": 28,
   "id": "7cd4a342",
   "metadata": {},
   "outputs": [],
   "source": [
    "os=[]\n",
    "disp=[]\n",
    "pro=[]\n",
    "mem=[]\n",
    "weight=[]\n",
    "dimen=[]\n",
    "graph=[]"
   ]
  },
  {
   "cell_type": "code",
   "execution_count": 29,
   "id": "17170a2a",
   "metadata": {},
   "outputs": [],
   "source": [
    "a=0\n",
    "for i in list:\n",
    "    if a%7==0:\n",
    "        os.append(i)\n",
    "    if a%7==1:\n",
    "        disp.append(i)\n",
    "    if a%7==2:\n",
    "        pro.append(i)\n",
    "    if a%7==3:\n",
    "        mem.append(i)\n",
    "    if a%7==4:\n",
    "        weight.append(i)\n",
    "    if a%7==5:\n",
    "        dimen.append(i)\n",
    "    if a%7==6:\n",
    "        graph.append(i)\n",
    "    a=a+1"
   ]
  },
  {
   "cell_type": "code",
   "execution_count": 30,
   "id": "04d95f17",
   "metadata": {},
   "outputs": [],
   "source": [
    "price_1=driver.find_elements(By.XPATH,\"//table[@id='summtable']/tbody/tr/td[3]\")"
   ]
  },
  {
   "cell_type": "code",
   "execution_count": 31,
   "id": "cfa1ac52",
   "metadata": {},
   "outputs": [],
   "source": [
    "price=[]\n",
    "for i in price_1:\n",
    "    price.append(i.text)"
   ]
  },
  {
   "cell_type": "code",
   "execution_count": 32,
   "id": "4a38f9ae",
   "metadata": {},
   "outputs": [
    {
     "data": {
      "text/plain": [
       "['N/A', '₹ 389,990', '₹ 229,990']"
      ]
     },
     "execution_count": 32,
     "metadata": {},
     "output_type": "execute_result"
    }
   ],
   "source": [
    "price[0:3]"
   ]
  },
  {
   "cell_type": "code",
   "execution_count": 33,
   "id": "bf7ea5c0",
   "metadata": {},
   "outputs": [],
   "source": [
    "seller_1=driver.find_elements(By.XPATH,\"//table[@id='summtable']/tbody/tr/td[2]\")"
   ]
  },
  {
   "cell_type": "code",
   "execution_count": 34,
   "id": "0085a7d2",
   "metadata": {},
   "outputs": [],
   "source": [
    "seller=[]\n",
    "for i in seller_1:\n",
    "    seller.append(i.text)"
   ]
  },
  {
   "cell_type": "code",
   "execution_count": 35,
   "id": "eebc5e59",
   "metadata": {},
   "outputs": [
    {
     "name": "stdout",
     "output_type": "stream",
     "text": [
      "0 0 0 0 0 0 0 10 10\n"
     ]
    }
   ],
   "source": [
    "print(len(os),len(disp),len(pro),len(mem),len(weight),len(dimen),len(graph),len(price),len(seller))"
   ]
  },
  {
   "cell_type": "code",
   "execution_count": null,
   "id": "b7c4c33e",
   "metadata": {},
   "outputs": [],
   "source": []
  }
 ],
 "metadata": {
  "kernelspec": {
   "display_name": "Python 3 (ipykernel)",
   "language": "python",
   "name": "python3"
  },
  "language_info": {
   "codemirror_mode": {
    "name": "ipython",
    "version": 3
   },
   "file_extension": ".py",
   "mimetype": "text/x-python",
   "name": "python",
   "nbconvert_exporter": "python",
   "pygments_lexer": "ipython3",
   "version": "3.9.13"
  }
 },
 "nbformat": 4,
 "nbformat_minor": 5
}
