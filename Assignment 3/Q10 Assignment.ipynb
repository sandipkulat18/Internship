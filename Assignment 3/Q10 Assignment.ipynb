{
 "cells": [
  {
   "cell_type": "code",
   "execution_count": 1,
   "id": "9f5d7b71",
   "metadata": {},
   "outputs": [],
   "source": [
    "import selenium \n",
    "import pandas as pd\n",
    "from selenium import webdriver\n",
    "from selenium.common.exceptions import StaleElementReferenceException,NoSuchElementException\n",
    "from selenium.webdriver.common.by import By\n",
    "import time\n",
    "import warnings\n",
    "warnings.filterwarnings('ignore')"
   ]
  },
  {
   "cell_type": "code",
   "execution_count": 2,
   "id": "1fc42eee",
   "metadata": {},
   "outputs": [],
   "source": [
    "driver=webdriver.Chrome(r'C:\\Users\\admin\\Downloads\\chromedriver_win32\\chromedriver.exe')"
   ]
  },
  {
   "cell_type": "code",
   "execution_count": 3,
   "id": "8e9a9035",
   "metadata": {},
   "outputs": [],
   "source": [
    "driver.get('https://www.hostelworld.com/')"
   ]
  },
  {
   "cell_type": "code",
   "execution_count": 6,
   "id": "8c767776",
   "metadata": {},
   "outputs": [],
   "source": [
    "serch=driver.find_element(By.XPATH,'/html/body/div[3]/div/div/div[2]/div[2]/div/div/div[4]/div/div[2]/div/div[1]/div/div/div/input')\n",
    "serch.send_keys('London')"
   ]
  },
  {
   "cell_type": "code",
   "execution_count": 7,
   "id": "1eb24e85",
   "metadata": {},
   "outputs": [],
   "source": [
    "ok=driver.find_element(By.XPATH,'/html/body/div[3]/div/div/div[2]/div[2]/div/div/div[4]/div/div[2]/div/div[1]/div/div/ul/li[2]/div')\n",
    "ok.click()"
   ]
  },
  {
   "cell_type": "code",
   "execution_count": 8,
   "id": "ba95fda0",
   "metadata": {},
   "outputs": [],
   "source": [
    "btn=driver.find_element(By.XPATH,'/html/body/div[3]/div/div/div[2]/div[2]/div/div/div[4]/div/div[2]/div/div[5]/button')\n",
    "btn.click()"
   ]
  },
  {
   "cell_type": "code",
   "execution_count": 9,
   "id": "180df8f6",
   "metadata": {},
   "outputs": [],
   "source": [
    "Hostel_Name=[]\n",
    "name=driver.find_elements(By.XPATH,'//h2[@class=\"title title-6\"]/a')\n",
    "for i in name:\n",
    "    Hostel_Name.append(i.text)"
   ]
  },
  {
   "cell_type": "code",
   "execution_count": 10,
   "id": "b7cfcc6b",
   "metadata": {},
   "outputs": [
    {
     "data": {
      "text/plain": [
       "['NX London Hostel',\n",
       " \"Wombat's City Hostel London\",\n",
       " \"St Christopher's Village\",\n",
       " 'Hostel One Notting Hill',\n",
       " 'Pickwick Hall']"
      ]
     },
     "execution_count": 10,
     "metadata": {},
     "output_type": "execute_result"
    }
   ],
   "source": [
    "Hostel_Name[0:5]"
   ]
  },
  {
   "cell_type": "code",
   "execution_count": 11,
   "id": "fafa1e44",
   "metadata": {},
   "outputs": [],
   "source": [
    "Distane=[]\n",
    "dis=driver.find_elements(By.XPATH,'//span[@class=\"description\"]')\n",
    "for i in dis:\n",
    "    Distane.append(i.text)"
   ]
  },
  {
   "cell_type": "code",
   "execution_count": 12,
   "id": "08cf97a7",
   "metadata": {},
   "outputs": [
    {
     "data": {
      "text/plain": [
       "['Hostel - 6.1km from city centre',\n",
       " 'Hostel - 3.6km from city centre',\n",
       " 'Hostel - 1.8km from city centre',\n",
       " 'Hostel - 5.5km from city centre',\n",
       " 'Hostel - 2.3km from city centre']"
      ]
     },
     "execution_count": 12,
     "metadata": {},
     "output_type": "execute_result"
    }
   ],
   "source": [
    "Distane[0:5]"
   ]
  },
  {
   "cell_type": "code",
   "execution_count": 13,
   "id": "541c403a",
   "metadata": {},
   "outputs": [],
   "source": [
    "FAcility=[]\n",
    "fac=driver.find_elements(By.XPATH,'//div[@class=\"facilities-label facilities\"]')\n",
    "for i in fac:\n",
    "    FAcility.append(i.text.split('\\n'))\n",
    "    "
   ]
  },
  {
   "cell_type": "code",
   "execution_count": 14,
   "id": "1c478e86",
   "metadata": {},
   "outputs": [
    {
     "data": {
      "text/plain": [
       "[['Free WiFi', 'Free Breakfast'],\n",
       " ['Free WiFi', 'Follows Covid-19 sanitation guidance'],\n",
       " ['Free WiFi', 'Follows Covid-19 sanitation guidance'],\n",
       " ['Free WiFi'],\n",
       " ['Free Breakfast']]"
      ]
     },
     "execution_count": 14,
     "metadata": {},
     "output_type": "execute_result"
    }
   ],
   "source": [
    "FAcility[0:5]"
   ]
  },
  {
   "cell_type": "code",
   "execution_count": 60,
   "id": "2b904d45",
   "metadata": {},
   "outputs": [],
   "source": [
    "Rating=[]\n",
    "try:\n",
    "    rat=driver.find_elements(By.XPATH,'//div[@class=\"score orange big\"]')\n",
    "    for i in rat:\n",
    "        Rating.append(i.text)\n",
    "except:\n",
    "    Rating.append('-')"
   ]
  },
  {
   "cell_type": "code",
   "execution_count": 61,
   "id": "7a793087",
   "metadata": {},
   "outputs": [
    {
     "data": {
      "text/plain": [
       "['7.9', '8.9', '8.0', '9.4', '8.6']"
      ]
     },
     "execution_count": 61,
     "metadata": {},
     "output_type": "execute_result"
    }
   ],
   "source": [
    "Rating[0:5]"
   ]
  },
  {
   "cell_type": "code",
   "execution_count": 17,
   "id": "2911c5f2",
   "metadata": {},
   "outputs": [],
   "source": [
    "Total=[]\n",
    "tot=driver.find_elements(By.XPATH,'//div[@class=\"reviews\"]')\n",
    "for i in tot:\n",
    "    Total.append(i.text)"
   ]
  },
  {
   "cell_type": "code",
   "execution_count": 18,
   "id": "77e3f72e",
   "metadata": {},
   "outputs": [
    {
     "data": {
      "text/plain": [
       "['1576 Total Reviews',\n",
       " '14540 Total Reviews',\n",
       " '11892 Total Reviews',\n",
       " '1732 Total Reviews',\n",
       " '2561 Total Reviews']"
      ]
     },
     "execution_count": 18,
     "metadata": {},
     "output_type": "execute_result"
    }
   ],
   "source": [
    "Total[0:5]"
   ]
  },
  {
   "cell_type": "code",
   "execution_count": 19,
   "id": "69b8c745",
   "metadata": {},
   "outputs": [],
   "source": [
    "Overall=[]\n",
    "ovr=driver.find_elements(By.XPATH,'//div[@class=\"keyword\"]')\n",
    "for i in ovr:\n",
    "    Overall.append(i.text)"
   ]
  },
  {
   "cell_type": "code",
   "execution_count": 20,
   "id": "04a72669",
   "metadata": {},
   "outputs": [
    {
     "data": {
      "text/plain": [
       "['Fabulous', 'Fabulous', 'Very Good', 'Fabulous', 'Fabulous']"
      ]
     },
     "execution_count": 20,
     "metadata": {},
     "output_type": "execute_result"
    }
   ],
   "source": [
    "Overall[0:5]"
   ]
  },
  {
   "cell_type": "code",
   "execution_count": 52,
   "id": "b93c03e1",
   "metadata": {},
   "outputs": [],
   "source": [
    "private=[]\n",
    "P = driver.find_elements(By.XPATH,'//div[@class=\"price-col\"]')[0::2]\n",
    "\n",
    "for i in P:\n",
    "    private.append(i.text.replace('\\n',': ').replace('No Privates Available','Not Availble'))\n",
    "\n"
   ]
  },
  {
   "cell_type": "code",
   "execution_count": 23,
   "id": "66b94bb5",
   "metadata": {},
   "outputs": [
    {
     "data": {
      "text/plain": [
       "['Privates From: Rs8999.94 Rs6300',\n",
       " 'Privates From: Rs17659.5 Rs14128',\n",
       " 'NaN',\n",
       " 'Privates From: Rs7815',\n",
       " 'Privates From: Rs6998']"
      ]
     },
     "execution_count": 23,
     "metadata": {},
     "output_type": "execute_result"
    }
   ],
   "source": [
    "private[0:5]"
   ]
  },
  {
   "cell_type": "code",
   "execution_count": 50,
   "id": "6ee1e21d",
   "metadata": {},
   "outputs": [],
   "source": [
    "Drome=[]\n",
    "T = driver.find_elements(By.XPATH,'//div[@class=\"price-col\"]')[1::2]\n",
    "\n",
    "for i in T:\n",
    "    Drome.append(i.text.replace('\\n',': ').replace('No Dorms Available','Not Availble'))"
   ]
  },
  {
   "cell_type": "code",
   "execution_count": 51,
   "id": "c208c6f3",
   "metadata": {},
   "outputs": [
    {
     "data": {
      "text/plain": [
       "['Dorms From: Rs1763.36 Rs1411',\n",
       " 'Dorms From: Rs3499.24 Rs2799',\n",
       " 'Dorms From: Rs1528.19 Rs1375',\n",
       " 'Dorms From: Rs2460',\n",
       " 'Not Availble',\n",
       " 'Dorms From: Rs2393',\n",
       " 'Dorms From: Rs2018',\n",
       " 'Dorms From: Rs1530',\n",
       " 'Dorms From: Rs1706.3 Rs1536',\n",
       " 'Not Availble']"
      ]
     },
     "execution_count": 51,
     "metadata": {},
     "output_type": "execute_result"
    }
   ],
   "source": [
    "Drome[0:10]"
   ]
  },
  {
   "cell_type": "code",
   "execution_count": 53,
   "id": "35d1ba3b",
   "metadata": {},
   "outputs": [],
   "source": [
    "proper=[]\n",
    "pro=driver.find_elements(By.XPATH,'//div[@class=\"rating-factors prop-card-tablet rating-factors small\"]')\n",
    "for i in pro:\n",
    "    proper.append(i.text.split('\\n')[0:4])\n",
    "    "
   ]
  },
  {
   "cell_type": "code",
   "execution_count": 54,
   "id": "78c37530",
   "metadata": {},
   "outputs": [
    {
     "data": {
      "text/plain": [
       "[['Perfect Location', 'Marvellous Staff', 'Excellent Cleanliness'],\n",
       " ['Perfect Location', 'Superb Staff', 'Fantastic Cleanliness'],\n",
       " ['Perfect Location', 'Marvellous Staff', 'Excellent Cleanliness'],\n",
       " ['Perfect Location', 'Superb Staff', 'Fantastic Cleanliness'],\n",
       " ['Perfect Location', 'Superb Staff', 'Excellent Cleanliness']]"
      ]
     },
     "execution_count": 54,
     "metadata": {},
     "output_type": "execute_result"
    }
   ],
   "source": [
    "proper[0:5]"
   ]
  },
  {
   "cell_type": "code",
   "execution_count": 62,
   "id": "16f4a55b",
   "metadata": {},
   "outputs": [
    {
     "name": "stdout",
     "output_type": "stream",
     "text": [
      "30 30 29 30 32 30 30 30\n"
     ]
    }
   ],
   "source": [
    "print(len(Hostel_Name),len(Distane),len(Rating),len(Total),len(Overall),len(proper),len(private),len(Drome))"
   ]
  },
  {
   "cell_type": "code",
   "execution_count": 64,
   "id": "a0c698df",
   "metadata": {},
   "outputs": [],
   "source": [
    "df=pd.DataFrame({})\n",
    "df['hostel name']=Hostel_Name[0:25]\n",
    "df['distance from city centre']=Distane[0:25]\n",
    "df['Rating']=Rating[0:25]\n",
    "df['Total Review']=Total[0:25]\n",
    "df['OVERALl Review']=Overall[0:25]\n",
    "df['property description']=proper[0:25]\n",
    "df['Privates from price']=private[0:25]\n",
    "df['Dorms from price']=Drome[0:25]"
   ]
  },
  {
   "cell_type": "code",
   "execution_count": 65,
   "id": "f96c4793",
   "metadata": {},
   "outputs": [
    {
     "data": {
      "text/html": [
       "<div>\n",
       "<style scoped>\n",
       "    .dataframe tbody tr th:only-of-type {\n",
       "        vertical-align: middle;\n",
       "    }\n",
       "\n",
       "    .dataframe tbody tr th {\n",
       "        vertical-align: top;\n",
       "    }\n",
       "\n",
       "    .dataframe thead th {\n",
       "        text-align: right;\n",
       "    }\n",
       "</style>\n",
       "<table border=\"1\" class=\"dataframe\">\n",
       "  <thead>\n",
       "    <tr style=\"text-align: right;\">\n",
       "      <th></th>\n",
       "      <th>hostel name</th>\n",
       "      <th>distance from city centre</th>\n",
       "      <th>Rating</th>\n",
       "      <th>Total Review</th>\n",
       "      <th>OVERALl Review</th>\n",
       "      <th>property description</th>\n",
       "      <th>Privates from price</th>\n",
       "      <th>Dorms from price</th>\n",
       "    </tr>\n",
       "  </thead>\n",
       "  <tbody>\n",
       "    <tr>\n",
       "      <th>0</th>\n",
       "      <td>NX London Hostel</td>\n",
       "      <td>Hostel - 6.1km from city centre</td>\n",
       "      <td>7.9</td>\n",
       "      <td>1576 Total Reviews</td>\n",
       "      <td>Fabulous</td>\n",
       "      <td>[Perfect Location, Marvellous Staff, Excellent...</td>\n",
       "      <td>Privates From: Rs8999.94 Rs6300</td>\n",
       "      <td>Dorms From: Rs1763.36 Rs1411</td>\n",
       "    </tr>\n",
       "    <tr>\n",
       "      <th>1</th>\n",
       "      <td>Wombat's City Hostel London</td>\n",
       "      <td>Hostel - 3.6km from city centre</td>\n",
       "      <td>8.9</td>\n",
       "      <td>14540 Total Reviews</td>\n",
       "      <td>Fabulous</td>\n",
       "      <td>[Perfect Location, Superb Staff, Fantastic Cle...</td>\n",
       "      <td>Privates From: Rs17659.5 Rs14128</td>\n",
       "      <td>Dorms From: Rs3499.24 Rs2799</td>\n",
       "    </tr>\n",
       "    <tr>\n",
       "      <th>2</th>\n",
       "      <td>St Christopher's Village</td>\n",
       "      <td>Hostel - 1.8km from city centre</td>\n",
       "      <td>8.0</td>\n",
       "      <td>11892 Total Reviews</td>\n",
       "      <td>Very Good</td>\n",
       "      <td>[Perfect Location, Marvellous Staff, Excellent...</td>\n",
       "      <td>Not Availble</td>\n",
       "      <td>Dorms From: Rs1528.19 Rs1375</td>\n",
       "    </tr>\n",
       "    <tr>\n",
       "      <th>3</th>\n",
       "      <td>Hostel One Notting Hill</td>\n",
       "      <td>Hostel - 5.5km from city centre</td>\n",
       "      <td>9.4</td>\n",
       "      <td>1732 Total Reviews</td>\n",
       "      <td>Fabulous</td>\n",
       "      <td>[Perfect Location, Superb Staff, Fantastic Cle...</td>\n",
       "      <td>Privates From: Rs7815</td>\n",
       "      <td>Dorms From: Rs2460</td>\n",
       "    </tr>\n",
       "    <tr>\n",
       "      <th>4</th>\n",
       "      <td>Pickwick Hall</td>\n",
       "      <td>Hostel - 2.3km from city centre</td>\n",
       "      <td>8.6</td>\n",
       "      <td>2561 Total Reviews</td>\n",
       "      <td>Fabulous</td>\n",
       "      <td>[Perfect Location, Superb Staff, Excellent Cle...</td>\n",
       "      <td>Privates From: Rs6998</td>\n",
       "      <td>Not Availble</td>\n",
       "    </tr>\n",
       "    <tr>\n",
       "      <th>5</th>\n",
       "      <td>Generator London</td>\n",
       "      <td>Hostel - 3km from city centre</td>\n",
       "      <td>7.6</td>\n",
       "      <td>7339 Total Reviews</td>\n",
       "      <td>Superb</td>\n",
       "      <td>[Perfect Location, Marvellous Staff, Excellent...</td>\n",
       "      <td>Privates From: Rs7249</td>\n",
       "      <td>Dorms From: Rs2393</td>\n",
       "    </tr>\n",
       "    <tr>\n",
       "      <th>6</th>\n",
       "      <td>Urbany Hostel London</td>\n",
       "      <td>Hostel - 5.4km from city centre</td>\n",
       "      <td>9.2</td>\n",
       "      <td>639 Total Reviews</td>\n",
       "      <td>Fabulous</td>\n",
       "      <td>[Perfect Location, Superb Staff, Fantastic Cle...</td>\n",
       "      <td>Privates From: Rs7307</td>\n",
       "      <td>Dorms From: Rs2018</td>\n",
       "    </tr>\n",
       "    <tr>\n",
       "      <th>7</th>\n",
       "      <td>Safestay London Elephant &amp; Castle</td>\n",
       "      <td>Hostel - 1.7km from city centre</td>\n",
       "      <td>7.4</td>\n",
       "      <td>4817 Total Reviews</td>\n",
       "      <td>Very Good</td>\n",
       "      <td>[Wonderful Location, Marvellous Staff, Excelle...</td>\n",
       "      <td>Not Availble</td>\n",
       "      <td>Dorms From: Rs1530</td>\n",
       "    </tr>\n",
       "    <tr>\n",
       "      <th>8</th>\n",
       "      <td>Smart Hyde Park Inn Hostel</td>\n",
       "      <td>Hostel - 5km from city centre</td>\n",
       "      <td>7.4</td>\n",
       "      <td>6502 Total Reviews</td>\n",
       "      <td>Superb</td>\n",
       "      <td>[Perfect Location, Marvellous Staff, Awesome C...</td>\n",
       "      <td>Privates From: Rs9935.62 Rs8942</td>\n",
       "      <td>Dorms From: Rs1706.3 Rs1536</td>\n",
       "    </tr>\n",
       "    <tr>\n",
       "      <th>9</th>\n",
       "      <td>Smart Russell Square Hostel</td>\n",
       "      <td>Hostel - 2.6km from city centre</td>\n",
       "      <td>7.3</td>\n",
       "      <td>9896 Total Reviews</td>\n",
       "      <td>Very Good</td>\n",
       "      <td>[Perfect Location, Brilliant Staff, Awesome Cl...</td>\n",
       "      <td>Privates From: Rs8074</td>\n",
       "      <td>Not Availble</td>\n",
       "    </tr>\n",
       "    <tr>\n",
       "      <th>10</th>\n",
       "      <td>Destinations Hostels @ The Gallery</td>\n",
       "      <td>Hostel - 1.7km from city centre</td>\n",
       "      <td>9.4</td>\n",
       "      <td>109 Total Reviews</td>\n",
       "      <td>Very Good</td>\n",
       "      <td>[Perfect Location, Superb Staff, Fantastic Cle...</td>\n",
       "      <td>Privates From: Rs14997</td>\n",
       "      <td>Dorms From: Rs5249</td>\n",
       "    </tr>\n",
       "    <tr>\n",
       "      <th>11</th>\n",
       "      <td>Safestay London Kensington Holland Park</td>\n",
       "      <td>Hostel - 5.9km from city centre</td>\n",
       "      <td>7.1</td>\n",
       "      <td>1419 Total Reviews</td>\n",
       "      <td>Very Good</td>\n",
       "      <td>[Wonderful Location, Brilliant Staff, Awesome ...</td>\n",
       "      <td>Privates From: Rs7648</td>\n",
       "      <td>Dorms From: Rs1890</td>\n",
       "    </tr>\n",
       "    <tr>\n",
       "      <th>12</th>\n",
       "      <td>Astor Museum Inn</td>\n",
       "      <td>Hostel - 2.2km from city centre</td>\n",
       "      <td>8.1</td>\n",
       "      <td>9168 Total Reviews</td>\n",
       "      <td>Superb</td>\n",
       "      <td>[Perfect Location, Superb Staff, Excellent Cle...</td>\n",
       "      <td>Privates From: Rs7332</td>\n",
       "      <td>Dorms From: Rs1833</td>\n",
       "    </tr>\n",
       "    <tr>\n",
       "      <th>13</th>\n",
       "      <td>Dover Castle Hostel and Bar</td>\n",
       "      <td>Hostel - 1.7km from city centre</td>\n",
       "      <td>8.2</td>\n",
       "      <td>2333 Total Reviews</td>\n",
       "      <td>Very Good</td>\n",
       "      <td>[Perfect Location, Superb Staff, Fantastic Cle...</td>\n",
       "      <td>Not Availble</td>\n",
       "      <td>Dorms From: Rs1700</td>\n",
       "    </tr>\n",
       "    <tr>\n",
       "      <th>14</th>\n",
       "      <td>St Christopher's Camden</td>\n",
       "      <td>Hostel - 4.3km from city centre</td>\n",
       "      <td>8.1</td>\n",
       "      <td>3973 Total Reviews</td>\n",
       "      <td>Fabulous</td>\n",
       "      <td>[Perfect Location, Superb Staff, Excellent Cle...</td>\n",
       "      <td>Not Availble</td>\n",
       "      <td>Dorms From: Rs1617.06 Rs1455</td>\n",
       "    </tr>\n",
       "    <tr>\n",
       "      <th>15</th>\n",
       "      <td>No.8 Seven Sisters</td>\n",
       "      <td>Hostel - 9km from city centre</td>\n",
       "      <td>6.8</td>\n",
       "      <td>3957 Total Reviews</td>\n",
       "      <td>Fabulous</td>\n",
       "      <td>[Brilliant Staff]</td>\n",
       "      <td>Not Availble</td>\n",
       "      <td>Dorms From: Rs1161</td>\n",
       "    </tr>\n",
       "    <tr>\n",
       "      <th>16</th>\n",
       "      <td>No.8 Willesden Hostel London</td>\n",
       "      <td>Hostel - 10km from city centre</td>\n",
       "      <td>8.2</td>\n",
       "      <td>4938 Total Reviews</td>\n",
       "      <td>Fabulous</td>\n",
       "      <td>[Great Location, Marvellous Staff, Awesome Cle...</td>\n",
       "      <td>Not Availble</td>\n",
       "      <td>Dorms From: Rs1161</td>\n",
       "    </tr>\n",
       "    <tr>\n",
       "      <th>17</th>\n",
       "      <td>Smart Camden Inn Hostel</td>\n",
       "      <td>Hostel - 4.4km from city centre</td>\n",
       "      <td>7.2</td>\n",
       "      <td>3025 Total Reviews</td>\n",
       "      <td>Rating</td>\n",
       "      <td>[Perfect Location, Superb Staff, Excellent Cle...</td>\n",
       "      <td>Privates From: Rs11152</td>\n",
       "      <td>Not Availble</td>\n",
       "    </tr>\n",
       "    <tr>\n",
       "      <th>18</th>\n",
       "      <td>Phoenix Hostel</td>\n",
       "      <td>Hostel - 4.2km from city centre</td>\n",
       "      <td>8.1</td>\n",
       "      <td>3955 Total Reviews</td>\n",
       "      <td>Good</td>\n",
       "      <td>[Perfect Location, Superb Staff]</td>\n",
       "      <td>Not Availble</td>\n",
       "      <td>Dorms From: Rs1601.76 Rs1522</td>\n",
       "    </tr>\n",
       "    <tr>\n",
       "      <th>19</th>\n",
       "      <td>Prime Backpackers Angel</td>\n",
       "      <td>Hostel - 3.6km from city centre</td>\n",
       "      <td>7.8</td>\n",
       "      <td>708 Total Reviews</td>\n",
       "      <td>Fabulous</td>\n",
       "      <td>[Perfect Location, Superb Staff, Excellent Cle...</td>\n",
       "      <td>Privates From: Rs9871</td>\n",
       "      <td>Dorms From: Rs2608</td>\n",
       "    </tr>\n",
       "    <tr>\n",
       "      <th>20</th>\n",
       "      <td>London Backpackers</td>\n",
       "      <td>Hostel - 11.9km from city centre</td>\n",
       "      <td>7.8</td>\n",
       "      <td>4407 Total Reviews</td>\n",
       "      <td>Very Good</td>\n",
       "      <td>[Wonderful Location, Superb Staff, Excellent C...</td>\n",
       "      <td>Privates From: Rs6479</td>\n",
       "      <td>Dorms From: Rs1620</td>\n",
       "    </tr>\n",
       "    <tr>\n",
       "      <th>21</th>\n",
       "      <td>Astor Victoria</td>\n",
       "      <td>Hostel - 1.8km from city centre</td>\n",
       "      <td>7.6</td>\n",
       "      <td>14891 Total Reviews</td>\n",
       "      <td>Fabulous</td>\n",
       "      <td>[Perfect Location, Superb Staff, Awesome Clean...</td>\n",
       "      <td>Privates From: Rs5499</td>\n",
       "      <td>Dorms From: Rs1800</td>\n",
       "    </tr>\n",
       "    <tr>\n",
       "      <th>22</th>\n",
       "      <td>St Christopher's Inn - London Bridge</td>\n",
       "      <td>Hostel - 1.8km from city centre</td>\n",
       "      <td>7.0</td>\n",
       "      <td>3448 Total Reviews</td>\n",
       "      <td>Very Good</td>\n",
       "      <td>[Perfect Location, Marvellous Staff, Excellent...</td>\n",
       "      <td>Not Availble</td>\n",
       "      <td>Dorms From: Rs1728.14 Rs1555</td>\n",
       "    </tr>\n",
       "    <tr>\n",
       "      <th>23</th>\n",
       "      <td>Queen Elizabeth Chelsea</td>\n",
       "      <td>Hostel - 5.7km from city centre</td>\n",
       "      <td>8.9</td>\n",
       "      <td>3398 Total Reviews</td>\n",
       "      <td>Very Good</td>\n",
       "      <td>[Wonderful Location, Superb Staff, Awesome Cle...</td>\n",
       "      <td>Not Availble</td>\n",
       "      <td>Dorms From: Rs1335</td>\n",
       "    </tr>\n",
       "    <tr>\n",
       "      <th>24</th>\n",
       "      <td>Barmy Badger Backpackers</td>\n",
       "      <td>Hostel - 5.5km from city centre</td>\n",
       "      <td>7.8</td>\n",
       "      <td>1884 Total Reviews</td>\n",
       "      <td>Very Good</td>\n",
       "      <td>[Perfect Location, Superb Staff, Fantastic Cle...</td>\n",
       "      <td>Privates From: Rs8048</td>\n",
       "      <td>Not Availble</td>\n",
       "    </tr>\n",
       "  </tbody>\n",
       "</table>\n",
       "</div>"
      ],
      "text/plain": [
       "                                hostel name         distance from city centre  \\\n",
       "0                          NX London Hostel   Hostel - 6.1km from city centre   \n",
       "1               Wombat's City Hostel London   Hostel - 3.6km from city centre   \n",
       "2                  St Christopher's Village   Hostel - 1.8km from city centre   \n",
       "3                   Hostel One Notting Hill   Hostel - 5.5km from city centre   \n",
       "4                             Pickwick Hall   Hostel - 2.3km from city centre   \n",
       "5                          Generator London     Hostel - 3km from city centre   \n",
       "6                      Urbany Hostel London   Hostel - 5.4km from city centre   \n",
       "7         Safestay London Elephant & Castle   Hostel - 1.7km from city centre   \n",
       "8                Smart Hyde Park Inn Hostel     Hostel - 5km from city centre   \n",
       "9               Smart Russell Square Hostel   Hostel - 2.6km from city centre   \n",
       "10       Destinations Hostels @ The Gallery   Hostel - 1.7km from city centre   \n",
       "11  Safestay London Kensington Holland Park   Hostel - 5.9km from city centre   \n",
       "12                         Astor Museum Inn   Hostel - 2.2km from city centre   \n",
       "13              Dover Castle Hostel and Bar   Hostel - 1.7km from city centre   \n",
       "14                  St Christopher's Camden   Hostel - 4.3km from city centre   \n",
       "15                       No.8 Seven Sisters     Hostel - 9km from city centre   \n",
       "16             No.8 Willesden Hostel London    Hostel - 10km from city centre   \n",
       "17                  Smart Camden Inn Hostel   Hostel - 4.4km from city centre   \n",
       "18                           Phoenix Hostel   Hostel - 4.2km from city centre   \n",
       "19                  Prime Backpackers Angel   Hostel - 3.6km from city centre   \n",
       "20                       London Backpackers  Hostel - 11.9km from city centre   \n",
       "21                           Astor Victoria   Hostel - 1.8km from city centre   \n",
       "22     St Christopher's Inn - London Bridge   Hostel - 1.8km from city centre   \n",
       "23                  Queen Elizabeth Chelsea   Hostel - 5.7km from city centre   \n",
       "24                 Barmy Badger Backpackers   Hostel - 5.5km from city centre   \n",
       "\n",
       "   Rating         Total Review OVERALl Review  \\\n",
       "0     7.9   1576 Total Reviews       Fabulous   \n",
       "1     8.9  14540 Total Reviews       Fabulous   \n",
       "2     8.0  11892 Total Reviews      Very Good   \n",
       "3     9.4   1732 Total Reviews       Fabulous   \n",
       "4     8.6   2561 Total Reviews       Fabulous   \n",
       "5     7.6   7339 Total Reviews         Superb   \n",
       "6     9.2    639 Total Reviews       Fabulous   \n",
       "7     7.4   4817 Total Reviews      Very Good   \n",
       "8     7.4   6502 Total Reviews         Superb   \n",
       "9     7.3   9896 Total Reviews      Very Good   \n",
       "10    9.4    109 Total Reviews      Very Good   \n",
       "11    7.1   1419 Total Reviews      Very Good   \n",
       "12    8.1   9168 Total Reviews         Superb   \n",
       "13    8.2   2333 Total Reviews      Very Good   \n",
       "14    8.1   3973 Total Reviews       Fabulous   \n",
       "15    6.8   3957 Total Reviews       Fabulous   \n",
       "16    8.2   4938 Total Reviews       Fabulous   \n",
       "17    7.2   3025 Total Reviews         Rating   \n",
       "18    8.1   3955 Total Reviews           Good   \n",
       "19    7.8    708 Total Reviews       Fabulous   \n",
       "20    7.8   4407 Total Reviews      Very Good   \n",
       "21    7.6  14891 Total Reviews       Fabulous   \n",
       "22    7.0   3448 Total Reviews      Very Good   \n",
       "23    8.9   3398 Total Reviews      Very Good   \n",
       "24    7.8   1884 Total Reviews      Very Good   \n",
       "\n",
       "                                 property description  \\\n",
       "0   [Perfect Location, Marvellous Staff, Excellent...   \n",
       "1   [Perfect Location, Superb Staff, Fantastic Cle...   \n",
       "2   [Perfect Location, Marvellous Staff, Excellent...   \n",
       "3   [Perfect Location, Superb Staff, Fantastic Cle...   \n",
       "4   [Perfect Location, Superb Staff, Excellent Cle...   \n",
       "5   [Perfect Location, Marvellous Staff, Excellent...   \n",
       "6   [Perfect Location, Superb Staff, Fantastic Cle...   \n",
       "7   [Wonderful Location, Marvellous Staff, Excelle...   \n",
       "8   [Perfect Location, Marvellous Staff, Awesome C...   \n",
       "9   [Perfect Location, Brilliant Staff, Awesome Cl...   \n",
       "10  [Perfect Location, Superb Staff, Fantastic Cle...   \n",
       "11  [Wonderful Location, Brilliant Staff, Awesome ...   \n",
       "12  [Perfect Location, Superb Staff, Excellent Cle...   \n",
       "13  [Perfect Location, Superb Staff, Fantastic Cle...   \n",
       "14  [Perfect Location, Superb Staff, Excellent Cle...   \n",
       "15                                  [Brilliant Staff]   \n",
       "16  [Great Location, Marvellous Staff, Awesome Cle...   \n",
       "17  [Perfect Location, Superb Staff, Excellent Cle...   \n",
       "18                   [Perfect Location, Superb Staff]   \n",
       "19  [Perfect Location, Superb Staff, Excellent Cle...   \n",
       "20  [Wonderful Location, Superb Staff, Excellent C...   \n",
       "21  [Perfect Location, Superb Staff, Awesome Clean...   \n",
       "22  [Perfect Location, Marvellous Staff, Excellent...   \n",
       "23  [Wonderful Location, Superb Staff, Awesome Cle...   \n",
       "24  [Perfect Location, Superb Staff, Fantastic Cle...   \n",
       "\n",
       "                 Privates from price              Dorms from price  \n",
       "0    Privates From: Rs8999.94 Rs6300  Dorms From: Rs1763.36 Rs1411  \n",
       "1   Privates From: Rs17659.5 Rs14128  Dorms From: Rs3499.24 Rs2799  \n",
       "2                       Not Availble  Dorms From: Rs1528.19 Rs1375  \n",
       "3              Privates From: Rs7815            Dorms From: Rs2460  \n",
       "4              Privates From: Rs6998                  Not Availble  \n",
       "5              Privates From: Rs7249            Dorms From: Rs2393  \n",
       "6              Privates From: Rs7307            Dorms From: Rs2018  \n",
       "7                       Not Availble            Dorms From: Rs1530  \n",
       "8    Privates From: Rs9935.62 Rs8942   Dorms From: Rs1706.3 Rs1536  \n",
       "9              Privates From: Rs8074                  Not Availble  \n",
       "10            Privates From: Rs14997            Dorms From: Rs5249  \n",
       "11             Privates From: Rs7648            Dorms From: Rs1890  \n",
       "12             Privates From: Rs7332            Dorms From: Rs1833  \n",
       "13                      Not Availble            Dorms From: Rs1700  \n",
       "14                      Not Availble  Dorms From: Rs1617.06 Rs1455  \n",
       "15                      Not Availble            Dorms From: Rs1161  \n",
       "16                      Not Availble            Dorms From: Rs1161  \n",
       "17            Privates From: Rs11152                  Not Availble  \n",
       "18                      Not Availble  Dorms From: Rs1601.76 Rs1522  \n",
       "19             Privates From: Rs9871            Dorms From: Rs2608  \n",
       "20             Privates From: Rs6479            Dorms From: Rs1620  \n",
       "21             Privates From: Rs5499            Dorms From: Rs1800  \n",
       "22                      Not Availble  Dorms From: Rs1728.14 Rs1555  \n",
       "23                      Not Availble            Dorms From: Rs1335  \n",
       "24             Privates From: Rs8048                  Not Availble  "
      ]
     },
     "execution_count": 65,
     "metadata": {},
     "output_type": "execute_result"
    }
   ],
   "source": [
    "df"
   ]
  }
 ],
 "metadata": {
  "kernelspec": {
   "display_name": "Python 3 (ipykernel)",
   "language": "python",
   "name": "python3"
  },
  "language_info": {
   "codemirror_mode": {
    "name": "ipython",
    "version": 3
   },
   "file_extension": ".py",
   "mimetype": "text/x-python",
   "name": "python",
   "nbconvert_exporter": "python",
   "pygments_lexer": "ipython3",
   "version": "3.9.13"
  }
 },
 "nbformat": 4,
 "nbformat_minor": 5
}
