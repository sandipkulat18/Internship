{
 "cells": [
  {
   "cell_type": "code",
   "execution_count": 1,
   "id": "070c2e49",
   "metadata": {},
   "outputs": [],
   "source": [
    "import selenium \n",
    "import pandas as pd\n",
    "from selenium import webdriver\n",
    "from selenium.common.exceptions import StaleElementReferenceException,NoSuchElementException\n",
    "from selenium.webdriver.common.by import By\n",
    "import time\n",
    "import warnings\n",
    "warnings.filterwarnings('ignore')"
   ]
  },
  {
   "cell_type": "code",
   "execution_count": 2,
   "id": "6275d5e2",
   "metadata": {},
   "outputs": [],
   "source": [
    "driver=webdriver.Chrome(r'C:\\Users\\admin\\Downloads\\chromedriver_win32\\chromedriver.exe')"
   ]
  },
  {
   "cell_type": "code",
   "execution_count": 3,
   "id": "970c9f6a",
   "metadata": {},
   "outputs": [],
   "source": [
    "driver.get('https://www.amazon.in')"
   ]
  },
  {
   "cell_type": "code",
   "execution_count": null,
   "id": "9b0e1cfc",
   "metadata": {},
   "outputs": [],
   "source": []
  },
  {
   "cell_type": "code",
   "execution_count": 4,
   "id": "fd71b597",
   "metadata": {},
   "outputs": [
    {
     "name": "stdout",
     "output_type": "stream",
     "text": [
      "Enter product to be searched:guitar\n"
     ]
    }
   ],
   "source": [
    "product = input(\"Enter product to be searched:\")\n"
   ]
  },
  {
   "cell_type": "code",
   "execution_count": 5,
   "id": "699eb14f",
   "metadata": {},
   "outputs": [
    {
     "data": {
      "text/plain": [
       "'guitar'"
      ]
     },
     "execution_count": 5,
     "metadata": {},
     "output_type": "execute_result"
    }
   ],
   "source": [
    "product"
   ]
  },
  {
   "cell_type": "code",
   "execution_count": 6,
   "id": "f43ce2fe",
   "metadata": {},
   "outputs": [],
   "source": [
    "search = driver.find_element(By.XPATH,'//input[@class=\"nav-input nav-progressive-attribute\"]')\n",
    "search.send_keys(product)"
   ]
  },
  {
   "cell_type": "code",
   "execution_count": 7,
   "id": "4df85204",
   "metadata": {},
   "outputs": [],
   "source": [
    "btn = driver.find_element(By.XPATH,'//div[@class=\"nav-search-submit nav-sprite\"]')\n",
    "btn.click()"
   ]
  },
  {
   "cell_type": "code",
   "execution_count": 8,
   "id": "be7595aa",
   "metadata": {},
   "outputs": [],
   "source": [
    "url_1=driver.find_elements(By.XPATH,'//a[@class=\"a-link-normal s-no-outline\"]')"
   ]
  },
  {
   "cell_type": "code",
   "execution_count": 9,
   "id": "ccb05990",
   "metadata": {},
   "outputs": [],
   "source": [
    "url=[]\n",
    "start=0\n",
    "end=4\n",
    "for i in range(start,end):\n",
    "    for i in url_1:\n",
    "        a=i.get_attribute('href')\n",
    "        url.append(a)"
   ]
  },
  {
   "cell_type": "code",
   "execution_count": 10,
   "id": "8a9c9f31",
   "metadata": {},
   "outputs": [
    {
     "data": {
      "text/plain": [
       "272"
      ]
     },
     "execution_count": 10,
     "metadata": {},
     "output_type": "execute_result"
    }
   ],
   "source": [
    "len(url)"
   ]
  },
  {
   "cell_type": "code",
   "execution_count": 12,
   "id": "194dbaef",
   "metadata": {},
   "outputs": [],
   "source": [
    "brand=[]\n",
    "Name=[]\n",
    "Price=[]\n",
    "Expected_Delivery=[]\n",
    "Availability=[]\n",
    "Return=[]"
   ]
  },
  {
   "cell_type": "code",
   "execution_count": 13,
   "id": "34139d3d",
   "metadata": {},
   "outputs": [],
   "source": [
    "for i in url:\n",
    "    driver.get(i)\n",
    "    \n",
    "    try:\n",
    "        brand_1=driver.find_elements(By.XPATH,'//span[@class=\"a-size-large product-title-word-break\"]')\n",
    "        #brand.append(brand_1.text)\n",
    "        for j in brand_1:\n",
    "            b=j.text.split()\n",
    "            d=b[0]\n",
    "            brand.append(d)\n",
    "    \n",
    "    except NoSuchElementException:\n",
    "        brand.append('-')\n",
    "    \n",
    "    try:\n",
    "        name_1=driver.find_element(By.XPATH,'//span[@class=\"a-size-large product-title-word-break\"]')\n",
    "        Name.append(name_1.text)\n",
    "    \n",
    "    except NoSuchElementException:\n",
    "        Name.append('-')\n",
    "    try:\n",
    "        price=driver.find_element(By.XPATH,'//span[@class=\"a-price-whole\"]')\n",
    "        Price.append(price.text)\n",
    "    except NoSuchElementException:\n",
    "        Price.append('-')\n",
    "        \n",
    "    # Scarping Availability\n",
    "    try:\n",
    "        avail=driver.find_element(By.XPATH,'//span[@class=\"a-size-medium a-color-success\"]')\n",
    "        Availability.append(avail.text)\n",
    "        \n",
    "    except NoSuchElementException:\n",
    "        Availability.append('--')\n",
    "    # Sacrping Return\n",
    "    try:\n",
    "        retur=driver.find_element(By.XPATH,'//div[@class=\"a-column a-span3 a-text-center icon-container icon-grid-width celwidget\"]/span/div[2]/a')\n",
    "        Return.append(retur.text)\n",
    "    except NoSuchElementException:\n",
    "        Return.append('--')\n",
    "    #scarping Expetred Delivery:\n",
    "    try:\n",
    "        delv=driver.find_element(By.XPATH,'//span[@class=\"a-text-bold\"]')\n",
    "        Expected_Delivery.append(delv.text)\n",
    "    except NoSuchElementException:\n",
    "        Expected_Delivery.append('--')\n",
    "        \n",
    "    "
   ]
  },
  {
   "cell_type": "code",
   "execution_count": 16,
   "id": "2bf89655",
   "metadata": {},
   "outputs": [
    {
     "name": "stdout",
     "output_type": "stream",
     "text": [
      "272 272 272 272 272 272 272\n"
     ]
    }
   ],
   "source": [
    "print(len(brand),len(Name),len(Availability),len(Expected_Delivery),len(Return),len(Price),len(url))"
   ]
  },
  {
   "cell_type": "code",
   "execution_count": 17,
   "id": "8fec924b",
   "metadata": {},
   "outputs": [
    {
     "data": {
      "text/html": [
       "<div>\n",
       "<style scoped>\n",
       "    .dataframe tbody tr th:only-of-type {\n",
       "        vertical-align: middle;\n",
       "    }\n",
       "\n",
       "    .dataframe tbody tr th {\n",
       "        vertical-align: top;\n",
       "    }\n",
       "\n",
       "    .dataframe thead th {\n",
       "        text-align: right;\n",
       "    }\n",
       "</style>\n",
       "<table border=\"1\" class=\"dataframe\">\n",
       "  <thead>\n",
       "    <tr style=\"text-align: right;\">\n",
       "      <th></th>\n",
       "      <th>Brand Name</th>\n",
       "      <th>Product Name</th>\n",
       "      <th>Availability</th>\n",
       "      <th>Expected Delivery</th>\n",
       "      <th>Return</th>\n",
       "      <th>Price</th>\n",
       "      <th>Product URL</th>\n",
       "    </tr>\n",
       "  </thead>\n",
       "  <tbody>\n",
       "    <tr>\n",
       "      <th>0</th>\n",
       "      <td>Kadence</td>\n",
       "      <td>Kadence Slowhand Premium Jumbo Semi Acoustic G...</td>\n",
       "      <td></td>\n",
       "      <td>Sunday, 12 February</td>\n",
       "      <td>7 days Replacement</td>\n",
       "      <td>11,999</td>\n",
       "      <td>https://www.amazon.in/sspa/click?ie=UTF8&amp;spc=M...</td>\n",
       "    </tr>\n",
       "    <tr>\n",
       "      <th>1</th>\n",
       "      <td>Kadence</td>\n",
       "      <td>Kadence Frontier guitar with Online Guitar lea...</td>\n",
       "      <td>In stock.</td>\n",
       "      <td>Monday, 13 February</td>\n",
       "      <td>7 days Replacement</td>\n",
       "      <td>4,949</td>\n",
       "      <td>https://www.amazon.in/sspa/click?ie=UTF8&amp;spc=M...</td>\n",
       "    </tr>\n",
       "    <tr>\n",
       "      <th>2</th>\n",
       "      <td>Vault</td>\n",
       "      <td>Vault DA20 Dreadnought Acoustic Guitar With Gi...</td>\n",
       "      <td>In stock.</td>\n",
       "      <td>Sunday, 12 February</td>\n",
       "      <td>7 days Replacement</td>\n",
       "      <td>4,241</td>\n",
       "      <td>https://www.amazon.in/sspa/click?ie=UTF8&amp;spc=M...</td>\n",
       "    </tr>\n",
       "    <tr>\n",
       "      <th>3</th>\n",
       "      <td>Vault</td>\n",
       "      <td>Vault Traveller 34 Inch Acoustic Guitar With T...</td>\n",
       "      <td>In stock.</td>\n",
       "      <td>Sunday, 12 February</td>\n",
       "      <td>7 days Replacement</td>\n",
       "      <td>4,084</td>\n",
       "      <td>https://www.amazon.in/sspa/click?ie=UTF8&amp;spc=M...</td>\n",
       "    </tr>\n",
       "    <tr>\n",
       "      <th>4</th>\n",
       "      <td>Juârez</td>\n",
       "      <td>Juârez Acoustic Guitar, 38 Inch Cutaway, 038C ...</td>\n",
       "      <td>In stock.</td>\n",
       "      <td>Sunday, 12 February</td>\n",
       "      <td>7 days Replacement</td>\n",
       "      <td>2,399</td>\n",
       "      <td>https://www.amazon.in/Juarez-Acoustic-Cutaway-...</td>\n",
       "    </tr>\n",
       "    <tr>\n",
       "      <th>...</th>\n",
       "      <td>...</td>\n",
       "      <td>...</td>\n",
       "      <td>...</td>\n",
       "      <td>...</td>\n",
       "      <td>...</td>\n",
       "      <td>...</td>\n",
       "      <td>...</td>\n",
       "    </tr>\n",
       "    <tr>\n",
       "      <th>267</th>\n",
       "      <td>Saga</td>\n",
       "      <td>Saga SF-600GC-BK Grand Concert Cutaway Acousti...</td>\n",
       "      <td>In stock.</td>\n",
       "      <td>Wednesday, 15 February</td>\n",
       "      <td>7 days Replacement</td>\n",
       "      <td>8,490</td>\n",
       "      <td>https://www.amazon.in/SF-600GC-NAT-Concert-Cut...</td>\n",
       "    </tr>\n",
       "    <tr>\n",
       "      <th>268</th>\n",
       "      <td>MUSTANG</td>\n",
       "      <td>MUSTANG Junior 30 Inch Acoustic Guitar for Kids</td>\n",
       "      <td>In stock.</td>\n",
       "      <td>Thursday, 16 February</td>\n",
       "      <td>7 days Returnable</td>\n",
       "      <td>1,290</td>\n",
       "      <td>https://www.amazon.in/sspa/click?ie=UTF8&amp;spc=M...</td>\n",
       "    </tr>\n",
       "    <tr>\n",
       "      <th>269</th>\n",
       "      <td>Blueberry</td>\n",
       "      <td>Blueberry 38C, 38\" Acoustic Guitar Kit with Ba...</td>\n",
       "      <td>In stock.</td>\n",
       "      <td>Wednesday, 15 February</td>\n",
       "      <td>7 days Replacement</td>\n",
       "      <td>2,695</td>\n",
       "      <td>https://www.amazon.in/sspa/click?ie=UTF8&amp;spc=M...</td>\n",
       "    </tr>\n",
       "    <tr>\n",
       "      <th>270</th>\n",
       "      <td>DIKUJI</td>\n",
       "      <td>DIKUJI ENTERPRISE Plastic Medium Acoustic Guit...</td>\n",
       "      <td>In stock.</td>\n",
       "      <td>Thursday, 16 February</td>\n",
       "      <td>7 days Replacement</td>\n",
       "      <td>999</td>\n",
       "      <td>https://www.amazon.in/sspa/click?ie=UTF8&amp;spc=M...</td>\n",
       "    </tr>\n",
       "    <tr>\n",
       "      <th>271</th>\n",
       "      <td>Festra</td>\n",
       "      <td>Festra R-40-Natural Acoustic Guitar Kit with B...</td>\n",
       "      <td>In stock.</td>\n",
       "      <td>Wednesday, 15 February</td>\n",
       "      <td>7 days Replacement</td>\n",
       "      <td>4,495</td>\n",
       "      <td>https://www.amazon.in/sspa/click?ie=UTF8&amp;spc=M...</td>\n",
       "    </tr>\n",
       "  </tbody>\n",
       "</table>\n",
       "<p>272 rows × 7 columns</p>\n",
       "</div>"
      ],
      "text/plain": [
       "    Brand Name                                       Product Name  \\\n",
       "0      Kadence  Kadence Slowhand Premium Jumbo Semi Acoustic G...   \n",
       "1      Kadence  Kadence Frontier guitar with Online Guitar lea...   \n",
       "2        Vault  Vault DA20 Dreadnought Acoustic Guitar With Gi...   \n",
       "3        Vault  Vault Traveller 34 Inch Acoustic Guitar With T...   \n",
       "4       Juârez  Juârez Acoustic Guitar, 38 Inch Cutaway, 038C ...   \n",
       "..         ...                                                ...   \n",
       "267       Saga  Saga SF-600GC-BK Grand Concert Cutaway Acousti...   \n",
       "268    MUSTANG    MUSTANG Junior 30 Inch Acoustic Guitar for Kids   \n",
       "269  Blueberry  Blueberry 38C, 38\" Acoustic Guitar Kit with Ba...   \n",
       "270     DIKUJI  DIKUJI ENTERPRISE Plastic Medium Acoustic Guit...   \n",
       "271     Festra  Festra R-40-Natural Acoustic Guitar Kit with B...   \n",
       "\n",
       "    Availability       Expected Delivery              Return   Price  \\\n",
       "0                    Sunday, 12 February  7 days Replacement  11,999   \n",
       "1      In stock.     Monday, 13 February  7 days Replacement   4,949   \n",
       "2      In stock.     Sunday, 12 February  7 days Replacement   4,241   \n",
       "3      In stock.     Sunday, 12 February  7 days Replacement   4,084   \n",
       "4      In stock.     Sunday, 12 February  7 days Replacement   2,399   \n",
       "..           ...                     ...                 ...     ...   \n",
       "267    In stock.  Wednesday, 15 February  7 days Replacement   8,490   \n",
       "268    In stock.   Thursday, 16 February   7 days Returnable   1,290   \n",
       "269    In stock.  Wednesday, 15 February  7 days Replacement   2,695   \n",
       "270    In stock.   Thursday, 16 February  7 days Replacement     999   \n",
       "271    In stock.  Wednesday, 15 February  7 days Replacement   4,495   \n",
       "\n",
       "                                           Product URL  \n",
       "0    https://www.amazon.in/sspa/click?ie=UTF8&spc=M...  \n",
       "1    https://www.amazon.in/sspa/click?ie=UTF8&spc=M...  \n",
       "2    https://www.amazon.in/sspa/click?ie=UTF8&spc=M...  \n",
       "3    https://www.amazon.in/sspa/click?ie=UTF8&spc=M...  \n",
       "4    https://www.amazon.in/Juarez-Acoustic-Cutaway-...  \n",
       "..                                                 ...  \n",
       "267  https://www.amazon.in/SF-600GC-NAT-Concert-Cut...  \n",
       "268  https://www.amazon.in/sspa/click?ie=UTF8&spc=M...  \n",
       "269  https://www.amazon.in/sspa/click?ie=UTF8&spc=M...  \n",
       "270  https://www.amazon.in/sspa/click?ie=UTF8&spc=M...  \n",
       "271  https://www.amazon.in/sspa/click?ie=UTF8&spc=M...  \n",
       "\n",
       "[272 rows x 7 columns]"
      ]
     },
     "execution_count": 17,
     "metadata": {},
     "output_type": "execute_result"
    }
   ],
   "source": [
    "table=pd.DataFrame({})\n",
    "table['Brand Name']=brand[:]\n",
    "table['Product Name']=Name[:]\n",
    "table['Availability']=Availability[:]\n",
    "table['Expected Delivery']=Expected_Delivery[:]\n",
    "table['Return']=Return[:]\n",
    "table['Price']=Price[:]\n",
    "table['Product URL']=url[0:]\n",
    "\n",
    "table"
   ]
  },
  {
   "cell_type": "code",
   "execution_count": null,
   "id": "44e0a8b2",
   "metadata": {},
   "outputs": [],
   "source": []
  }
 ],
 "metadata": {
  "kernelspec": {
   "display_name": "Python 3 (ipykernel)",
   "language": "python",
   "name": "python3"
  },
  "language_info": {
   "codemirror_mode": {
    "name": "ipython",
    "version": 3
   },
   "file_extension": ".py",
   "mimetype": "text/x-python",
   "name": "python",
   "nbconvert_exporter": "python",
   "pygments_lexer": "ipython3",
   "version": "3.9.13"
  }
 },
 "nbformat": 4,
 "nbformat_minor": 5
}
