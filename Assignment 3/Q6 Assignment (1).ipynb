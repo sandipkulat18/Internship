{
 "cells": [
  {
   "cell_type": "code",
   "execution_count": 1,
   "id": "5d8f3815",
   "metadata": {},
   "outputs": [],
   "source": [
    "import selenium\n",
    "import pandas as pd\n",
    "from selenium import webdriver\n",
    "from selenium.common.exceptions import StaleElementReferenceException,NoSuchElementException\n",
    "from selenium.webdriver.common.by import By\n",
    "import time\n",
    "import warnings\n",
    "warnings.filterwarnings('ignore')"
   ]
  },
  {
   "cell_type": "code",
   "execution_count": 2,
   "id": "24101fbb",
   "metadata": {},
   "outputs": [],
   "source": [
    "driver=webdriver.Chrome(r\"‪C:\\Users\\admin\\Downloads\\chromedriver_win32\\chromedriver.exe\")"
   ]
  },
  {
   "cell_type": "code",
   "execution_count": 3,
   "id": "df91807a",
   "metadata": {},
   "outputs": [],
   "source": [
    "driver.get('https://www.digit.in/')\n"
   ]
  },
  {
   "cell_type": "code",
   "execution_count": 4,
   "id": "3c28bddf",
   "metadata": {},
   "outputs": [],
   "source": [
    "search = driver.find_element(By.XPATH,\"//div[@class='listing_container']/ul/li[9]\")\n",
    "search.click()"
   ]
  },
  {
   "cell_type": "code",
   "execution_count": 5,
   "id": "962f5836",
   "metadata": {},
   "outputs": [],
   "source": [
    "lap_1=driver.find_elements(By.XPATH,'//div[@class=\"product-detail\"]/div/ul/li[1]')"
   ]
  },
  {
   "cell_type": "code",
   "execution_count": 6,
   "id": "5652d5d6",
   "metadata": {},
   "outputs": [],
   "source": [
    "os=[]"
   ]
  },
  {
   "cell_type": "code",
   "execution_count": 7,
   "id": "0f1277db",
   "metadata": {},
   "outputs": [],
   "source": [
    "for i in lap_1:\n",
    "    os.append(i.text)"
   ]
  },
  {
   "cell_type": "code",
   "execution_count": 8,
   "id": "f5a93ef4",
   "metadata": {},
   "outputs": [
    {
     "data": {
      "text/plain": [
       "['Windows 11 Home OS']"
      ]
     },
     "execution_count": 8,
     "metadata": {},
     "output_type": "execute_result"
    }
   ],
   "source": [
    "os[0:1]"
   ]
  },
  {
   "cell_type": "code",
   "execution_count": 9,
   "id": "13da5ec4",
   "metadata": {},
   "outputs": [],
   "source": [
    "disp=[]\n",
    "Pro=[]\n",
    "mems=[]"
   ]
  },
  {
   "cell_type": "code",
   "execution_count": 10,
   "id": "7cd4a342",
   "metadata": {},
   "outputs": [],
   "source": [
    "dis=driver.find_elements(By.XPATH,'//div[@class=\"product-detail\"]/div/ul/li[2]')\n",
    "pr=driver.find_elements(By.XPATH,'//div[@class=\"Spcs-details\"]/table/tbody/tr[2]/td[3]')\n",
    "mem=driver.find_elements(By.XPATH,'//div[@class=\"Spcs-details\"]/table/tbody/tr[5]/td[3]')\n"
   ]
  },
  {
   "cell_type": "code",
   "execution_count": 11,
   "id": "17170a2a",
   "metadata": {},
   "outputs": [],
   "source": [
    "for i in dis:\n",
    "    disp.append(i.text)\n",
    "for i in pr:\n",
    "    a=i.text\n",
    "    Pro.append(a)\n"
   ]
  },
  {
   "cell_type": "code",
   "execution_count": 12,
   "id": "f4064787",
   "metadata": {},
   "outputs": [
    {
     "data": {
      "text/plain": [
       "['17.3\" (3840 x 2160) Display', '17.3\" (1920 x 1080) Display']"
      ]
     },
     "execution_count": 12,
     "metadata": {},
     "output_type": "execute_result"
    }
   ],
   "source": [
    "disp[0:2]"
   ]
  },
  {
   "cell_type": "code",
   "execution_count": 13,
   "id": "949bb027",
   "metadata": {},
   "outputs": [
    {
     "data": {
      "text/plain": [
       "['12th Gen Intel Core i9-12900HX 16 core processor',\n",
       " '12th Gen Intel Core i9-12900H 14 core processor with 5 GHz clock speed']"
      ]
     },
     "execution_count": 13,
     "metadata": {},
     "output_type": "execute_result"
    }
   ],
   "source": [
    "Pro[0:2]"
   ]
  },
  {
   "cell_type": "code",
   "execution_count": 14,
   "id": "7c23a5db",
   "metadata": {},
   "outputs": [],
   "source": [
    "me=driver.find_elements(By.XPATH,'//div[@class=\"Spcs-details\"]/table/tbody/tr[5]/td[3]')\n",
    "for i in me:\n",
    "    mems.append(i.text)"
   ]
  },
  {
   "cell_type": "code",
   "execution_count": 15,
   "id": "16981920",
   "metadata": {},
   "outputs": [
    {
     "data": {
      "text/plain": [
       "['64 GB DDR5 RAM & 2 TB SSD', '32 GB DDR5 RAM & 1 TB SSD']"
      ]
     },
     "execution_count": 15,
     "metadata": {},
     "output_type": "execute_result"
    }
   ],
   "source": [
    "mems[0:2]"
   ]
  },
  {
   "cell_type": "code",
   "execution_count": 16,
   "id": "04d95f17",
   "metadata": {},
   "outputs": [],
   "source": [
    "price_1=driver.find_elements(By.XPATH,\"//table[@id='summtable']/tbody/tr/td[3]\")"
   ]
  },
  {
   "cell_type": "code",
   "execution_count": 17,
   "id": "cfa1ac52",
   "metadata": {},
   "outputs": [],
   "source": [
    "price=[]\n",
    "for i in price_1:\n",
    "    price.append(i.text)"
   ]
  },
  {
   "cell_type": "code",
   "execution_count": 18,
   "id": "4a38f9ae",
   "metadata": {},
   "outputs": [
    {
     "data": {
      "text/plain": [
       "['N/A', '₹ 389,990', '₹ 229,990']"
      ]
     },
     "execution_count": 18,
     "metadata": {},
     "output_type": "execute_result"
    }
   ],
   "source": [
    "price[0:3]"
   ]
  },
  {
   "cell_type": "code",
   "execution_count": 19,
   "id": "bf7ea5c0",
   "metadata": {},
   "outputs": [],
   "source": [
    "seller_1=driver.find_elements(By.XPATH,\"//table[@id='summtable']/tbody/tr/td[2]\")"
   ]
  },
  {
   "cell_type": "code",
   "execution_count": 20,
   "id": "0085a7d2",
   "metadata": {},
   "outputs": [],
   "source": [
    "seller=[]\n",
    "for i in seller_1:\n",
    "    seller.append(i.text)"
   ]
  },
  {
   "cell_type": "code",
   "execution_count": 21,
   "id": "eebc5e59",
   "metadata": {},
   "outputs": [
    {
     "name": "stdout",
     "output_type": "stream",
     "text": [
      "10 10 10 10 10 10\n"
     ]
    }
   ],
   "source": [
    "print(len(os),len(disp),len(Pro),len(mems),len(price),len(seller))"
   ]
  },
  {
   "cell_type": "code",
   "execution_count": 22,
   "id": "b7c4c33e",
   "metadata": {},
   "outputs": [],
   "source": [
    "gp=driver.find_elements(By.XPATH,'//div[@class=\"Spcs-details\"]/table/tbody/tr[6]/td[3]')\n",
    "gps=[]\n",
    "for i in gp:\n",
    "    gps.append(i.text)"
   ]
  },
  {
   "cell_type": "code",
   "execution_count": 23,
   "id": "95c06cdb",
   "metadata": {},
   "outputs": [
    {
     "data": {
      "text/plain": [
       "['16 GB DDR6 NVIDIA GeForce RTX 3080 Ti Graphics card',\n",
       " '16 GB DDR6 NVIDIA GEFORCE RTX 3080 Ti Graphics card']"
      ]
     },
     "execution_count": 23,
     "metadata": {},
     "output_type": "execute_result"
    }
   ],
   "source": [
    "gps[0:2]"
   ]
  },
  {
   "cell_type": "code",
   "execution_count": 29,
   "id": "33a5790d",
   "metadata": {},
   "outputs": [],
   "source": [
    "wt=driver.find_elements(By.XPATH,'//div[@class=\"Spcs-details\"]/table/tbody/tr[7]/td[3]')\n",
    "wei=[]\n",
    "for i in wt:\n",
    "    wei.append(i.text.split('&')[1])"
   ]
  },
  {
   "cell_type": "code",
   "execution_count": 32,
   "id": "2646548f",
   "metadata": {},
   "outputs": [],
   "source": [
    "dm=driver.find_elements(By.XPATH,'//div[@class=\"Spcs-details\"]/table/tbody/tr[7]/td[3]')\n",
    "dim=[]\n",
    "for i in dm:\n",
    "    dim.append(i.text.split('&')[0])"
   ]
  },
  {
   "cell_type": "code",
   "execution_count": 33,
   "id": "91022bed",
   "metadata": {},
   "outputs": [
    {
     "data": {
      "text/plain": [
       "['397 x 330 x 23 mm dimension ', '299 x 359 x 21 mm dimension ']"
      ]
     },
     "execution_count": 33,
     "metadata": {},
     "output_type": "execute_result"
    }
   ],
   "source": [
    "dim[0:2]"
   ]
  },
  {
   "cell_type": "code",
   "execution_count": 34,
   "id": "5d0ee0bb",
   "metadata": {},
   "outputs": [
    {
     "data": {
      "text/plain": [
       "[' 3.3 kg weight', ' 2.96 kg weight']"
      ]
     },
     "execution_count": 34,
     "metadata": {},
     "output_type": "execute_result"
    }
   ],
   "source": [
    "wei[0:2]"
   ]
  },
  {
   "cell_type": "code",
   "execution_count": 31,
   "id": "90645b3e",
   "metadata": {},
   "outputs": [],
   "source": [
    "import pandas as pd"
   ]
  },
  {
   "cell_type": "code",
   "execution_count": 35,
   "id": "b23b7405",
   "metadata": {},
   "outputs": [
    {
     "data": {
      "text/html": [
       "<div>\n",
       "<style scoped>\n",
       "    .dataframe tbody tr th:only-of-type {\n",
       "        vertical-align: middle;\n",
       "    }\n",
       "\n",
       "    .dataframe tbody tr th {\n",
       "        vertical-align: top;\n",
       "    }\n",
       "\n",
       "    .dataframe thead th {\n",
       "        text-align: right;\n",
       "    }\n",
       "</style>\n",
       "<table border=\"1\" class=\"dataframe\">\n",
       "  <thead>\n",
       "    <tr style=\"text-align: right;\">\n",
       "      <th></th>\n",
       "      <th>OS</th>\n",
       "      <th>Display</th>\n",
       "      <th>Processor</th>\n",
       "      <th>Memory</th>\n",
       "      <th>Weight</th>\n",
       "      <th>Dimension</th>\n",
       "      <th>Graphic Processor</th>\n",
       "      <th>Price</th>\n",
       "      <th>Seller</th>\n",
       "    </tr>\n",
       "  </thead>\n",
       "  <tbody>\n",
       "    <tr>\n",
       "      <th>0</th>\n",
       "      <td>Windows 11 Home OS</td>\n",
       "      <td>17.3\" (3840 x 2160) Display</td>\n",
       "      <td>12th Gen Intel Core i9-12900HX 16 core processor</td>\n",
       "      <td>64 GB DDR5 RAM &amp; 2 TB SSD</td>\n",
       "      <td>3.3 kg weight</td>\n",
       "      <td>397 x 330 x 23 mm dimension</td>\n",
       "      <td>16 GB DDR6 NVIDIA GeForce RTX 3080 Ti Graphics...</td>\n",
       "      <td>N/A</td>\n",
       "      <td>N/A</td>\n",
       "    </tr>\n",
       "    <tr>\n",
       "      <th>1</th>\n",
       "      <td>Windows 11 Home OS</td>\n",
       "      <td>17.3\" (1920 x 1080) Display</td>\n",
       "      <td>12th Gen Intel Core i9-12900H 14 core processo...</td>\n",
       "      <td>32 GB DDR5 RAM &amp; 1 TB SSD</td>\n",
       "      <td>2.96 kg weight</td>\n",
       "      <td>299 x 359 x 21 mm dimension</td>\n",
       "      <td>16 GB DDR6 NVIDIA GEFORCE RTX 3080 Ti Graphics...</td>\n",
       "      <td>₹ 389,990</td>\n",
       "      <td>Croma</td>\n",
       "    </tr>\n",
       "    <tr>\n",
       "      <th>2</th>\n",
       "      <td>Windows 11 OS</td>\n",
       "      <td>16\" (2560 x 1600) Display</td>\n",
       "      <td>12th Gen Intel Core i7-12700H 14 core processo...</td>\n",
       "      <td>32 GB DDR5 RAM &amp; 2 TB SSD</td>\n",
       "      <td>2.4 kg weight</td>\n",
       "      <td>262 x 359 x 20 mm dimension</td>\n",
       "      <td>8 GB DDR6 NVIDIA GeForce RTX 3070 Ti Graphics ...</td>\n",
       "      <td>₹ 229,990</td>\n",
       "      <td>Amazon</td>\n",
       "    </tr>\n",
       "    <tr>\n",
       "      <th>3</th>\n",
       "      <td>Windows 11 Home OS</td>\n",
       "      <td>16.1\" (2560 x 1440) Display</td>\n",
       "      <td>12th Gen Intel Core i7-12700H 14 core processo...</td>\n",
       "      <td>8 GB DDR5 RAM &amp; 1 TB SSD</td>\n",
       "      <td>2.32 kg weight</td>\n",
       "      <td>369 x 248 x 23 mm dimension</td>\n",
       "      <td>8 GB GDDR6 NVIDIA GeForce RTX 3070 Graphics card</td>\n",
       "      <td>₹ 176,490</td>\n",
       "      <td>Amazon</td>\n",
       "    </tr>\n",
       "    <tr>\n",
       "      <th>4</th>\n",
       "      <td>Windows 11 Home OS</td>\n",
       "      <td>15.6\" (2560 x 1440) Display</td>\n",
       "      <td>AMD Ryzen 9-5900HX 8 core processor</td>\n",
       "      <td>16 GB DDR4 RAM &amp; 512 GB SSD</td>\n",
       "      <td>2.4 kg weight</td>\n",
       "      <td>363 x 255 x 23.9 mm dimension</td>\n",
       "      <td>8 GB DDR6 NVIDIA GeForce RTX 3070 Graphics card</td>\n",
       "      <td>₹ 172,999</td>\n",
       "      <td>N/A</td>\n",
       "    </tr>\n",
       "    <tr>\n",
       "      <th>5</th>\n",
       "      <td>Windows 11 Home OS</td>\n",
       "      <td>15.6\" (1920 x 1080) Display</td>\n",
       "      <td>AMD 5th Gen Ryzen 9-5900HX 8 core processor wi...</td>\n",
       "      <td>16 GB DDR4 RAM &amp; 1 TB SSD</td>\n",
       "      <td>1.9 kg weight</td>\n",
       "      <td>357 x 247 x 19 mm dimension</td>\n",
       "      <td>10 GB DDR6 AMD Radeon RX 6700M Graphics card</td>\n",
       "      <td>₹ 188,990</td>\n",
       "      <td>N/A</td>\n",
       "    </tr>\n",
       "    <tr>\n",
       "      <th>6</th>\n",
       "      <td>Windows 11 Home OS</td>\n",
       "      <td>16.1\" (2560 x 1440) Display</td>\n",
       "      <td>AMD Ryzen™ 9 5900HX 8 core processor with 3.3 ...</td>\n",
       "      <td>16 GB DDR4 RAM &amp; 1 TB NVMe</td>\n",
       "      <td>2.3 kg weight</td>\n",
       "      <td>36.92 x 24.8 x 2.3 mm dimension</td>\n",
       "      <td>8 GB GDDR6 AMD Radeon™ RX 6600M Graphics card</td>\n",
       "      <td>₹ 124,990</td>\n",
       "      <td>Croma</td>\n",
       "    </tr>\n",
       "    <tr>\n",
       "      <th>7</th>\n",
       "      <td>Windows 11 Home OS</td>\n",
       "      <td>16\" (2560 x 1600) Display</td>\n",
       "      <td>12th Gen Intel Core i7-12700H 14 core processo...</td>\n",
       "      <td>16 GB DDR5 RAM &amp; 1 TB SSD</td>\n",
       "      <td>2.49 kg weight</td>\n",
       "      <td>360 x 264 x 20 mm dimension</td>\n",
       "      <td>6 GB DDR6 NVIDIA GeForce RTX 3060 Graphics card</td>\n",
       "      <td>₹ 167,990</td>\n",
       "      <td>Amazon</td>\n",
       "    </tr>\n",
       "    <tr>\n",
       "      <th>8</th>\n",
       "      <td>Windows 11 Home OS</td>\n",
       "      <td>15.6\" (1920 x 1080) Display</td>\n",
       "      <td>AMD Ryzen R7-5800H 8 core processor with 4.40 ...</td>\n",
       "      <td>16 GB DDR4 RAM &amp; 512 GB SSD</td>\n",
       "      <td>2.69 kg weight</td>\n",
       "      <td>356.2 x 272.5 x 22.85 mm dimension</td>\n",
       "      <td>6 GB DDR6 NVIDIA GeForce RTX 3060 Graphics card</td>\n",
       "      <td>₹ 174,000</td>\n",
       "      <td>Amazon</td>\n",
       "    </tr>\n",
       "    <tr>\n",
       "      <th>9</th>\n",
       "      <td>Windows 11 Home OS</td>\n",
       "      <td>15.6 MP | NA Display</td>\n",
       "      <td>Lenovo Ryzen 7-5800H processor with 3.2 GHz cl...</td>\n",
       "      <td>16 GB DDR4 RAM &amp; 1 TB SSD</td>\n",
       "      <td>1.9 kg weight</td>\n",
       "      <td>356 x 252 x 16 mm dimension</td>\n",
       "      <td>6 GB DDR6 NVIDIA GeForce 3060 Max-Q Graphics card</td>\n",
       "      <td>₹ 131,990</td>\n",
       "      <td>Croma</td>\n",
       "    </tr>\n",
       "  </tbody>\n",
       "</table>\n",
       "</div>"
      ],
      "text/plain": [
       "                   OS                      Display  \\\n",
       "0  Windows 11 Home OS  17.3\" (3840 x 2160) Display   \n",
       "1  Windows 11 Home OS  17.3\" (1920 x 1080) Display   \n",
       "2       Windows 11 OS    16\" (2560 x 1600) Display   \n",
       "3  Windows 11 Home OS  16.1\" (2560 x 1440) Display   \n",
       "4  Windows 11 Home OS  15.6\" (2560 x 1440) Display   \n",
       "5  Windows 11 Home OS  15.6\" (1920 x 1080) Display   \n",
       "6  Windows 11 Home OS  16.1\" (2560 x 1440) Display   \n",
       "7  Windows 11 Home OS    16\" (2560 x 1600) Display   \n",
       "8  Windows 11 Home OS  15.6\" (1920 x 1080) Display   \n",
       "9  Windows 11 Home OS         15.6 MP | NA Display   \n",
       "\n",
       "                                           Processor  \\\n",
       "0   12th Gen Intel Core i9-12900HX 16 core processor   \n",
       "1  12th Gen Intel Core i9-12900H 14 core processo...   \n",
       "2  12th Gen Intel Core i7-12700H 14 core processo...   \n",
       "3  12th Gen Intel Core i7-12700H 14 core processo...   \n",
       "4                AMD Ryzen 9-5900HX 8 core processor   \n",
       "5  AMD 5th Gen Ryzen 9-5900HX 8 core processor wi...   \n",
       "6  AMD Ryzen™ 9 5900HX 8 core processor with 3.3 ...   \n",
       "7  12th Gen Intel Core i7-12700H 14 core processo...   \n",
       "8  AMD Ryzen R7-5800H 8 core processor with 4.40 ...   \n",
       "9  Lenovo Ryzen 7-5800H processor with 3.2 GHz cl...   \n",
       "\n",
       "                        Memory           Weight  \\\n",
       "0    64 GB DDR5 RAM & 2 TB SSD    3.3 kg weight   \n",
       "1    32 GB DDR5 RAM & 1 TB SSD   2.96 kg weight   \n",
       "2    32 GB DDR5 RAM & 2 TB SSD    2.4 kg weight   \n",
       "3     8 GB DDR5 RAM & 1 TB SSD   2.32 kg weight   \n",
       "4  16 GB DDR4 RAM & 512 GB SSD    2.4 kg weight   \n",
       "5    16 GB DDR4 RAM & 1 TB SSD    1.9 kg weight   \n",
       "6   16 GB DDR4 RAM & 1 TB NVMe    2.3 kg weight   \n",
       "7    16 GB DDR5 RAM & 1 TB SSD   2.49 kg weight   \n",
       "8  16 GB DDR4 RAM & 512 GB SSD   2.69 kg weight   \n",
       "9    16 GB DDR4 RAM & 1 TB SSD    1.9 kg weight   \n",
       "\n",
       "                             Dimension  \\\n",
       "0         397 x 330 x 23 mm dimension    \n",
       "1         299 x 359 x 21 mm dimension    \n",
       "2         262 x 359 x 20 mm dimension    \n",
       "3         369 x 248 x 23 mm dimension    \n",
       "4       363 x 255 x 23.9 mm dimension    \n",
       "5         357 x 247 x 19 mm dimension    \n",
       "6     36.92 x 24.8 x 2.3 mm dimension    \n",
       "7         360 x 264 x 20 mm dimension    \n",
       "8  356.2 x 272.5 x 22.85 mm dimension    \n",
       "9         356 x 252 x 16 mm dimension    \n",
       "\n",
       "                                   Graphic Processor      Price  Seller  \n",
       "0  16 GB DDR6 NVIDIA GeForce RTX 3080 Ti Graphics...        N/A     N/A  \n",
       "1  16 GB DDR6 NVIDIA GEFORCE RTX 3080 Ti Graphics...  ₹ 389,990   Croma  \n",
       "2  8 GB DDR6 NVIDIA GeForce RTX 3070 Ti Graphics ...  ₹ 229,990  Amazon  \n",
       "3   8 GB GDDR6 NVIDIA GeForce RTX 3070 Graphics card  ₹ 176,490  Amazon  \n",
       "4    8 GB DDR6 NVIDIA GeForce RTX 3070 Graphics card  ₹ 172,999     N/A  \n",
       "5       10 GB DDR6 AMD Radeon RX 6700M Graphics card  ₹ 188,990     N/A  \n",
       "6      8 GB GDDR6 AMD Radeon™ RX 6600M Graphics card  ₹ 124,990   Croma  \n",
       "7    6 GB DDR6 NVIDIA GeForce RTX 3060 Graphics card  ₹ 167,990  Amazon  \n",
       "8    6 GB DDR6 NVIDIA GeForce RTX 3060 Graphics card  ₹ 174,000  Amazon  \n",
       "9  6 GB DDR6 NVIDIA GeForce 3060 Max-Q Graphics card  ₹ 131,990   Croma  "
      ]
     },
     "execution_count": 35,
     "metadata": {},
     "output_type": "execute_result"
    }
   ],
   "source": [
    "table=pd.DataFrame({})\n",
    "table['OS']=os[:]\n",
    "table['Display']=disp[:]\n",
    "table['Processor']=Pro[:]\n",
    "table['Memory']=mems[:]\n",
    "table['Weight']=wei[:]\n",
    "table[\"Dimension\"]=dim[:]\n",
    "table['Graphic Processor']=gps[:]\n",
    "table['Price']=price[:]\n",
    "table['Seller']=seller[:]\n",
    "table"
   ]
  },
  {
   "cell_type": "code",
   "execution_count": null,
   "id": "fda12b73",
   "metadata": {},
   "outputs": [],
   "source": []
  }
 ],
 "metadata": {
  "kernelspec": {
   "display_name": "Python 3 (ipykernel)",
   "language": "python",
   "name": "python3"
  },
  "language_info": {
   "codemirror_mode": {
    "name": "ipython",
    "version": 3
   },
   "file_extension": ".py",
   "mimetype": "text/x-python",
   "name": "python",
   "nbconvert_exporter": "python",
   "pygments_lexer": "ipython3",
   "version": "3.9.13"
  }
 },
 "nbformat": 4,
 "nbformat_minor": 5
}
